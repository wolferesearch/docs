{
 "cells": [
  {
   "cell_type": "markdown",
   "metadata": {},
   "source": [
    "# Attribution Demo Case 14: UsingRegionInsteadofCountryClassification"
   ]
  },
  {
   "cell_type": "markdown",
   "metadata": {},
   "source": [
    "## Environment setup"
   ]
  },
  {
   "cell_type": "code",
   "execution_count": 1,
   "metadata": {
    "collapsed": true
   },
   "outputs": [],
   "source": [
    "import sys\n",
    "sys.path.append(\"../src/\")"
   ]
  },
  {
   "cell_type": "markdown",
   "metadata": {},
   "source": [
    "## Basic configuration"
   ]
  },
  {
   "cell_type": "code",
   "execution_count": 2,
   "metadata": {
    "collapsed": false
   },
   "outputs": [
    {
     "name": "stderr",
     "output_type": "stream",
     "text": [
      "2020-08-04 20:39:04,705 - lquantPy.LQuant - INFO - Initial LQuant. This may take some time...\n",
      "2020-08-04 20:39:04,708 - lquantPy.LQuant - INFO - Initialized LQuant environment\n",
      "2020-08-04 20:39:04,709 - lquantPy.LQuant - INFO - Initializing LQuant, This will take some time....\n"
     ]
    },
    {
     "name": "stdout",
     "output_type": "stream",
     "text": [
      "Library Path -Djava.library.path=/usr/local/lib/R/site-library/rJava/jri\n"
     ]
    }
   ],
   "source": [
    "from attribution.common.constants import wq\n",
    "from attribution.attribution_core import (\n",
    "    data_query, filtered_by_in, portfolio_weights_regularization\n",
    ")\n",
    "from attribution.axioma_utils import axioma_etf_add_consti_weight\n",
    "\n",
    "from attribution.attribution_class import AttributionGlobal, AttributionResult"
   ]
  },
  {
   "cell_type": "code",
   "execution_count": 3,
   "metadata": {
    "collapsed": false
   },
   "outputs": [],
   "source": [
    "sample_config = {\n",
    "    \"factor_universe\": \"CIQMSCI_379978898__OR__Merrion_20200313_v2\",\n",
    "    \"factor_universe_name\": \"MSCI World\",\n",
    "    \"port_id\": \"Merrion_20200313_v2\",\n",
    "    \"port_name\": \"Merrion\",\n",
    "    \"weight_tag\": \"WEIGHT\",\n",
    "    \"style_factors\": [\n",
    "        \"EPSYLD_LTM_B\", \"RTN_12M1M\", \"ES_EPS_NTM_R3M\", \"FCFYLD\",\n",
    "        \"ROE\", \"REAL_VOL\", \"MKTCAP\", \"DIVYLD_TRL\", \"BOOKP\",\n",
    "        \"GR_INTR_EPS\", \"GR_EXP_5Y_EPS\", \"DX_UTILIZATION\",\n",
    "        \"QES_MACROBETA2_WTI_TR\", \"QES_SIRC_LEV\", \"QES_MACROBETA2_HY_SPREADS\"\n",
    "    ],\n",
    "    \"style_factor_names\": [\n",
    "        \"Earnings Yld\", \"Momentum (12M-1M)\", \"Revision\", \"Free Cashflow Yld\",\n",
    "        \"Profitability\", \"Volatility\", \"Size (MktCap)\", \"Dividend Yld\", \"Book To Market\",\n",
    "        \"EPS Growth (YoY)\", \"EPS Exp Growth(5Y)\", \"Short Interest\",\n",
    "        \"Oil Beta\", \"Interest Rate\", \"High Yield Spread\"\n",
    "    ],\n",
    "    \"base_dir\": \"/mnt/ebs1/data/hwei/attribution/test/20200731\",\n",
    "}"
   ]
  },
  {
   "cell_type": "markdown",
   "metadata": {},
   "source": [
    "## Get Portofolio Weight Matrix\n",
    "- Raw data from data_query function\n",
    "- market value from filtered_by_in function\n",
    "- portofolio weight matrix from portfolio_weights_regularization function"
   ]
  },
  {
   "cell_type": "code",
   "execution_count": 4,
   "metadata": {
    "collapsed": true
   },
   "outputs": [],
   "source": [
    "def get_portfolio_date_list(port_id):\n",
    "    var_name = \"tmp\"\n",
    "    r_cmd = \"{} <- wq.port.get(id = '{}')$dates()\".format(var_name, port_id)\n",
    "    wq.env().run(r_cmd)\n",
    "    date_list = wq.env().get(var_name).as_string_array()\n",
    "    wq.env().run(\"rm({})\".format(var_name))\n",
    "    return date_list"
   ]
  },
  {
   "cell_type": "code",
   "execution_count": 5,
   "metadata": {
    "collapsed": false
   },
   "outputs": [
    {
     "name": "stdout",
     "output_type": "stream",
     "text": [
      "Portfolio[Merrion_20200313_v2], Start[2019-01-04], End[2020-02-28]\n"
     ]
    }
   ],
   "source": [
    "portfolio_date_list = get_portfolio_date_list(port_id=sample_config[\"port_id\"])\n",
    "print(\"Portfolio[{}], Start[{}], End[{}]\".format(sample_config[\"port_id\"], portfolio_date_list[0], portfolio_date_list[-1]))"
   ]
  },
  {
   "cell_type": "code",
   "execution_count": 6,
   "metadata": {
    "collapsed": false
   },
   "outputs": [],
   "source": [
    "raw_data = data_query(\n",
    "    universe_name=sample_config[\"port_id\"],\n",
    "    date_list=portfolio_date_list,\n",
    "    factor_list=[\n",
    "        \"IN_{}\".format(sample_config[\"port_id\"]),\n",
    "        \"{}_{}\".format(sample_config[\"port_id\"], sample_config[\"weight_tag\"]),\n",
    "        \"SEDOL\"\n",
    "    ],\n",
    "    s_date=None, e_date=None, freq=None, weekdays_only=False,\n",
    "    local_mode=False, stocks=False, region=False\n",
    ")"
   ]
  },
  {
   "cell_type": "code",
   "execution_count": 7,
   "metadata": {
    "collapsed": false
   },
   "outputs": [
    {
     "data": {
      "text/html": [
       "<div>\n",
       "<style scoped>\n",
       "    .dataframe tbody tr th:only-of-type {\n",
       "        vertical-align: middle;\n",
       "    }\n",
       "\n",
       "    .dataframe tbody tr th {\n",
       "        vertical-align: top;\n",
       "    }\n",
       "\n",
       "    .dataframe thead th {\n",
       "        text-align: right;\n",
       "    }\n",
       "</style>\n",
       "<table border=\"1\" class=\"dataframe\">\n",
       "  <thead>\n",
       "    <tr style=\"text-align: right;\">\n",
       "      <th></th>\n",
       "      <th>2019-01-04</th>\n",
       "      <th>2019-01-11</th>\n",
       "      <th>2019-01-18</th>\n",
       "      <th>2019-01-25</th>\n",
       "      <th>2019-02-01</th>\n",
       "      <th>2019-02-08</th>\n",
       "      <th>2019-02-15</th>\n",
       "      <th>2019-02-22</th>\n",
       "      <th>2019-03-01</th>\n",
       "      <th>2019-03-08</th>\n",
       "      <th>...</th>\n",
       "      <th>2019-12-31</th>\n",
       "      <th>2020-01-03</th>\n",
       "      <th>2020-01-10</th>\n",
       "      <th>2020-01-17</th>\n",
       "      <th>2020-01-24</th>\n",
       "      <th>2020-01-31</th>\n",
       "      <th>2020-02-07</th>\n",
       "      <th>2020-02-14</th>\n",
       "      <th>2020-02-21</th>\n",
       "      <th>2020-02-28</th>\n",
       "    </tr>\n",
       "  </thead>\n",
       "  <tbody>\n",
       "    <tr>\n",
       "      <th>018872.01</th>\n",
       "      <td>1.0</td>\n",
       "      <td>1.0</td>\n",
       "      <td>1.0</td>\n",
       "      <td>1.0</td>\n",
       "      <td>1.0</td>\n",
       "      <td>1.0</td>\n",
       "      <td>1.0</td>\n",
       "      <td>1.0</td>\n",
       "      <td>1.0</td>\n",
       "      <td>1.0</td>\n",
       "      <td>...</td>\n",
       "      <td>1.0</td>\n",
       "      <td>1.0</td>\n",
       "      <td>1.0</td>\n",
       "      <td>1.0</td>\n",
       "      <td>1.0</td>\n",
       "      <td>1.0</td>\n",
       "      <td>1.0</td>\n",
       "      <td>1.0</td>\n",
       "      <td>1.0</td>\n",
       "      <td>1.0</td>\n",
       "    </tr>\n",
       "    <tr>\n",
       "      <th>012141.01</th>\n",
       "      <td>1.0</td>\n",
       "      <td>1.0</td>\n",
       "      <td>1.0</td>\n",
       "      <td>1.0</td>\n",
       "      <td>1.0</td>\n",
       "      <td>1.0</td>\n",
       "      <td>1.0</td>\n",
       "      <td>1.0</td>\n",
       "      <td>1.0</td>\n",
       "      <td>1.0</td>\n",
       "      <td>...</td>\n",
       "      <td>1.0</td>\n",
       "      <td>1.0</td>\n",
       "      <td>1.0</td>\n",
       "      <td>1.0</td>\n",
       "      <td>1.0</td>\n",
       "      <td>1.0</td>\n",
       "      <td>1.0</td>\n",
       "      <td>1.0</td>\n",
       "      <td>1.0</td>\n",
       "      <td>1.0</td>\n",
       "    </tr>\n",
       "    <tr>\n",
       "      <th>007647.01</th>\n",
       "      <td>1.0</td>\n",
       "      <td>1.0</td>\n",
       "      <td>1.0</td>\n",
       "      <td>1.0</td>\n",
       "      <td>1.0</td>\n",
       "      <td>1.0</td>\n",
       "      <td>1.0</td>\n",
       "      <td>1.0</td>\n",
       "      <td>1.0</td>\n",
       "      <td>1.0</td>\n",
       "      <td>...</td>\n",
       "      <td>1.0</td>\n",
       "      <td>1.0</td>\n",
       "      <td>1.0</td>\n",
       "      <td>1.0</td>\n",
       "      <td>1.0</td>\n",
       "      <td>1.0</td>\n",
       "      <td>1.0</td>\n",
       "      <td>1.0</td>\n",
       "      <td>1.0</td>\n",
       "      <td>1.0</td>\n",
       "    </tr>\n",
       "    <tr>\n",
       "      <th>009899.01</th>\n",
       "      <td>1.0</td>\n",
       "      <td>1.0</td>\n",
       "      <td>1.0</td>\n",
       "      <td>1.0</td>\n",
       "      <td>1.0</td>\n",
       "      <td>1.0</td>\n",
       "      <td>1.0</td>\n",
       "      <td>1.0</td>\n",
       "      <td>1.0</td>\n",
       "      <td>1.0</td>\n",
       "      <td>...</td>\n",
       "      <td>1.0</td>\n",
       "      <td>1.0</td>\n",
       "      <td>1.0</td>\n",
       "      <td>1.0</td>\n",
       "      <td>1.0</td>\n",
       "      <td>1.0</td>\n",
       "      <td>1.0</td>\n",
       "      <td>1.0</td>\n",
       "      <td>1.0</td>\n",
       "      <td>1.0</td>\n",
       "    </tr>\n",
       "    <tr>\n",
       "      <th>014590.02</th>\n",
       "      <td>1.0</td>\n",
       "      <td>1.0</td>\n",
       "      <td>1.0</td>\n",
       "      <td>1.0</td>\n",
       "      <td>1.0</td>\n",
       "      <td>1.0</td>\n",
       "      <td>1.0</td>\n",
       "      <td>1.0</td>\n",
       "      <td>1.0</td>\n",
       "      <td>1.0</td>\n",
       "      <td>...</td>\n",
       "      <td>1.0</td>\n",
       "      <td>1.0</td>\n",
       "      <td>1.0</td>\n",
       "      <td>1.0</td>\n",
       "      <td>1.0</td>\n",
       "      <td>1.0</td>\n",
       "      <td>1.0</td>\n",
       "      <td>1.0</td>\n",
       "      <td>1.0</td>\n",
       "      <td>1.0</td>\n",
       "    </tr>\n",
       "  </tbody>\n",
       "</table>\n",
       "<p>5 rows × 62 columns</p>\n",
       "</div>"
      ],
      "text/plain": [
       "           2019-01-04  2019-01-11  2019-01-18  2019-01-25  2019-02-01  \\\n",
       "018872.01         1.0         1.0         1.0         1.0         1.0   \n",
       "012141.01         1.0         1.0         1.0         1.0         1.0   \n",
       "007647.01         1.0         1.0         1.0         1.0         1.0   \n",
       "009899.01         1.0         1.0         1.0         1.0         1.0   \n",
       "014590.02         1.0         1.0         1.0         1.0         1.0   \n",
       "\n",
       "           2019-02-08  2019-02-15  2019-02-22  2019-03-01  2019-03-08  ...  \\\n",
       "018872.01         1.0         1.0         1.0         1.0         1.0  ...   \n",
       "012141.01         1.0         1.0         1.0         1.0         1.0  ...   \n",
       "007647.01         1.0         1.0         1.0         1.0         1.0  ...   \n",
       "009899.01         1.0         1.0         1.0         1.0         1.0  ...   \n",
       "014590.02         1.0         1.0         1.0         1.0         1.0  ...   \n",
       "\n",
       "           2019-12-31  2020-01-03  2020-01-10  2020-01-17  2020-01-24  \\\n",
       "018872.01         1.0         1.0         1.0         1.0         1.0   \n",
       "012141.01         1.0         1.0         1.0         1.0         1.0   \n",
       "007647.01         1.0         1.0         1.0         1.0         1.0   \n",
       "009899.01         1.0         1.0         1.0         1.0         1.0   \n",
       "014590.02         1.0         1.0         1.0         1.0         1.0   \n",
       "\n",
       "           2020-01-31  2020-02-07  2020-02-14  2020-02-21  2020-02-28  \n",
       "018872.01         1.0         1.0         1.0         1.0         1.0  \n",
       "012141.01         1.0         1.0         1.0         1.0         1.0  \n",
       "007647.01         1.0         1.0         1.0         1.0         1.0  \n",
       "009899.01         1.0         1.0         1.0         1.0         1.0  \n",
       "014590.02         1.0         1.0         1.0         1.0         1.0  \n",
       "\n",
       "[5 rows x 62 columns]"
      ]
     },
     "execution_count": 7,
     "metadata": {},
     "output_type": "execute_result"
    }
   ],
   "source": [
    "raw_data[\"IN_{}\".format(sample_config[\"port_id\"])].head()"
   ]
  },
  {
   "cell_type": "code",
   "execution_count": 8,
   "metadata": {
    "collapsed": false
   },
   "outputs": [
    {
     "data": {
      "text/html": [
       "<div>\n",
       "<style scoped>\n",
       "    .dataframe tbody tr th:only-of-type {\n",
       "        vertical-align: middle;\n",
       "    }\n",
       "\n",
       "    .dataframe tbody tr th {\n",
       "        vertical-align: top;\n",
       "    }\n",
       "\n",
       "    .dataframe thead th {\n",
       "        text-align: right;\n",
       "    }\n",
       "</style>\n",
       "<table border=\"1\" class=\"dataframe\">\n",
       "  <thead>\n",
       "    <tr style=\"text-align: right;\">\n",
       "      <th></th>\n",
       "      <th>2019-01-04</th>\n",
       "      <th>2019-01-11</th>\n",
       "      <th>2019-01-18</th>\n",
       "      <th>2019-01-25</th>\n",
       "      <th>2019-02-01</th>\n",
       "      <th>2019-02-08</th>\n",
       "      <th>2019-02-15</th>\n",
       "      <th>2019-02-22</th>\n",
       "      <th>2019-03-01</th>\n",
       "      <th>2019-03-08</th>\n",
       "      <th>...</th>\n",
       "      <th>2019-12-31</th>\n",
       "      <th>2020-01-03</th>\n",
       "      <th>2020-01-10</th>\n",
       "      <th>2020-01-17</th>\n",
       "      <th>2020-01-24</th>\n",
       "      <th>2020-01-31</th>\n",
       "      <th>2020-02-07</th>\n",
       "      <th>2020-02-14</th>\n",
       "      <th>2020-02-21</th>\n",
       "      <th>2020-02-28</th>\n",
       "    </tr>\n",
       "  </thead>\n",
       "  <tbody>\n",
       "    <tr>\n",
       "      <th>018872.01</th>\n",
       "      <td>0.00</td>\n",
       "      <td>0.00</td>\n",
       "      <td>0.00</td>\n",
       "      <td>0.00</td>\n",
       "      <td>0.00</td>\n",
       "      <td>0.00</td>\n",
       "      <td>0.00</td>\n",
       "      <td>0.00</td>\n",
       "      <td>0.00</td>\n",
       "      <td>0.00</td>\n",
       "      <td>...</td>\n",
       "      <td>0.00</td>\n",
       "      <td>0.00</td>\n",
       "      <td>0.00</td>\n",
       "      <td>0.00</td>\n",
       "      <td>0.00</td>\n",
       "      <td>0.00</td>\n",
       "      <td>0.00</td>\n",
       "      <td>0.00</td>\n",
       "      <td>0.00</td>\n",
       "      <td>0.00</td>\n",
       "    </tr>\n",
       "    <tr>\n",
       "      <th>012141.01</th>\n",
       "      <td>3.35</td>\n",
       "      <td>3.26</td>\n",
       "      <td>3.33</td>\n",
       "      <td>3.30</td>\n",
       "      <td>3.14</td>\n",
       "      <td>3.25</td>\n",
       "      <td>3.26</td>\n",
       "      <td>3.30</td>\n",
       "      <td>3.35</td>\n",
       "      <td>3.39</td>\n",
       "      <td>...</td>\n",
       "      <td>4.48</td>\n",
       "      <td>4.45</td>\n",
       "      <td>4.59</td>\n",
       "      <td>4.65</td>\n",
       "      <td>4.61</td>\n",
       "      <td>4.84</td>\n",
       "      <td>5.07</td>\n",
       "      <td>5.01</td>\n",
       "      <td>5.05</td>\n",
       "      <td>5.05</td>\n",
       "    </tr>\n",
       "    <tr>\n",
       "      <th>007647.01</th>\n",
       "      <td>1.56</td>\n",
       "      <td>1.54</td>\n",
       "      <td>1.92</td>\n",
       "      <td>1.93</td>\n",
       "      <td>1.84</td>\n",
       "      <td>1.85</td>\n",
       "      <td>1.86</td>\n",
       "      <td>1.83</td>\n",
       "      <td>1.85</td>\n",
       "      <td>1.86</td>\n",
       "      <td>...</td>\n",
       "      <td>2.74</td>\n",
       "      <td>2.68</td>\n",
       "      <td>2.70</td>\n",
       "      <td>2.64</td>\n",
       "      <td>2.57</td>\n",
       "      <td>2.55</td>\n",
       "      <td>2.61</td>\n",
       "      <td>2.58</td>\n",
       "      <td>2.66</td>\n",
       "      <td>2.43</td>\n",
       "    </tr>\n",
       "    <tr>\n",
       "      <th>009899.01</th>\n",
       "      <td>0.00</td>\n",
       "      <td>0.00</td>\n",
       "      <td>0.54</td>\n",
       "      <td>0.53</td>\n",
       "      <td>0.51</td>\n",
       "      <td>0.51</td>\n",
       "      <td>0.52</td>\n",
       "      <td>0.52</td>\n",
       "      <td>0.52</td>\n",
       "      <td>0.00</td>\n",
       "      <td>...</td>\n",
       "      <td>0.00</td>\n",
       "      <td>0.00</td>\n",
       "      <td>0.00</td>\n",
       "      <td>0.00</td>\n",
       "      <td>0.00</td>\n",
       "      <td>0.00</td>\n",
       "      <td>0.00</td>\n",
       "      <td>0.00</td>\n",
       "      <td>0.00</td>\n",
       "      <td>0.00</td>\n",
       "    </tr>\n",
       "    <tr>\n",
       "      <th>014590.02</th>\n",
       "      <td>0.47</td>\n",
       "      <td>0.49</td>\n",
       "      <td>0.51</td>\n",
       "      <td>0.46</td>\n",
       "      <td>0.00</td>\n",
       "      <td>0.00</td>\n",
       "      <td>0.00</td>\n",
       "      <td>0.00</td>\n",
       "      <td>0.00</td>\n",
       "      <td>0.00</td>\n",
       "      <td>...</td>\n",
       "      <td>0.00</td>\n",
       "      <td>0.00</td>\n",
       "      <td>0.00</td>\n",
       "      <td>0.00</td>\n",
       "      <td>0.00</td>\n",
       "      <td>0.00</td>\n",
       "      <td>0.00</td>\n",
       "      <td>0.00</td>\n",
       "      <td>0.00</td>\n",
       "      <td>0.00</td>\n",
       "    </tr>\n",
       "  </tbody>\n",
       "</table>\n",
       "<p>5 rows × 62 columns</p>\n",
       "</div>"
      ],
      "text/plain": [
       "           2019-01-04  2019-01-11  2019-01-18  2019-01-25  2019-02-01  \\\n",
       "018872.01        0.00        0.00        0.00        0.00        0.00   \n",
       "012141.01        3.35        3.26        3.33        3.30        3.14   \n",
       "007647.01        1.56        1.54        1.92        1.93        1.84   \n",
       "009899.01        0.00        0.00        0.54        0.53        0.51   \n",
       "014590.02        0.47        0.49        0.51        0.46        0.00   \n",
       "\n",
       "           2019-02-08  2019-02-15  2019-02-22  2019-03-01  2019-03-08  ...  \\\n",
       "018872.01        0.00        0.00        0.00        0.00        0.00  ...   \n",
       "012141.01        3.25        3.26        3.30        3.35        3.39  ...   \n",
       "007647.01        1.85        1.86        1.83        1.85        1.86  ...   \n",
       "009899.01        0.51        0.52        0.52        0.52        0.00  ...   \n",
       "014590.02        0.00        0.00        0.00        0.00        0.00  ...   \n",
       "\n",
       "           2019-12-31  2020-01-03  2020-01-10  2020-01-17  2020-01-24  \\\n",
       "018872.01        0.00        0.00        0.00        0.00        0.00   \n",
       "012141.01        4.48        4.45        4.59        4.65        4.61   \n",
       "007647.01        2.74        2.68        2.70        2.64        2.57   \n",
       "009899.01        0.00        0.00        0.00        0.00        0.00   \n",
       "014590.02        0.00        0.00        0.00        0.00        0.00   \n",
       "\n",
       "           2020-01-31  2020-02-07  2020-02-14  2020-02-21  2020-02-28  \n",
       "018872.01        0.00        0.00        0.00        0.00        0.00  \n",
       "012141.01        4.84        5.07        5.01        5.05        5.05  \n",
       "007647.01        2.55        2.61        2.58        2.66        2.43  \n",
       "009899.01        0.00        0.00        0.00        0.00        0.00  \n",
       "014590.02        0.00        0.00        0.00        0.00        0.00  \n",
       "\n",
       "[5 rows x 62 columns]"
      ]
     },
     "execution_count": 8,
     "metadata": {},
     "output_type": "execute_result"
    }
   ],
   "source": [
    "raw_data[\"{}_{}\".format(sample_config[\"port_id\"], sample_config[\"weight_tag\"])].head()"
   ]
  },
  {
   "cell_type": "code",
   "execution_count": 9,
   "metadata": {
    "collapsed": false
   },
   "outputs": [
    {
     "data": {
      "text/html": [
       "<div>\n",
       "<style scoped>\n",
       "    .dataframe tbody tr th:only-of-type {\n",
       "        vertical-align: middle;\n",
       "    }\n",
       "\n",
       "    .dataframe tbody tr th {\n",
       "        vertical-align: top;\n",
       "    }\n",
       "\n",
       "    .dataframe thead th {\n",
       "        text-align: right;\n",
       "    }\n",
       "</style>\n",
       "<table border=\"1\" class=\"dataframe\">\n",
       "  <thead>\n",
       "    <tr style=\"text-align: right;\">\n",
       "      <th></th>\n",
       "      <th>2019-01-04</th>\n",
       "      <th>2019-01-11</th>\n",
       "      <th>2019-01-18</th>\n",
       "      <th>2019-01-25</th>\n",
       "      <th>2019-02-01</th>\n",
       "      <th>2019-02-08</th>\n",
       "      <th>2019-02-15</th>\n",
       "      <th>2019-02-22</th>\n",
       "      <th>2019-03-01</th>\n",
       "      <th>2019-03-08</th>\n",
       "      <th>...</th>\n",
       "      <th>2019-12-31</th>\n",
       "      <th>2020-01-03</th>\n",
       "      <th>2020-01-10</th>\n",
       "      <th>2020-01-17</th>\n",
       "      <th>2020-01-24</th>\n",
       "      <th>2020-01-31</th>\n",
       "      <th>2020-02-07</th>\n",
       "      <th>2020-02-14</th>\n",
       "      <th>2020-02-21</th>\n",
       "      <th>2020-02-28</th>\n",
       "    </tr>\n",
       "  </thead>\n",
       "  <tbody>\n",
       "    <tr>\n",
       "      <th>018872.01</th>\n",
       "      <td>BFLR866</td>\n",
       "      <td>BFLR866</td>\n",
       "      <td>BFLR866</td>\n",
       "      <td>BFLR866</td>\n",
       "      <td>BFLR866</td>\n",
       "      <td>BFLR866</td>\n",
       "      <td>BFLR866</td>\n",
       "      <td>BFLR866</td>\n",
       "      <td>BFLR866</td>\n",
       "      <td>BFLR866</td>\n",
       "      <td>...</td>\n",
       "      <td>BFLR866</td>\n",
       "      <td>BFLR866</td>\n",
       "      <td>BFLR866</td>\n",
       "      <td>BFLR866</td>\n",
       "      <td>BFLR866</td>\n",
       "      <td>BFLR866</td>\n",
       "      <td>BFLR866</td>\n",
       "      <td>BFLR866</td>\n",
       "      <td>BFLR866</td>\n",
       "      <td>BFLR866</td>\n",
       "    </tr>\n",
       "    <tr>\n",
       "      <th>012141.01</th>\n",
       "      <td>2588173</td>\n",
       "      <td>2588173</td>\n",
       "      <td>2588173</td>\n",
       "      <td>2588173</td>\n",
       "      <td>2588173</td>\n",
       "      <td>2588173</td>\n",
       "      <td>2588173</td>\n",
       "      <td>2588173</td>\n",
       "      <td>2588173</td>\n",
       "      <td>2588173</td>\n",
       "      <td>...</td>\n",
       "      <td>2588173</td>\n",
       "      <td>2588173</td>\n",
       "      <td>2588173</td>\n",
       "      <td>2588173</td>\n",
       "      <td>2588173</td>\n",
       "      <td>2588173</td>\n",
       "      <td>2588173</td>\n",
       "      <td>2588173</td>\n",
       "      <td>2588173</td>\n",
       "      <td>2588173</td>\n",
       "    </tr>\n",
       "    <tr>\n",
       "      <th>007647.01</th>\n",
       "      <td>2295677</td>\n",
       "      <td>2295677</td>\n",
       "      <td>2295677</td>\n",
       "      <td>2295677</td>\n",
       "      <td>2295677</td>\n",
       "      <td>2295677</td>\n",
       "      <td>2295677</td>\n",
       "      <td>2295677</td>\n",
       "      <td>2295677</td>\n",
       "      <td>2295677</td>\n",
       "      <td>...</td>\n",
       "      <td>2295677</td>\n",
       "      <td>2295677</td>\n",
       "      <td>2295677</td>\n",
       "      <td>2295677</td>\n",
       "      <td>2295677</td>\n",
       "      <td>2295677</td>\n",
       "      <td>2295677</td>\n",
       "      <td>2295677</td>\n",
       "      <td>2295677</td>\n",
       "      <td>2295677</td>\n",
       "    </tr>\n",
       "    <tr>\n",
       "      <th>009899.01</th>\n",
       "      <td>2831811</td>\n",
       "      <td>2831811</td>\n",
       "      <td>2831811</td>\n",
       "      <td>2831811</td>\n",
       "      <td>2831811</td>\n",
       "      <td>2831811</td>\n",
       "      <td>2831811</td>\n",
       "      <td>2831811</td>\n",
       "      <td>2831811</td>\n",
       "      <td>2831811</td>\n",
       "      <td>...</td>\n",
       "      <td>2831811</td>\n",
       "      <td>2831811</td>\n",
       "      <td>2831811</td>\n",
       "      <td>2831811</td>\n",
       "      <td>2831811</td>\n",
       "      <td>2831811</td>\n",
       "      <td>2831811</td>\n",
       "      <td>2831811</td>\n",
       "      <td>2831811</td>\n",
       "      <td>2831811</td>\n",
       "    </tr>\n",
       "    <tr>\n",
       "      <th>014590.02</th>\n",
       "      <td>2352118</td>\n",
       "      <td>2352118</td>\n",
       "      <td>2352118</td>\n",
       "      <td>2352118</td>\n",
       "      <td>2352118</td>\n",
       "      <td>2352118</td>\n",
       "      <td>2352118</td>\n",
       "      <td>2352118</td>\n",
       "      <td>2352118</td>\n",
       "      <td>2352118</td>\n",
       "      <td>...</td>\n",
       "      <td>2352118</td>\n",
       "      <td>2352118</td>\n",
       "      <td>2352118</td>\n",
       "      <td>2352118</td>\n",
       "      <td>2352118</td>\n",
       "      <td>2352118</td>\n",
       "      <td>2352118</td>\n",
       "      <td>2352118</td>\n",
       "      <td>2352118</td>\n",
       "      <td>2352118</td>\n",
       "    </tr>\n",
       "  </tbody>\n",
       "</table>\n",
       "<p>5 rows × 62 columns</p>\n",
       "</div>"
      ],
      "text/plain": [
       "          2019-01-04 2019-01-11 2019-01-18 2019-01-25 2019-02-01 2019-02-08  \\\n",
       "018872.01    BFLR866    BFLR866    BFLR866    BFLR866    BFLR866    BFLR866   \n",
       "012141.01    2588173    2588173    2588173    2588173    2588173    2588173   \n",
       "007647.01    2295677    2295677    2295677    2295677    2295677    2295677   \n",
       "009899.01    2831811    2831811    2831811    2831811    2831811    2831811   \n",
       "014590.02    2352118    2352118    2352118    2352118    2352118    2352118   \n",
       "\n",
       "          2019-02-15 2019-02-22 2019-03-01 2019-03-08  ... 2019-12-31  \\\n",
       "018872.01    BFLR866    BFLR866    BFLR866    BFLR866  ...    BFLR866   \n",
       "012141.01    2588173    2588173    2588173    2588173  ...    2588173   \n",
       "007647.01    2295677    2295677    2295677    2295677  ...    2295677   \n",
       "009899.01    2831811    2831811    2831811    2831811  ...    2831811   \n",
       "014590.02    2352118    2352118    2352118    2352118  ...    2352118   \n",
       "\n",
       "          2020-01-03 2020-01-10 2020-01-17 2020-01-24 2020-01-31 2020-02-07  \\\n",
       "018872.01    BFLR866    BFLR866    BFLR866    BFLR866    BFLR866    BFLR866   \n",
       "012141.01    2588173    2588173    2588173    2588173    2588173    2588173   \n",
       "007647.01    2295677    2295677    2295677    2295677    2295677    2295677   \n",
       "009899.01    2831811    2831811    2831811    2831811    2831811    2831811   \n",
       "014590.02    2352118    2352118    2352118    2352118    2352118    2352118   \n",
       "\n",
       "          2020-02-14 2020-02-21 2020-02-28  \n",
       "018872.01    BFLR866    BFLR866    BFLR866  \n",
       "012141.01    2588173    2588173    2588173  \n",
       "007647.01    2295677    2295677    2295677  \n",
       "009899.01    2831811    2831811    2831811  \n",
       "014590.02    2352118    2352118    2352118  \n",
       "\n",
       "[5 rows x 62 columns]"
      ]
     },
     "execution_count": 9,
     "metadata": {},
     "output_type": "execute_result"
    }
   ],
   "source": [
    "raw_data[\"SEDOL\"].head()"
   ]
  },
  {
   "cell_type": "code",
   "execution_count": 10,
   "metadata": {
    "collapsed": true
   },
   "outputs": [],
   "source": [
    "market_value = filtered_by_in(\n",
    "    signal_matrix=raw_data[\"{}_{}\".format(sample_config[\"port_id\"], sample_config[\"weight_tag\"])],\n",
    "    in_matrix=raw_data[\"IN_{}\".format(sample_config[\"port_id\"])]\n",
    ")"
   ]
  },
  {
   "cell_type": "code",
   "execution_count": 11,
   "metadata": {
    "collapsed": false
   },
   "outputs": [
    {
     "data": {
      "text/html": [
       "<div>\n",
       "<style scoped>\n",
       "    .dataframe tbody tr th:only-of-type {\n",
       "        vertical-align: middle;\n",
       "    }\n",
       "\n",
       "    .dataframe tbody tr th {\n",
       "        vertical-align: top;\n",
       "    }\n",
       "\n",
       "    .dataframe thead th {\n",
       "        text-align: right;\n",
       "    }\n",
       "</style>\n",
       "<table border=\"1\" class=\"dataframe\">\n",
       "  <thead>\n",
       "    <tr style=\"text-align: right;\">\n",
       "      <th></th>\n",
       "      <th>2019-01-04</th>\n",
       "      <th>2019-01-11</th>\n",
       "      <th>2019-01-18</th>\n",
       "      <th>2019-01-25</th>\n",
       "      <th>2019-02-01</th>\n",
       "      <th>2019-02-08</th>\n",
       "      <th>2019-02-15</th>\n",
       "      <th>2019-02-22</th>\n",
       "      <th>2019-03-01</th>\n",
       "      <th>2019-03-08</th>\n",
       "      <th>...</th>\n",
       "      <th>2019-12-31</th>\n",
       "      <th>2020-01-03</th>\n",
       "      <th>2020-01-10</th>\n",
       "      <th>2020-01-17</th>\n",
       "      <th>2020-01-24</th>\n",
       "      <th>2020-01-31</th>\n",
       "      <th>2020-02-07</th>\n",
       "      <th>2020-02-14</th>\n",
       "      <th>2020-02-21</th>\n",
       "      <th>2020-02-28</th>\n",
       "    </tr>\n",
       "  </thead>\n",
       "  <tbody>\n",
       "    <tr>\n",
       "      <th>018872.01</th>\n",
       "      <td>0.00</td>\n",
       "      <td>0.00</td>\n",
       "      <td>0.00</td>\n",
       "      <td>0.00</td>\n",
       "      <td>0.00</td>\n",
       "      <td>0.00</td>\n",
       "      <td>0.00</td>\n",
       "      <td>0.00</td>\n",
       "      <td>0.00</td>\n",
       "      <td>0.00</td>\n",
       "      <td>...</td>\n",
       "      <td>0.00</td>\n",
       "      <td>0.00</td>\n",
       "      <td>0.00</td>\n",
       "      <td>0.00</td>\n",
       "      <td>0.00</td>\n",
       "      <td>0.00</td>\n",
       "      <td>0.00</td>\n",
       "      <td>0.00</td>\n",
       "      <td>0.00</td>\n",
       "      <td>0.00</td>\n",
       "    </tr>\n",
       "    <tr>\n",
       "      <th>012141.01</th>\n",
       "      <td>3.35</td>\n",
       "      <td>3.26</td>\n",
       "      <td>3.33</td>\n",
       "      <td>3.30</td>\n",
       "      <td>3.14</td>\n",
       "      <td>3.25</td>\n",
       "      <td>3.26</td>\n",
       "      <td>3.30</td>\n",
       "      <td>3.35</td>\n",
       "      <td>3.39</td>\n",
       "      <td>...</td>\n",
       "      <td>4.48</td>\n",
       "      <td>4.45</td>\n",
       "      <td>4.59</td>\n",
       "      <td>4.65</td>\n",
       "      <td>4.61</td>\n",
       "      <td>4.84</td>\n",
       "      <td>5.07</td>\n",
       "      <td>5.01</td>\n",
       "      <td>5.05</td>\n",
       "      <td>5.05</td>\n",
       "    </tr>\n",
       "    <tr>\n",
       "      <th>007647.01</th>\n",
       "      <td>1.56</td>\n",
       "      <td>1.54</td>\n",
       "      <td>1.92</td>\n",
       "      <td>1.93</td>\n",
       "      <td>1.84</td>\n",
       "      <td>1.85</td>\n",
       "      <td>1.86</td>\n",
       "      <td>1.83</td>\n",
       "      <td>1.85</td>\n",
       "      <td>1.86</td>\n",
       "      <td>...</td>\n",
       "      <td>2.74</td>\n",
       "      <td>2.68</td>\n",
       "      <td>2.70</td>\n",
       "      <td>2.64</td>\n",
       "      <td>2.57</td>\n",
       "      <td>2.55</td>\n",
       "      <td>2.61</td>\n",
       "      <td>2.58</td>\n",
       "      <td>2.66</td>\n",
       "      <td>2.43</td>\n",
       "    </tr>\n",
       "    <tr>\n",
       "      <th>009899.01</th>\n",
       "      <td>0.00</td>\n",
       "      <td>0.00</td>\n",
       "      <td>0.54</td>\n",
       "      <td>0.53</td>\n",
       "      <td>0.51</td>\n",
       "      <td>0.51</td>\n",
       "      <td>0.52</td>\n",
       "      <td>0.52</td>\n",
       "      <td>0.52</td>\n",
       "      <td>0.00</td>\n",
       "      <td>...</td>\n",
       "      <td>0.00</td>\n",
       "      <td>0.00</td>\n",
       "      <td>0.00</td>\n",
       "      <td>0.00</td>\n",
       "      <td>0.00</td>\n",
       "      <td>0.00</td>\n",
       "      <td>0.00</td>\n",
       "      <td>0.00</td>\n",
       "      <td>0.00</td>\n",
       "      <td>0.00</td>\n",
       "    </tr>\n",
       "    <tr>\n",
       "      <th>014590.02</th>\n",
       "      <td>0.47</td>\n",
       "      <td>0.49</td>\n",
       "      <td>0.51</td>\n",
       "      <td>0.46</td>\n",
       "      <td>0.00</td>\n",
       "      <td>0.00</td>\n",
       "      <td>0.00</td>\n",
       "      <td>0.00</td>\n",
       "      <td>0.00</td>\n",
       "      <td>0.00</td>\n",
       "      <td>...</td>\n",
       "      <td>0.00</td>\n",
       "      <td>0.00</td>\n",
       "      <td>0.00</td>\n",
       "      <td>0.00</td>\n",
       "      <td>0.00</td>\n",
       "      <td>0.00</td>\n",
       "      <td>0.00</td>\n",
       "      <td>0.00</td>\n",
       "      <td>0.00</td>\n",
       "      <td>0.00</td>\n",
       "    </tr>\n",
       "  </tbody>\n",
       "</table>\n",
       "<p>5 rows × 62 columns</p>\n",
       "</div>"
      ],
      "text/plain": [
       "           2019-01-04  2019-01-11  2019-01-18  2019-01-25  2019-02-01  \\\n",
       "018872.01        0.00        0.00        0.00        0.00        0.00   \n",
       "012141.01        3.35        3.26        3.33        3.30        3.14   \n",
       "007647.01        1.56        1.54        1.92        1.93        1.84   \n",
       "009899.01        0.00        0.00        0.54        0.53        0.51   \n",
       "014590.02        0.47        0.49        0.51        0.46        0.00   \n",
       "\n",
       "           2019-02-08  2019-02-15  2019-02-22  2019-03-01  2019-03-08  ...  \\\n",
       "018872.01        0.00        0.00        0.00        0.00        0.00  ...   \n",
       "012141.01        3.25        3.26        3.30        3.35        3.39  ...   \n",
       "007647.01        1.85        1.86        1.83        1.85        1.86  ...   \n",
       "009899.01        0.51        0.52        0.52        0.52        0.00  ...   \n",
       "014590.02        0.00        0.00        0.00        0.00        0.00  ...   \n",
       "\n",
       "           2019-12-31  2020-01-03  2020-01-10  2020-01-17  2020-01-24  \\\n",
       "018872.01        0.00        0.00        0.00        0.00        0.00   \n",
       "012141.01        4.48        4.45        4.59        4.65        4.61   \n",
       "007647.01        2.74        2.68        2.70        2.64        2.57   \n",
       "009899.01        0.00        0.00        0.00        0.00        0.00   \n",
       "014590.02        0.00        0.00        0.00        0.00        0.00   \n",
       "\n",
       "           2020-01-31  2020-02-07  2020-02-14  2020-02-21  2020-02-28  \n",
       "018872.01        0.00        0.00        0.00        0.00        0.00  \n",
       "012141.01        4.84        5.07        5.01        5.05        5.05  \n",
       "007647.01        2.55        2.61        2.58        2.66        2.43  \n",
       "009899.01        0.00        0.00        0.00        0.00        0.00  \n",
       "014590.02        0.00        0.00        0.00        0.00        0.00  \n",
       "\n",
       "[5 rows x 62 columns]"
      ]
     },
     "execution_count": 11,
     "metadata": {},
     "output_type": "execute_result"
    }
   ],
   "source": [
    "market_value.head()"
   ]
  },
  {
   "cell_type": "code",
   "execution_count": 12,
   "metadata": {
    "collapsed": true
   },
   "outputs": [],
   "source": [
    "portfolio_weight = portfolio_weights_regularization(\n",
    "    portfolio=market_value, method=\"long_only\"\n",
    ")"
   ]
  },
  {
   "cell_type": "code",
   "execution_count": 13,
   "metadata": {
    "collapsed": false,
    "scrolled": false
   },
   "outputs": [
    {
     "data": {
      "text/html": [
       "<div>\n",
       "<style scoped>\n",
       "    .dataframe tbody tr th:only-of-type {\n",
       "        vertical-align: middle;\n",
       "    }\n",
       "\n",
       "    .dataframe tbody tr th {\n",
       "        vertical-align: top;\n",
       "    }\n",
       "\n",
       "    .dataframe thead th {\n",
       "        text-align: right;\n",
       "    }\n",
       "</style>\n",
       "<table border=\"1\" class=\"dataframe\">\n",
       "  <thead>\n",
       "    <tr style=\"text-align: right;\">\n",
       "      <th></th>\n",
       "      <th>2019-01-04</th>\n",
       "      <th>2019-01-11</th>\n",
       "      <th>2019-01-18</th>\n",
       "      <th>2019-01-25</th>\n",
       "      <th>2019-02-01</th>\n",
       "      <th>2019-02-08</th>\n",
       "      <th>2019-02-15</th>\n",
       "      <th>2019-02-22</th>\n",
       "      <th>2019-03-01</th>\n",
       "      <th>2019-03-08</th>\n",
       "      <th>...</th>\n",
       "      <th>2019-12-31</th>\n",
       "      <th>2020-01-03</th>\n",
       "      <th>2020-01-10</th>\n",
       "      <th>2020-01-17</th>\n",
       "      <th>2020-01-24</th>\n",
       "      <th>2020-01-31</th>\n",
       "      <th>2020-02-07</th>\n",
       "      <th>2020-02-14</th>\n",
       "      <th>2020-02-21</th>\n",
       "      <th>2020-02-28</th>\n",
       "    </tr>\n",
       "  </thead>\n",
       "  <tbody>\n",
       "    <tr>\n",
       "      <th>018872.01</th>\n",
       "      <td>0.000000</td>\n",
       "      <td>0.000000</td>\n",
       "      <td>0.000000</td>\n",
       "      <td>0.000000</td>\n",
       "      <td>0.000000</td>\n",
       "      <td>0.000000</td>\n",
       "      <td>0.000000</td>\n",
       "      <td>0.000000</td>\n",
       "      <td>0.000000</td>\n",
       "      <td>0.000000</td>\n",
       "      <td>...</td>\n",
       "      <td>0.000000</td>\n",
       "      <td>0.000000</td>\n",
       "      <td>0.000000</td>\n",
       "      <td>0.000000</td>\n",
       "      <td>0.000000</td>\n",
       "      <td>0.000000</td>\n",
       "      <td>0.000000</td>\n",
       "      <td>0.000000</td>\n",
       "      <td>0.000000</td>\n",
       "      <td>0.000000</td>\n",
       "    </tr>\n",
       "    <tr>\n",
       "      <th>012141.01</th>\n",
       "      <td>0.029601</td>\n",
       "      <td>0.028844</td>\n",
       "      <td>0.029025</td>\n",
       "      <td>0.029554</td>\n",
       "      <td>0.028111</td>\n",
       "      <td>0.030093</td>\n",
       "      <td>0.029330</td>\n",
       "      <td>0.030462</td>\n",
       "      <td>0.030311</td>\n",
       "      <td>0.030684</td>\n",
       "      <td>...</td>\n",
       "      <td>0.037969</td>\n",
       "      <td>0.038716</td>\n",
       "      <td>0.039154</td>\n",
       "      <td>0.039480</td>\n",
       "      <td>0.041029</td>\n",
       "      <td>0.043292</td>\n",
       "      <td>0.044622</td>\n",
       "      <td>0.048233</td>\n",
       "      <td>0.046335</td>\n",
       "      <td>0.043307</td>\n",
       "    </tr>\n",
       "    <tr>\n",
       "      <th>007647.01</th>\n",
       "      <td>0.013785</td>\n",
       "      <td>0.013626</td>\n",
       "      <td>0.016735</td>\n",
       "      <td>0.017285</td>\n",
       "      <td>0.016473</td>\n",
       "      <td>0.017130</td>\n",
       "      <td>0.016734</td>\n",
       "      <td>0.016893</td>\n",
       "      <td>0.016739</td>\n",
       "      <td>0.016836</td>\n",
       "      <td>...</td>\n",
       "      <td>0.023222</td>\n",
       "      <td>0.023317</td>\n",
       "      <td>0.023032</td>\n",
       "      <td>0.022415</td>\n",
       "      <td>0.022873</td>\n",
       "      <td>0.022809</td>\n",
       "      <td>0.022971</td>\n",
       "      <td>0.024839</td>\n",
       "      <td>0.024406</td>\n",
       "      <td>0.020839</td>\n",
       "    </tr>\n",
       "    <tr>\n",
       "      <th>009899.01</th>\n",
       "      <td>0.000000</td>\n",
       "      <td>0.000000</td>\n",
       "      <td>0.004707</td>\n",
       "      <td>0.004747</td>\n",
       "      <td>0.004566</td>\n",
       "      <td>0.004722</td>\n",
       "      <td>0.004678</td>\n",
       "      <td>0.004800</td>\n",
       "      <td>0.004705</td>\n",
       "      <td>0.000000</td>\n",
       "      <td>...</td>\n",
       "      <td>0.000000</td>\n",
       "      <td>0.000000</td>\n",
       "      <td>0.000000</td>\n",
       "      <td>0.000000</td>\n",
       "      <td>0.000000</td>\n",
       "      <td>0.000000</td>\n",
       "      <td>0.000000</td>\n",
       "      <td>0.000000</td>\n",
       "      <td>0.000000</td>\n",
       "      <td>0.000000</td>\n",
       "    </tr>\n",
       "    <tr>\n",
       "      <th>014590.02</th>\n",
       "      <td>0.004153</td>\n",
       "      <td>0.004336</td>\n",
       "      <td>0.004445</td>\n",
       "      <td>0.004120</td>\n",
       "      <td>0.000000</td>\n",
       "      <td>0.000000</td>\n",
       "      <td>0.000000</td>\n",
       "      <td>0.000000</td>\n",
       "      <td>0.000000</td>\n",
       "      <td>0.000000</td>\n",
       "      <td>...</td>\n",
       "      <td>0.000000</td>\n",
       "      <td>0.000000</td>\n",
       "      <td>0.000000</td>\n",
       "      <td>0.000000</td>\n",
       "      <td>0.000000</td>\n",
       "      <td>0.000000</td>\n",
       "      <td>0.000000</td>\n",
       "      <td>0.000000</td>\n",
       "      <td>0.000000</td>\n",
       "      <td>0.000000</td>\n",
       "    </tr>\n",
       "  </tbody>\n",
       "</table>\n",
       "<p>5 rows × 62 columns</p>\n",
       "</div>"
      ],
      "text/plain": [
       "           2019-01-04  2019-01-11  2019-01-18  2019-01-25  2019-02-01  \\\n",
       "018872.01    0.000000    0.000000    0.000000    0.000000    0.000000   \n",
       "012141.01    0.029601    0.028844    0.029025    0.029554    0.028111   \n",
       "007647.01    0.013785    0.013626    0.016735    0.017285    0.016473   \n",
       "009899.01    0.000000    0.000000    0.004707    0.004747    0.004566   \n",
       "014590.02    0.004153    0.004336    0.004445    0.004120    0.000000   \n",
       "\n",
       "           2019-02-08  2019-02-15  2019-02-22  2019-03-01  2019-03-08  ...  \\\n",
       "018872.01    0.000000    0.000000    0.000000    0.000000    0.000000  ...   \n",
       "012141.01    0.030093    0.029330    0.030462    0.030311    0.030684  ...   \n",
       "007647.01    0.017130    0.016734    0.016893    0.016739    0.016836  ...   \n",
       "009899.01    0.004722    0.004678    0.004800    0.004705    0.000000  ...   \n",
       "014590.02    0.000000    0.000000    0.000000    0.000000    0.000000  ...   \n",
       "\n",
       "           2019-12-31  2020-01-03  2020-01-10  2020-01-17  2020-01-24  \\\n",
       "018872.01    0.000000    0.000000    0.000000    0.000000    0.000000   \n",
       "012141.01    0.037969    0.038716    0.039154    0.039480    0.041029   \n",
       "007647.01    0.023222    0.023317    0.023032    0.022415    0.022873   \n",
       "009899.01    0.000000    0.000000    0.000000    0.000000    0.000000   \n",
       "014590.02    0.000000    0.000000    0.000000    0.000000    0.000000   \n",
       "\n",
       "           2020-01-31  2020-02-07  2020-02-14  2020-02-21  2020-02-28  \n",
       "018872.01    0.000000    0.000000    0.000000    0.000000    0.000000  \n",
       "012141.01    0.043292    0.044622    0.048233    0.046335    0.043307  \n",
       "007647.01    0.022809    0.022971    0.024839    0.024406    0.020839  \n",
       "009899.01    0.000000    0.000000    0.000000    0.000000    0.000000  \n",
       "014590.02    0.000000    0.000000    0.000000    0.000000    0.000000  \n",
       "\n",
       "[5 rows x 62 columns]"
      ]
     },
     "execution_count": 13,
     "metadata": {},
     "output_type": "execute_result"
    }
   ],
   "source": [
    "portfolio_weight.head()"
   ]
  },
  {
   "cell_type": "markdown",
   "metadata": {},
   "source": [
    "- NOTE, this step takes long time to complete ... Persist for future using ..."
   ]
  },
  {
   "cell_type": "code",
   "execution_count": 14,
   "metadata": {
    "collapsed": false
   },
   "outputs": [],
   "source": [
    "portfolio_weight_with_etf = axioma_etf_add_consti_weight(\n",
    "    port_weight_matrix=portfolio_weight, id_matrix=raw_data[\"SEDOL\"],\n",
    "    etf_comp_model=\"Composite-ETF-WW\", axioma_dir=\"/mnt/ebs2/axioma-daily-flat/\", consti_model=\"AXWW21-MH\", id_type=\"SEDOL\",\n",
    "    recursive=True, multi_country=True\n",
    ")"
   ]
  },
  {
   "cell_type": "code",
   "execution_count": 15,
   "metadata": {
    "collapsed": false
   },
   "outputs": [
    {
     "data": {
      "text/html": [
       "<div>\n",
       "<style scoped>\n",
       "    .dataframe tbody tr th:only-of-type {\n",
       "        vertical-align: middle;\n",
       "    }\n",
       "\n",
       "    .dataframe tbody tr th {\n",
       "        vertical-align: top;\n",
       "    }\n",
       "\n",
       "    .dataframe thead th {\n",
       "        text-align: right;\n",
       "    }\n",
       "</style>\n",
       "<table border=\"1\" class=\"dataframe\">\n",
       "  <thead>\n",
       "    <tr style=\"text-align: right;\">\n",
       "      <th></th>\n",
       "      <th>2019-01-04</th>\n",
       "      <th>2019-01-11</th>\n",
       "      <th>2019-01-18</th>\n",
       "      <th>2019-01-25</th>\n",
       "      <th>2019-02-01</th>\n",
       "      <th>2019-02-08</th>\n",
       "      <th>2019-02-15</th>\n",
       "      <th>2019-02-22</th>\n",
       "      <th>2019-03-01</th>\n",
       "      <th>2019-03-08</th>\n",
       "      <th>...</th>\n",
       "      <th>2019-12-31</th>\n",
       "      <th>2020-01-03</th>\n",
       "      <th>2020-01-10</th>\n",
       "      <th>2020-01-17</th>\n",
       "      <th>2020-01-24</th>\n",
       "      <th>2020-01-31</th>\n",
       "      <th>2020-02-07</th>\n",
       "      <th>2020-02-14</th>\n",
       "      <th>2020-02-21</th>\n",
       "      <th>2020-02-28</th>\n",
       "    </tr>\n",
       "  </thead>\n",
       "  <tbody>\n",
       "    <tr>\n",
       "      <th>001045.04</th>\n",
       "      <td>0.0</td>\n",
       "      <td>0.0</td>\n",
       "      <td>0.0</td>\n",
       "      <td>0.0</td>\n",
       "      <td>0.0</td>\n",
       "      <td>0.000000</td>\n",
       "      <td>0.000000</td>\n",
       "      <td>0.000000</td>\n",
       "      <td>0.000000</td>\n",
       "      <td>0.000000</td>\n",
       "      <td>...</td>\n",
       "      <td>0.0</td>\n",
       "      <td>0.0</td>\n",
       "      <td>0.0</td>\n",
       "      <td>0.0</td>\n",
       "      <td>0.0</td>\n",
       "      <td>0.0</td>\n",
       "      <td>0.0</td>\n",
       "      <td>0.0</td>\n",
       "      <td>0.0</td>\n",
       "      <td>0.000000</td>\n",
       "    </tr>\n",
       "    <tr>\n",
       "      <th>001075.01</th>\n",
       "      <td>0.0</td>\n",
       "      <td>0.0</td>\n",
       "      <td>0.0</td>\n",
       "      <td>0.0</td>\n",
       "      <td>0.0</td>\n",
       "      <td>0.000000</td>\n",
       "      <td>0.000000</td>\n",
       "      <td>0.000000</td>\n",
       "      <td>0.000000</td>\n",
       "      <td>0.000000</td>\n",
       "      <td>...</td>\n",
       "      <td>0.0</td>\n",
       "      <td>0.0</td>\n",
       "      <td>0.0</td>\n",
       "      <td>0.0</td>\n",
       "      <td>0.0</td>\n",
       "      <td>0.0</td>\n",
       "      <td>0.0</td>\n",
       "      <td>0.0</td>\n",
       "      <td>0.0</td>\n",
       "      <td>0.000000</td>\n",
       "    </tr>\n",
       "    <tr>\n",
       "      <th>001078.01</th>\n",
       "      <td>0.0</td>\n",
       "      <td>0.0</td>\n",
       "      <td>0.0</td>\n",
       "      <td>0.0</td>\n",
       "      <td>0.0</td>\n",
       "      <td>0.000000</td>\n",
       "      <td>0.000000</td>\n",
       "      <td>0.000000</td>\n",
       "      <td>0.000000</td>\n",
       "      <td>0.000000</td>\n",
       "      <td>...</td>\n",
       "      <td>0.0</td>\n",
       "      <td>0.0</td>\n",
       "      <td>0.0</td>\n",
       "      <td>0.0</td>\n",
       "      <td>0.0</td>\n",
       "      <td>0.0</td>\n",
       "      <td>0.0</td>\n",
       "      <td>0.0</td>\n",
       "      <td>0.0</td>\n",
       "      <td>0.000000</td>\n",
       "    </tr>\n",
       "    <tr>\n",
       "      <th>001161.01</th>\n",
       "      <td>0.0</td>\n",
       "      <td>0.0</td>\n",
       "      <td>0.0</td>\n",
       "      <td>0.0</td>\n",
       "      <td>0.0</td>\n",
       "      <td>0.002222</td>\n",
       "      <td>0.002159</td>\n",
       "      <td>0.002215</td>\n",
       "      <td>0.002172</td>\n",
       "      <td>0.002082</td>\n",
       "      <td>...</td>\n",
       "      <td>0.0</td>\n",
       "      <td>0.0</td>\n",
       "      <td>0.0</td>\n",
       "      <td>0.0</td>\n",
       "      <td>0.0</td>\n",
       "      <td>0.0</td>\n",
       "      <td>0.0</td>\n",
       "      <td>0.0</td>\n",
       "      <td>0.0</td>\n",
       "      <td>0.004545</td>\n",
       "    </tr>\n",
       "    <tr>\n",
       "      <th>001209.01</th>\n",
       "      <td>0.0</td>\n",
       "      <td>0.0</td>\n",
       "      <td>0.0</td>\n",
       "      <td>0.0</td>\n",
       "      <td>0.0</td>\n",
       "      <td>0.000000</td>\n",
       "      <td>0.000000</td>\n",
       "      <td>0.000000</td>\n",
       "      <td>0.000000</td>\n",
       "      <td>0.000000</td>\n",
       "      <td>...</td>\n",
       "      <td>0.0</td>\n",
       "      <td>0.0</td>\n",
       "      <td>0.0</td>\n",
       "      <td>0.0</td>\n",
       "      <td>0.0</td>\n",
       "      <td>0.0</td>\n",
       "      <td>0.0</td>\n",
       "      <td>0.0</td>\n",
       "      <td>0.0</td>\n",
       "      <td>0.000000</td>\n",
       "    </tr>\n",
       "  </tbody>\n",
       "</table>\n",
       "<p>5 rows × 62 columns</p>\n",
       "</div>"
      ],
      "text/plain": [
       "           2019-01-04  2019-01-11  2019-01-18  2019-01-25  2019-02-01  \\\n",
       "001045.04         0.0         0.0         0.0         0.0         0.0   \n",
       "001075.01         0.0         0.0         0.0         0.0         0.0   \n",
       "001078.01         0.0         0.0         0.0         0.0         0.0   \n",
       "001161.01         0.0         0.0         0.0         0.0         0.0   \n",
       "001209.01         0.0         0.0         0.0         0.0         0.0   \n",
       "\n",
       "           2019-02-08  2019-02-15  2019-02-22  2019-03-01  2019-03-08  ...  \\\n",
       "001045.04    0.000000    0.000000    0.000000    0.000000    0.000000  ...   \n",
       "001075.01    0.000000    0.000000    0.000000    0.000000    0.000000  ...   \n",
       "001078.01    0.000000    0.000000    0.000000    0.000000    0.000000  ...   \n",
       "001161.01    0.002222    0.002159    0.002215    0.002172    0.002082  ...   \n",
       "001209.01    0.000000    0.000000    0.000000    0.000000    0.000000  ...   \n",
       "\n",
       "           2019-12-31  2020-01-03  2020-01-10  2020-01-17  2020-01-24  \\\n",
       "001045.04         0.0         0.0         0.0         0.0         0.0   \n",
       "001075.01         0.0         0.0         0.0         0.0         0.0   \n",
       "001078.01         0.0         0.0         0.0         0.0         0.0   \n",
       "001161.01         0.0         0.0         0.0         0.0         0.0   \n",
       "001209.01         0.0         0.0         0.0         0.0         0.0   \n",
       "\n",
       "           2020-01-31  2020-02-07  2020-02-14  2020-02-21  2020-02-28  \n",
       "001045.04         0.0         0.0         0.0         0.0    0.000000  \n",
       "001075.01         0.0         0.0         0.0         0.0    0.000000  \n",
       "001078.01         0.0         0.0         0.0         0.0    0.000000  \n",
       "001161.01         0.0         0.0         0.0         0.0    0.004545  \n",
       "001209.01         0.0         0.0         0.0         0.0    0.000000  \n",
       "\n",
       "[5 rows x 62 columns]"
      ]
     },
     "execution_count": 15,
     "metadata": {},
     "output_type": "execute_result"
    }
   ],
   "source": [
    "portfolio_weight_with_etf.head()"
   ]
  },
  {
   "cell_type": "code",
   "execution_count": 16,
   "metadata": {
    "collapsed": true
   },
   "outputs": [],
   "source": [
    "import joblib"
   ]
  },
  {
   "cell_type": "code",
   "execution_count": 17,
   "metadata": {
    "collapsed": true
   },
   "outputs": [],
   "source": [
    "def load_obj_from_local_file(file_path):\n",
    "    \"\"\"\n",
    "    Load python object from local file\n",
    "    Params:\n",
    "        file_path: full path of file in string\n",
    "    \"\"\"\n",
    "    obj = joblib.load(filename=file_path)\n",
    "    return obj\n",
    "\n",
    "def dump_obj_list_to_local_file(obj, file_path):\n",
    "    \"\"\"\n",
    "    Dump python object to local file\n",
    "    Params:\n",
    "        obj: any python object\n",
    "        file_path: full path of file in string\n",
    "    \"\"\"\n",
    "    joblib.dump(\n",
    "        value=obj, filename=file_path, compress=3\n",
    "    )"
   ]
  },
  {
   "cell_type": "code",
   "execution_count": 18,
   "metadata": {
    "collapsed": true
   },
   "outputs": [],
   "source": [
    "dump_obj_list_to_local_file(obj=portfolio_weight_with_etf, file_path=\"./CASE14-portfolio_weight_with_etf.pickle\")"
   ]
  },
  {
   "cell_type": "code",
   "execution_count": 19,
   "metadata": {
    "collapsed": true
   },
   "outputs": [],
   "source": [
    "del portfolio_weight_with_etf"
   ]
  },
  {
   "cell_type": "code",
   "execution_count": 20,
   "metadata": {
    "collapsed": true
   },
   "outputs": [],
   "source": [
    "portfolio_weight_with_etf = load_obj_from_local_file(file_path=\"./CASE14-portfolio_weight_with_etf.pickle\")"
   ]
  },
  {
   "cell_type": "code",
   "execution_count": 21,
   "metadata": {
    "collapsed": false
   },
   "outputs": [
    {
     "data": {
      "text/html": [
       "<div>\n",
       "<style scoped>\n",
       "    .dataframe tbody tr th:only-of-type {\n",
       "        vertical-align: middle;\n",
       "    }\n",
       "\n",
       "    .dataframe tbody tr th {\n",
       "        vertical-align: top;\n",
       "    }\n",
       "\n",
       "    .dataframe thead th {\n",
       "        text-align: right;\n",
       "    }\n",
       "</style>\n",
       "<table border=\"1\" class=\"dataframe\">\n",
       "  <thead>\n",
       "    <tr style=\"text-align: right;\">\n",
       "      <th></th>\n",
       "      <th>2019-01-04</th>\n",
       "      <th>2019-01-11</th>\n",
       "      <th>2019-01-18</th>\n",
       "      <th>2019-01-25</th>\n",
       "      <th>2019-02-01</th>\n",
       "      <th>2019-02-08</th>\n",
       "      <th>2019-02-15</th>\n",
       "      <th>2019-02-22</th>\n",
       "      <th>2019-03-01</th>\n",
       "      <th>2019-03-08</th>\n",
       "      <th>...</th>\n",
       "      <th>2019-12-31</th>\n",
       "      <th>2020-01-03</th>\n",
       "      <th>2020-01-10</th>\n",
       "      <th>2020-01-17</th>\n",
       "      <th>2020-01-24</th>\n",
       "      <th>2020-01-31</th>\n",
       "      <th>2020-02-07</th>\n",
       "      <th>2020-02-14</th>\n",
       "      <th>2020-02-21</th>\n",
       "      <th>2020-02-28</th>\n",
       "    </tr>\n",
       "  </thead>\n",
       "  <tbody>\n",
       "    <tr>\n",
       "      <th>001045.04</th>\n",
       "      <td>0.0</td>\n",
       "      <td>0.0</td>\n",
       "      <td>0.0</td>\n",
       "      <td>0.0</td>\n",
       "      <td>0.0</td>\n",
       "      <td>0.000000</td>\n",
       "      <td>0.000000</td>\n",
       "      <td>0.000000</td>\n",
       "      <td>0.000000</td>\n",
       "      <td>0.000000</td>\n",
       "      <td>...</td>\n",
       "      <td>0.0</td>\n",
       "      <td>0.0</td>\n",
       "      <td>0.0</td>\n",
       "      <td>0.0</td>\n",
       "      <td>0.0</td>\n",
       "      <td>0.0</td>\n",
       "      <td>0.0</td>\n",
       "      <td>0.0</td>\n",
       "      <td>0.0</td>\n",
       "      <td>0.000000</td>\n",
       "    </tr>\n",
       "    <tr>\n",
       "      <th>001075.01</th>\n",
       "      <td>0.0</td>\n",
       "      <td>0.0</td>\n",
       "      <td>0.0</td>\n",
       "      <td>0.0</td>\n",
       "      <td>0.0</td>\n",
       "      <td>0.000000</td>\n",
       "      <td>0.000000</td>\n",
       "      <td>0.000000</td>\n",
       "      <td>0.000000</td>\n",
       "      <td>0.000000</td>\n",
       "      <td>...</td>\n",
       "      <td>0.0</td>\n",
       "      <td>0.0</td>\n",
       "      <td>0.0</td>\n",
       "      <td>0.0</td>\n",
       "      <td>0.0</td>\n",
       "      <td>0.0</td>\n",
       "      <td>0.0</td>\n",
       "      <td>0.0</td>\n",
       "      <td>0.0</td>\n",
       "      <td>0.000000</td>\n",
       "    </tr>\n",
       "    <tr>\n",
       "      <th>001078.01</th>\n",
       "      <td>0.0</td>\n",
       "      <td>0.0</td>\n",
       "      <td>0.0</td>\n",
       "      <td>0.0</td>\n",
       "      <td>0.0</td>\n",
       "      <td>0.000000</td>\n",
       "      <td>0.000000</td>\n",
       "      <td>0.000000</td>\n",
       "      <td>0.000000</td>\n",
       "      <td>0.000000</td>\n",
       "      <td>...</td>\n",
       "      <td>0.0</td>\n",
       "      <td>0.0</td>\n",
       "      <td>0.0</td>\n",
       "      <td>0.0</td>\n",
       "      <td>0.0</td>\n",
       "      <td>0.0</td>\n",
       "      <td>0.0</td>\n",
       "      <td>0.0</td>\n",
       "      <td>0.0</td>\n",
       "      <td>0.000000</td>\n",
       "    </tr>\n",
       "    <tr>\n",
       "      <th>001161.01</th>\n",
       "      <td>0.0</td>\n",
       "      <td>0.0</td>\n",
       "      <td>0.0</td>\n",
       "      <td>0.0</td>\n",
       "      <td>0.0</td>\n",
       "      <td>0.002222</td>\n",
       "      <td>0.002159</td>\n",
       "      <td>0.002215</td>\n",
       "      <td>0.002172</td>\n",
       "      <td>0.002082</td>\n",
       "      <td>...</td>\n",
       "      <td>0.0</td>\n",
       "      <td>0.0</td>\n",
       "      <td>0.0</td>\n",
       "      <td>0.0</td>\n",
       "      <td>0.0</td>\n",
       "      <td>0.0</td>\n",
       "      <td>0.0</td>\n",
       "      <td>0.0</td>\n",
       "      <td>0.0</td>\n",
       "      <td>0.004545</td>\n",
       "    </tr>\n",
       "    <tr>\n",
       "      <th>001209.01</th>\n",
       "      <td>0.0</td>\n",
       "      <td>0.0</td>\n",
       "      <td>0.0</td>\n",
       "      <td>0.0</td>\n",
       "      <td>0.0</td>\n",
       "      <td>0.000000</td>\n",
       "      <td>0.000000</td>\n",
       "      <td>0.000000</td>\n",
       "      <td>0.000000</td>\n",
       "      <td>0.000000</td>\n",
       "      <td>...</td>\n",
       "      <td>0.0</td>\n",
       "      <td>0.0</td>\n",
       "      <td>0.0</td>\n",
       "      <td>0.0</td>\n",
       "      <td>0.0</td>\n",
       "      <td>0.0</td>\n",
       "      <td>0.0</td>\n",
       "      <td>0.0</td>\n",
       "      <td>0.0</td>\n",
       "      <td>0.000000</td>\n",
       "    </tr>\n",
       "  </tbody>\n",
       "</table>\n",
       "<p>5 rows × 62 columns</p>\n",
       "</div>"
      ],
      "text/plain": [
       "           2019-01-04  2019-01-11  2019-01-18  2019-01-25  2019-02-01  \\\n",
       "001045.04         0.0         0.0         0.0         0.0         0.0   \n",
       "001075.01         0.0         0.0         0.0         0.0         0.0   \n",
       "001078.01         0.0         0.0         0.0         0.0         0.0   \n",
       "001161.01         0.0         0.0         0.0         0.0         0.0   \n",
       "001209.01         0.0         0.0         0.0         0.0         0.0   \n",
       "\n",
       "           2019-02-08  2019-02-15  2019-02-22  2019-03-01  2019-03-08  ...  \\\n",
       "001045.04    0.000000    0.000000    0.000000    0.000000    0.000000  ...   \n",
       "001075.01    0.000000    0.000000    0.000000    0.000000    0.000000  ...   \n",
       "001078.01    0.000000    0.000000    0.000000    0.000000    0.000000  ...   \n",
       "001161.01    0.002222    0.002159    0.002215    0.002172    0.002082  ...   \n",
       "001209.01    0.000000    0.000000    0.000000    0.000000    0.000000  ...   \n",
       "\n",
       "           2019-12-31  2020-01-03  2020-01-10  2020-01-17  2020-01-24  \\\n",
       "001045.04         0.0         0.0         0.0         0.0         0.0   \n",
       "001075.01         0.0         0.0         0.0         0.0         0.0   \n",
       "001078.01         0.0         0.0         0.0         0.0         0.0   \n",
       "001161.01         0.0         0.0         0.0         0.0         0.0   \n",
       "001209.01         0.0         0.0         0.0         0.0         0.0   \n",
       "\n",
       "           2020-01-31  2020-02-07  2020-02-14  2020-02-21  2020-02-28  \n",
       "001045.04         0.0         0.0         0.0         0.0    0.000000  \n",
       "001075.01         0.0         0.0         0.0         0.0    0.000000  \n",
       "001078.01         0.0         0.0         0.0         0.0    0.000000  \n",
       "001161.01         0.0         0.0         0.0         0.0    0.004545  \n",
       "001209.01         0.0         0.0         0.0         0.0    0.000000  \n",
       "\n",
       "[5 rows x 62 columns]"
      ]
     },
     "execution_count": 21,
     "metadata": {},
     "output_type": "execute_result"
    }
   ],
   "source": [
    "portfolio_weight_with_etf.head()"
   ]
  },
  {
   "cell_type": "markdown",
   "metadata": {},
   "source": [
    "## Attribution class, CASE14, UsingRegionInsteadofCountryClassification\n",
    "- Setup inputs and configurations\n",
    "- Calculate\n",
    "- Persist\n",
    "- Get raw output data from calculation results\n",
    "- Generate figures and PDF files"
   ]
  },
  {
   "cell_type": "code",
   "execution_count": 22,
   "metadata": {
    "collapsed": true
   },
   "outputs": [],
   "source": [
    "!rm -rf {sample_config[\"base_dir\"]}\n",
    "!mkdir -p {sample_config[\"base_dir\"]}"
   ]
  },
  {
   "cell_type": "code",
   "execution_count": 23,
   "metadata": {
    "collapsed": false,
    "scrolled": true
   },
   "outputs": [
    {
     "name": "stdout",
     "output_type": "stream",
     "text": [
      "rAttribution <- Attribution$new()\n",
      "rAttributionGlobal <- AttributionGlobal$new()\n",
      "rAttributionGlobal <- rAttributionGlobal$setOutputDir(outputDir = '/mnt/ebs1/data/hwei/attribution/test/20200731')\n",
      "rAttributionGlobal <- rAttributionGlobal$setOutputFileNamePrefix(fileNamePrefix = 'Merrion_20200313_v2', timeStamp = 'u%Y%m%d')\n",
      "rAttributionGlobal <- rAttributionGlobal$setPortfolioMatrix(portfolioMatrix = pMat)\n",
      "rm(pMat)\n",
      "rAttributionGlobal <- rAttributionGlobal$runWithDailyPerformance(runDaily = TRUE)\n",
      "rAttributionGlobal <- rAttributionGlobal$setSectorSplitRegex(patterns = c('^(?!35)([0-9]{2})[0-9]{6}$', '^([0-9]{4})[0-9]{4}$'), replacements = c('\\\\1', '\\\\1'))\n",
      "rAttributionGlobal <- rAttributionGlobal$setCountryFactor(countryFactor = c('QES_REGION'))\n",
      "rAttributionGlobal <- rAttributionGlobal$setCountryNameConv(convMap = c('GB' = 'United Kindom', 'EU' = 'Europe', 'ANZ' = 'Australia', 'US' = 'United States', 'AXJ' = 'Asia ex Japan', 'CA' = 'Canada', 'JP' = 'Japan'))\n",
      "rAttributionGlobal <- rAttributionGlobal$loadAxiomaIdioRisk(load = TRUE)\n",
      "rAttributionGlobal <- rAttributionGlobal$setFmpUniverse(fmpUniverse = 'CIQMSCI_379978898__OR__Merrion_20200313_v2', universeId = TRUE, universeName = 'MSCI World', customizedInFmpMat = NULL)\n",
      "rAttributionGlobal <- rAttributionGlobal$setFMPIncludeHolding(include = FALSE, includeOrigHoldingOnly = FALSE)\n",
      "rAttributionGlobal <- rAttributionGlobal$setBenchmark(benchmark = c('MSCI World' = 'CIQMSCI_379978898'), equalWeightBenchmark = FALSE, benchmarkWeightTag = 'CIQ_MSCI_FLOAT', benchmarkId = TRUE, benchmarkName = NULL, customizedBenchmarkWeight = NULL)\n",
      "rAttributionGlobal <- rAttributionGlobal$setStyleFactors(styleFactors = c('EPSYLD_LTM_B', 'RTN_12M1M', 'ES_EPS_NTM_R3M', 'FCFYLD', 'ROE', 'REAL_VOL', 'MKTCAP', 'DIVYLD_TRL', 'BOOKP', 'GR_INTR_EPS', 'GR_EXP_5Y_EPS', 'DX_UTILIZATION', 'QES_MACROBETA2_WTI_TR', 'QES_SIRC_LEV', 'QES_MACROBETA2_HY_SPREADS'), styleFactorNames = c('Earnings Yld', 'Momentum (12M-1M)', 'Revision', 'Free Cashflow Yld', 'Profitability', 'Volatility', 'Size (MktCap)', 'Dividend Yld', 'Book To Market', 'EPS Growth (YoY)', 'EPS Exp Growth(5Y)', 'Short Interest', 'Oil Beta', 'Interest Rate', 'High Yield Spread'), styleFactorFromLQuant = c('EPSYLD_LTM_B', 'RTN_12M1M', 'ES_EPS_NTM_R3M', 'FCFYLD', 'ROE', 'REAL_VOL', 'MKTCAP', 'DIVYLD_TRL', 'BOOKP', 'GR_INTR_EPS', 'GR_EXP_5Y_EPS', 'DX_UTILIZATION', 'QES_MACROBETA2_WTI_TR', 'QES_SIRC_LEV', 'QES_MACROBETA2_HY_SPREADS'))\n"
     ]
    }
   ],
   "source": [
    "attr_cls = AttributionGlobal()\n",
    "attr_cls = attr_cls.set_output_dir(output_dir=sample_config[\"base_dir\"])\n",
    "attr_cls = attr_cls.set_output_file_name_prefix(file_name_prefix=sample_config[\"port_id\"])\n",
    "attr_cls = attr_cls.set_portfolio_matrix(portfolio_matrix=portfolio_weight_with_etf)\n",
    "attr_cls = attr_cls.run_with_daily_performance(run_daily=True)\n",
    "attr_cls = attr_cls.set_sector_split_regex(\n",
    "    patterns=[\"^(?!35)([0-9]{2})[0-9]{6}$\", \"^([0-9]{4})[0-9]{4}$\"],\n",
    "    replacements=[\"\\\\\\\\1\", \"\\\\\\\\1\"]\n",
    ")\n",
    "attr_cls = attr_cls.set_country_factor(country_factor=[\"QES_REGION\"])\n",
    "#attr_cls = attr_cls.addExteriorFactorsQueryFunc(extraFactorQuery, exteriorFactors = 'QES_REGION')\n",
    "attr_cls = attr_cls.set_country_name_conv(\n",
    "    conv_map={\n",
    "        \"US\": \"United States\", \"CA\": \"Canada\", \"EU\": \"Europe\",\n",
    "        \"AXJ\": \"Asia ex Japan\", \"JP\": \"Japan\",\n",
    "        \"GB\": \"United Kindom\", \"ANZ\": \"Australia\",\n",
    "    }\n",
    ")\n",
    "attr_cls = attr_cls.load_axioma_idio_risk(load=True)\n",
    "attr_cls = attr_cls.set_fmp_universe(\n",
    "    fmp_universe=sample_config[\"factor_universe\"],\n",
    "    universe_id=True,\n",
    "    universe_name=sample_config[\"factor_universe_name\"]\n",
    ")\n",
    "attr_cls = attr_cls.set_fmp_include_holding(include=False)\n",
    "attr_cls = attr_cls.set_benchmark(\n",
    "    benchmark={\"MSCI World\": \"CIQMSCI_379978898\"},\n",
    "    benchmark_weight_tag=\"CIQ_MSCI_FLOAT\",\n",
    "    benchmark_id=True\n",
    ")\n",
    "attr_cls = attr_cls.set_style_factors(\n",
    "    style_factors=sample_config[\"style_factors\"],\n",
    "    style_factor_names=sample_config[\"style_factor_names\"]\n",
    ")"
   ]
  },
  {
   "cell_type": "markdown",
   "metadata": {},
   "source": [
    "- Note, the calculation method will take relatively long to complete ...\n",
    "- Therefore, usually it would be good to persist this for future use ..."
   ]
  },
  {
   "cell_type": "code",
   "execution_count": 15,
   "metadata": {
    "collapsed": false
   },
   "outputs": [
    {
     "name": "stdout",
     "output_type": "stream",
     "text": [
      "rAttribution <- rAttribution$calculate()\n"
     ]
    }
   ],
   "source": [
    "attr_cls = attr_cls.calculate()"
   ]
  },
  {
   "cell_type": "code",
   "execution_count": 16,
   "metadata": {
    "collapsed": false
   },
   "outputs": [
    {
     "name": "stdout",
     "output_type": "stream",
     "text": [
      "save(rAttribution, file = \"rAttribution.RData\")\n"
     ]
    }
   ],
   "source": [
    "attr_cls.persist_class()"
   ]
  },
  {
   "cell_type": "code",
   "execution_count": 17,
   "metadata": {
    "collapsed": false
   },
   "outputs": [
    {
     "name": "stdout",
     "output_type": "stream",
     "text": [
      "./rAttribution.RData\r\n"
     ]
    }
   ],
   "source": [
    "!ls ./*.RData"
   ]
  },
  {
   "cell_type": "markdown",
   "metadata": {},
   "source": [
    "- Get raw output data as a nested dictionary of dataframes from Attribution class"
   ]
  },
  {
   "cell_type": "code",
   "execution_count": 18,
   "metadata": {
    "collapsed": false
   },
   "outputs": [
    {
     "name": "stdout",
     "output_type": "stream",
     "text": [
      "res <- rAttribution$getOutputRaw()\n",
      "rm(res)\n"
     ]
    }
   ],
   "source": [
    "attr_raw_output_data = attr_cls.get_output_raw()"
   ]
  },
  {
   "cell_type": "code",
   "execution_count": 19,
   "metadata": {
    "collapsed": false
   },
   "outputs": [
    {
     "data": {
      "text/plain": [
       "['AttributionSummary',\n",
       " 'AttributionSummary_PIT',\n",
       " 'Bias Stat',\n",
       " 'BrSum',\n",
       " 'Concentration Analysis',\n",
       " 'Correlation',\n",
       " 'coverage',\n",
       " 'Cum Portfolio Return Contribution',\n",
       " 'Cum Residual Return Contribution',\n",
       " 'Cum Return after Adv Cut',\n",
       " 'Cum Return after Delta Adv Cut',\n",
       " 'Cum Return Contribution',\n",
       " 'Cum SecRetAlloc Contribution',\n",
       " 'Cum StyleRetAlloc Contribution',\n",
       " 'Cum StyleRetSelec Contribution',\n",
       " 'dailyCumReturnContri',\n",
       " 'dailyReturnContri_plain',\n",
       " 'Delta Port Adj ADV Perc',\n",
       " 'Exposure (Vol Adj)',\n",
       " 'Factor Decile',\n",
       " 'Factor Exposure',\n",
       " 'Factor Gross Size',\n",
       " 'Factor Score',\n",
       " 'FMP Cum Return',\n",
       " 'FMP Return',\n",
       " 'fmpDailyCumReturns',\n",
       " 'fmpDailyReturns',\n",
       " 'Gross Wgt By Sec',\n",
       " 'ICs',\n",
       " 'Low Weight Cut_NUM',\n",
       " 'Low Weight Cut_PERC',\n",
       " 'Low Weight CutCUM_RETURN',\n",
       " 'Low Weight CutRETURN',\n",
       " 'LSreturns',\n",
       " 'Net Wgt By Sec',\n",
       " 'Port Adj ADV Perc',\n",
       " 'Port Turnover',\n",
       " 'Portfolio Turnover',\n",
       " 'portfolio_smooth_CUM_RETURN',\n",
       " 'portfolio_smooth_RETURN',\n",
       " 'portfolio_smooth_TURNOVER',\n",
       " 'Post Cut Residual_NUM',\n",
       " 'Post Cut Residual_PERC',\n",
       " 'Post Cut ResidualCUM_RETURN',\n",
       " 'Post Cut ResidualRETURN',\n",
       " 'PostSmoothResi_CUM_RETURN',\n",
       " 'PostSmoothResi_RETURN',\n",
       " 'PostSmoothResi_TURNOVER',\n",
       " 'Resi Gross Weight By Sec',\n",
       " 'Resi Low Weight Cut_NUM',\n",
       " 'Resi Low Weight Cut_PERC',\n",
       " 'Resi Low Weight CutCUM_RETURN',\n",
       " 'Resi Low Weight CutRETURN',\n",
       " 'Resi Return Contri',\n",
       " 'Resi Risk Contribution',\n",
       " 'Residual Risk',\n",
       " 'ResidualComponents',\n",
       " 'residualDailyCumReturns',\n",
       " 'residualSummary_PIT',\n",
       " 'Return after Adv Cut',\n",
       " 'Return after Delta Adv Cut',\n",
       " 'Return Contribution',\n",
       " 'Rev Concentration Analysis',\n",
       " 'Risk Contribution',\n",
       " 'Risk Contribution(%)',\n",
       " 'SCs',\n",
       " 'SecBr_PIT',\n",
       " 'Sector Decomp Port Return',\n",
       " 'Sectors Names Holding',\n",
       " 'Sectors Turnover',\n",
       " 'Sectors Weights',\n",
       " 'Summary',\n",
       " 'turnover',\n",
       " 'wealth']"
      ]
     },
     "execution_count": 19,
     "metadata": {},
     "output_type": "execute_result"
    }
   ],
   "source": [
    "sorted(\n",
    "    attr_raw_output_data.keys(),\n",
    "    key=str.lower\n",
    ")"
   ]
  },
  {
   "cell_type": "code",
   "execution_count": 20,
   "metadata": {
    "collapsed": false
   },
   "outputs": [
    {
     "data": {
      "text/html": [
       "<div>\n",
       "<style scoped>\n",
       "    .dataframe tbody tr th:only-of-type {\n",
       "        vertical-align: middle;\n",
       "    }\n",
       "\n",
       "    .dataframe tbody tr th {\n",
       "        vertical-align: top;\n",
       "    }\n",
       "\n",
       "    .dataframe thead th {\n",
       "        text-align: right;\n",
       "    }\n",
       "</style>\n",
       "<table border=\"1\" class=\"dataframe\">\n",
       "  <thead>\n",
       "    <tr style=\"text-align: right;\">\n",
       "      <th></th>\n",
       "      <th>Factor Exposure</th>\n",
       "      <th>Factor Decile</th>\n",
       "      <th>Exposure (Vol Adj)</th>\n",
       "      <th>Correlation</th>\n",
       "      <th>Risk Contribution</th>\n",
       "      <th>Risk Contribution(%)</th>\n",
       "      <th>Return Contribution</th>\n",
       "    </tr>\n",
       "  </thead>\n",
       "  <tbody>\n",
       "    <tr>\n",
       "      <th>Earnings Yld</th>\n",
       "      <td>0.310860</td>\n",
       "      <td>6.660714</td>\n",
       "      <td>0.005490</td>\n",
       "      <td>0.064774</td>\n",
       "      <td>0.000854</td>\n",
       "      <td>0.011256</td>\n",
       "      <td>0.001262</td>\n",
       "    </tr>\n",
       "    <tr>\n",
       "      <th>Momentum (12M-1M)</th>\n",
       "      <td>0.729601</td>\n",
       "      <td>8.017857</td>\n",
       "      <td>0.015356</td>\n",
       "      <td>0.200839</td>\n",
       "      <td>0.004810</td>\n",
       "      <td>0.081538</td>\n",
       "      <td>0.007654</td>\n",
       "    </tr>\n",
       "    <tr>\n",
       "      <th>Revision</th>\n",
       "      <td>0.472183</td>\n",
       "      <td>7.151786</td>\n",
       "      <td>0.004230</td>\n",
       "      <td>0.001051</td>\n",
       "      <td>0.000241</td>\n",
       "      <td>0.005040</td>\n",
       "      <td>0.001721</td>\n",
       "    </tr>\n",
       "    <tr>\n",
       "      <th>Profitability</th>\n",
       "      <td>0.829700</td>\n",
       "      <td>8.383929</td>\n",
       "      <td>0.016325</td>\n",
       "      <td>0.039721</td>\n",
       "      <td>0.000566</td>\n",
       "      <td>0.014266</td>\n",
       "      <td>-0.009172</td>\n",
       "    </tr>\n",
       "    <tr>\n",
       "      <th>Volatility</th>\n",
       "      <td>-0.371438</td>\n",
       "      <td>4.062500</td>\n",
       "      <td>-0.018907</td>\n",
       "      <td>-0.366855</td>\n",
       "      <td>0.009191</td>\n",
       "      <td>0.140506</td>\n",
       "      <td>-0.000792</td>\n",
       "    </tr>\n",
       "  </tbody>\n",
       "</table>\n",
       "</div>"
      ],
      "text/plain": [
       "                   Factor Exposure  Factor Decile  Exposure (Vol Adj)  \\\n",
       "Earnings Yld              0.310860       6.660714            0.005490   \n",
       "Momentum (12M-1M)         0.729601       8.017857            0.015356   \n",
       "Revision                  0.472183       7.151786            0.004230   \n",
       "Profitability             0.829700       8.383929            0.016325   \n",
       "Volatility               -0.371438       4.062500           -0.018907   \n",
       "\n",
       "                   Correlation  Risk Contribution  Risk Contribution(%)  \\\n",
       "Earnings Yld          0.064774           0.000854              0.011256   \n",
       "Momentum (12M-1M)     0.200839           0.004810              0.081538   \n",
       "Revision              0.001051           0.000241              0.005040   \n",
       "Profitability         0.039721           0.000566              0.014266   \n",
       "Volatility           -0.366855           0.009191              0.140506   \n",
       "\n",
       "                   Return Contribution  \n",
       "Earnings Yld                  0.001262  \n",
       "Momentum (12M-1M)             0.007654  \n",
       "Revision                      0.001721  \n",
       "Profitability                -0.009172  \n",
       "Volatility                   -0.000792  "
      ]
     },
     "execution_count": 20,
     "metadata": {},
     "output_type": "execute_result"
    }
   ],
   "source": [
    "attr_raw_output_data[\"AttributionSummary\"].head()"
   ]
  },
  {
   "cell_type": "markdown",
   "metadata": {},
   "source": [
    "- Dump excel output"
   ]
  },
  {
   "cell_type": "code",
   "execution_count": 21,
   "metadata": {
    "collapsed": false
   },
   "outputs": [
    {
     "name": "stdout",
     "output_type": "stream",
     "text": [
      "rAttribution <- rAttribution$outputExcel()\n"
     ]
    }
   ],
   "source": [
    "attr_cls = attr_cls.output_excel()"
   ]
  },
  {
   "cell_type": "code",
   "execution_count": 22,
   "metadata": {
    "collapsed": false
   },
   "outputs": [
    {
     "name": "stdout",
     "output_type": "stream",
     "text": [
      "FS_Event_US_u20200727_SummaryAndTS_20200727085717.xlsx\r\n"
     ]
    }
   ],
   "source": [
    "!ls {sample_config[\"base_dir\"]}/data"
   ]
  },
  {
   "cell_type": "markdown",
   "metadata": {},
   "source": [
    "- Dump png output"
   ]
  },
  {
   "cell_type": "code",
   "execution_count": 23,
   "metadata": {
    "collapsed": false
   },
   "outputs": [
    {
     "name": "stdout",
     "output_type": "stream",
     "text": [
      "rAttribution <- rAttribution$outputCharts()\n",
      "rAttribution <- rAttribution$outputPITCharts()\n"
     ]
    }
   ],
   "source": [
    "attr_cls = attr_cls.output_charts()\n",
    "attr_cls = attr_cls.output_pit_charts()"
   ]
  },
  {
   "cell_type": "code",
   "execution_count": 24,
   "metadata": {
    "collapsed": false,
    "scrolled": true
   },
   "outputs": [
    {
     "name": "stdout",
     "output_type": "stream",
     "text": [
      "/mnt/ebs1/data/hwei/attribution/test/20200719/charts:\r\n",
      "FS_Event_US_u20200727  FS_Event_US_u20200727_PIT\r\n",
      "\r\n",
      "/mnt/ebs1/data/hwei/attribution/test/20200719/charts/FS_Event_US_u20200727:\r\n",
      "0_1_summaryTable.png\r\n",
      "0_2_residualTable.png\r\n",
      "10_ReturnContri_Sectors.png\r\n",
      "11_Performance_Sectors.png\r\n",
      "12_1_ReturnContribution_Residuals.png\r\n",
      "12_CumReturns_Residuals.png\r\n",
      "13_Risk_vs_Return_Styles.png\r\n",
      "14_Risk_vs_Return_Sectors.png\r\n",
      "17_10_Communication_Sectors_Exp_vs_Return.png\r\n",
      "17_11_Utilities_Sectors_Exp_vs_Return.png\r\n",
      "17_12_Real Estate_Sectors_Exp_vs_Return.png\r\n",
      "17_1_Energy_Sectors_Exp_vs_Return.png\r\n",
      "17_2_Materials_Sectors_Exp_vs_Return.png\r\n",
      "17_3_Industrials_Sectors_Exp_vs_Return.png\r\n",
      "17_4_Con Discretionary_Sectors_Exp_vs_Return.png\r\n",
      "17_5_Con Staples_Sectors_Exp_vs_Return.png\r\n",
      "17_6_HealthCare E&S_Sectors_Exp_vs_Return.png\r\n",
      "17_7_Pharm&Bio_Sectors_Exp_vs_Return.png\r\n",
      "17_8_Financials_Sectors_Exp_vs_Return.png\r\n",
      "17_9_Info Tech_Sectors_Exp_vs_Return.png\r\n",
      "18_1_10_Communication_Alloc_Decomp_Sectors.png\r\n",
      "18_1_11_Utilities_Alloc_Decomp_Sectors.png\r\n",
      "18_1_12_Real Estate_Alloc_Decomp_Sectors.png\r\n",
      "18_1_1_Energy_Alloc_Decomp_Sectors.png\r\n",
      "18_1_2_Materials_Alloc_Decomp_Sectors.png\r\n",
      "18_1_3_Industrials_Alloc_Decomp_Sectors.png\r\n",
      "18_1_4_Con Discretionary_Alloc_Decomp_Sectors.png\r\n",
      "18_1_5_Con Staples_Alloc_Decomp_Sectors.png\r\n",
      "18_1_6_HealthCare E&S_Alloc_Decomp_Sectors.png\r\n",
      "18_1_7_Pharm&Bio_Alloc_Decomp_Sectors.png\r\n",
      "18_1_8_Financials_Alloc_Decomp_Sectors.png\r\n",
      "18_1_9_Info Tech_Alloc_Decomp_Sectors.png\r\n",
      "18_2_10_Communication_Selec_Decomp_Sectors.png\r\n",
      "18_2_11_Utilities_Selec_Decomp_Sectors.png\r\n",
      "18_2_12_Real Estate_Selec_Decomp_Sectors.png\r\n",
      "18_2_1_Energy_Selec_Decomp_Sectors.png\r\n",
      "18_2_2_Materials_Selec_Decomp_Sectors.png\r\n",
      "18_2_3_Industrials_Selec_Decomp_Sectors.png\r\n",
      "18_2_4_Con Discretionary_Selec_Decomp_Sectors.png\r\n",
      "18_2_5_Con Staples_Selec_Decomp_Sectors.png\r\n",
      "18_2_6_HealthCare E&S_Selec_Decomp_Sectors.png\r\n",
      "18_2_7_Pharm&Bio_Selec_Decomp_Sectors.png\r\n",
      "18_2_8_Financials_Selec_Decomp_Sectors.png\r\n",
      "18_2_9_Info Tech_Selec_Decomp_Sectors.png\r\n",
      "19_1_Allocation_FactorExposure_BySector.png\r\n",
      "19_1_Selection_FactorExposure_BySector.png\r\n",
      "19_1_Total_FactorExposure_BySector.png\r\n",
      "19_2_Allocation_ReturnContri_BySector.png\r\n",
      "19_2_Selection_ReturnContri_BySector.png\r\n",
      "19_2_Total_ReturnContri_BySector.png\r\n",
      "19_3_Allocation_RiskContri_BySector.png\r\n",
      "19_3_Selection_RiskContri_BySector.png\r\n",
      "19_3_Total_RiskContri_BySector.png\r\n",
      "1_Exp_vs_Return_Styles.png\r\n",
      "2_Exp_vs_Return_Sectors.png\r\n",
      "3_Risk_vs_Return_Overview.png\r\n",
      "4_1_Sector_Return_Decomposition.png\r\n",
      "4_Risk_vs_Return_Residual.png\r\n",
      "5_1_FactorExposure_Styles.png\r\n",
      "5_2_ReturnContribution_Styles.png\r\n",
      "6_1_FactorExposure_Sectors.png\r\n",
      "6_2_ReturnContribution_Sectors.png\r\n",
      "7_ReturnContribution_Overview.png\r\n",
      "8_ReturnContri_Styles.png\r\n",
      "9_Performance_Styles.png\r\n",
      "\r\n",
      "/mnt/ebs1/data/hwei/attribution/test/20200719/charts/FS_Event_US_u20200727_PIT:\r\n",
      "0_1_summaryTable.png\t       19_1_Allocation_FactorExposure_BySector.png\r\n",
      "0_2_residualTable.png\t       19_1_Selection_FactorExposure_BySector.png\r\n",
      "17_10_Sectors_Exp_vs_Risk.png  19_1_Total_FactorExposure_BySector.png\r\n",
      "17_11_Sectors_Exp_vs_Risk.png  19_2_Allocation_ReturnContri_BySector.png\r\n",
      "17_12_Sectors_Exp_vs_Risk.png  19_2_Selection_ReturnContri_BySector.png\r\n",
      "17_1_Sectors_Exp_vs_Risk.png   19_2_Total_ReturnContri_BySector.png\r\n",
      "17_2_Sectors_Exp_vs_Risk.png   19_3_Allocation_RiskContri_BySector.png\r\n",
      "17_3_Sectors_Exp_vs_Risk.png   19_3_Selection_RiskContri_BySector.png\r\n",
      "17_4_Sectors_Exp_vs_Risk.png   19_3_Total_RiskContri_BySector.png\r\n",
      "17_5_Sectors_Exp_vs_Risk.png   1_Exp_vs_Return_Styles.png\r\n",
      "17_6_Sectors_Exp_vs_Risk.png   2_Exp_vs_Return_Sectors.png\r\n",
      "17_7_Sectors_Exp_vs_Risk.png   3_Risk_vs_Return_Overview.png\r\n",
      "17_8_Sectors_Exp_vs_Risk.png   4_Risk_Overview_By_Sectors.png\r\n",
      "17_9_Sectors_Exp_vs_Risk.png\r\n"
     ]
    }
   ],
   "source": [
    "!ls -R {sample_config[\"base_dir\"]}/charts"
   ]
  },
  {
   "cell_type": "markdown",
   "metadata": {},
   "source": [
    "- Dump pdf output"
   ]
  },
  {
   "cell_type": "code",
   "execution_count": 25,
   "metadata": {
    "collapsed": false
   },
   "outputs": [
    {
     "name": "stdout",
     "output_type": "stream",
     "text": [
      "rAttribution <- rAttribution$setPDFTitle(title = 'FS Event Portfolio Historical Attribution')\n",
      "rAttribution <- rAttribution$setPDFTitle_PIT(title = 'FS Event Portfolio Attribution Point-In-Time')\n",
      "rAttribution <- rAttribution$generateHistoricalPDF()\n",
      "rAttribution <- rAttribution$generatePITPDF()\n"
     ]
    }
   ],
   "source": [
    "attr_cls = attr_cls.set_pdf_title(\n",
    "    title=\"{} Portfolio Historical Attribution\".format(sample_config[\"port_name\"])\n",
    ")\n",
    "attr_cls = attr_cls.set_pdf_title_pit(\n",
    "    title=\"{} Portfolio Attribution Point-In-Time\".format(sample_config[\"port_name\"])\n",
    ")\n",
    "attr_cls = attr_cls.generate_historical_pdf()\n",
    "attr_cls = attr_cls.generate_pit_pdf()"
   ]
  },
  {
   "cell_type": "code",
   "execution_count": 26,
   "metadata": {
    "collapsed": false
   },
   "outputs": [
    {
     "name": "stdout",
     "output_type": "stream",
     "text": [
      "/mnt/ebs1/data/hwei/attribution/test/20200719/FS_Event_US_u20200727_Historical.pdf\r\n",
      "/mnt/ebs1/data/hwei/attribution/test/20200719/FS_Event_US_u20200727_PIT.pdf\r\n"
     ]
    }
   ],
   "source": [
    "!ls {sample_config[\"base_dir\"]}/*.pdf"
   ]
  },
  {
   "cell_type": "code",
   "execution_count": 27,
   "metadata": {
    "collapsed": false
   },
   "outputs": [
    {
     "name": "stdout",
     "output_type": "stream",
     "text": [
      "rm(rAttribution)\n"
     ]
    }
   ],
   "source": [
    "del attr_cls"
   ]
  },
  {
   "cell_type": "markdown",
   "metadata": {},
   "source": [
    "## Visualization\n",
    "\n",
    "- Heatmap, for example, AttributionSummary\n",
    "- Time series, for example, Cum Portfolio Return Contribution\n",
    "- Table, for example, Summary"
   ]
  },
  {
   "cell_type": "markdown",
   "metadata": {},
   "source": [
    "- Create new class from persisted class"
   ]
  },
  {
   "cell_type": "code",
   "execution_count": 28,
   "metadata": {
    "collapsed": false
   },
   "outputs": [
    {
     "name": "stdout",
     "output_type": "stream",
     "text": [
      "rAttribution <- Attribution$new()\n",
      "rm(rAttribution)\n",
      "load(file = \"./rAttribution.RData\")\n"
     ]
    }
   ],
   "source": [
    "attr_cls = Attribution.load_from_local_file(\n",
    "    file_path=\"./rAttribution.RData\", obj_name=\"rAttribution\"\n",
    ")"
   ]
  },
  {
   "cell_type": "code",
   "execution_count": 29,
   "metadata": {
    "collapsed": false
   },
   "outputs": [
    {
     "name": "stdout",
     "output_type": "stream",
     "text": [
      "res <- rAttribution$getOutputRaw()\n",
      "rm(res)\n"
     ]
    }
   ],
   "source": [
    "attr_raw_output_data = attr_cls.get_output_raw()"
   ]
  },
  {
   "cell_type": "code",
   "execution_count": 30,
   "metadata": {
    "collapsed": false
   },
   "outputs": [
    {
     "name": "stdout",
     "output_type": "stream",
     "text": [
      "rm(rAttribution)\n"
     ]
    }
   ],
   "source": [
    "del attr_cls"
   ]
  },
  {
   "cell_type": "code",
   "execution_count": 31,
   "metadata": {
    "collapsed": true
   },
   "outputs": [],
   "source": [
    "%matplotlib inline"
   ]
  },
  {
   "cell_type": "code",
   "execution_count": 32,
   "metadata": {
    "collapsed": true
   },
   "outputs": [],
   "source": [
    "attr_res_cls = AttributionResult(attr_raw_output_data)"
   ]
  },
  {
   "cell_type": "code",
   "execution_count": 33,
   "metadata": {
    "collapsed": false
   },
   "outputs": [
    {
     "data": {
      "image/png": "[encoded data removed]",
      "text/plain": [
       "<Figure size 2600x700 with 2 Axes>"
      ]
     },
     "metadata": {},
     "output_type": "display_data"
    }
   ],
   "source": [
    "fig = attr_res_cls.plot_attribution_summary()"
   ]
  },
  {
   "cell_type": "code",
   "execution_count": 34,
   "metadata": {
    "collapsed": false,
    "scrolled": true
   },
   "outputs": [
    {
     "data": {
      "image/png": "[encoded data removed]",
      "text/plain": [
       "<Figure size 2400x1800 with 3 Axes>"
      ]
     },
     "metadata": {},
     "output_type": "display_data"
    }
   ],
   "source": [
    "fig = attr_res_cls.plot_cum_portfolio_return_contribution()"
   ]
  },
  {
   "cell_type": "code",
   "execution_count": 35,
   "metadata": {
    "collapsed": false
   },
   "outputs": [
    {
     "data": {
      "image/png": "[encoded data removed]",
      "text/plain": [
       "<Figure size 600x400 with 1 Axes>"
      ]
     },
     "metadata": {},
     "output_type": "display_data"
    }
   ],
   "source": [
    "fig = attr_res_cls.plot_summary()"
   ]
  },
  {
   "cell_type": "code",
   "execution_count": 36,
   "metadata": {
    "collapsed": true
   },
   "outputs": [],
   "source": [
    "del attr_res_cls"
   ]
  },
  {
   "cell_type": "markdown",
   "metadata": {},
   "source": [
    "### End of file"
   ]
  }
 ],
 "metadata": {
  "kernelspec": {
   "display_name": "Python 3",
   "language": "python",
   "name": "python3"
  },
  "language_info": {
   "codemirror_mode": {
    "name": "ipython",
    "version": 3
   },
   "file_extension": ".py",
   "mimetype": "text/x-python",
   "name": "python",
   "nbconvert_exporter": "python",
   "pygments_lexer": "ipython3",
   "version": "3.5.2"
  }
 },
 "nbformat": 4,
 "nbformat_minor": 0
}
