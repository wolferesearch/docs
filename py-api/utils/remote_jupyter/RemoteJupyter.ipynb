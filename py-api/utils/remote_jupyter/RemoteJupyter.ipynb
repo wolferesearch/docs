{
 "cells": [
  {
   "cell_type": "markdown",
   "metadata": {},
   "source": [
    "### Interaction with Jupyter Notebook remotely\n",
    "\n",
    "The notebook does the following\n",
    "\n",
    "- Connects to user jupyter session using the token\n",
    "- Queries notebook content in the server\n",
    "- Queries running kernels\n",
    "- Executes code on jupyter kernel\n",
    "- Downloads data \n"
   ]
  },
  {
   "cell_type": "markdown",
   "metadata": {},
   "source": [
    "### Create a new object to communicate with the server"
   ]
  },
  {
   "cell_type": "code",
   "execution_count": 18,
   "metadata": {},
   "outputs": [],
   "source": [
    "from jupyterhub_client import  RemoteJupyterClient\n",
    "pp = pprint.PrettyPrinter(indent=4)\n",
    "import pprint\n",
    "remote = RemoteJupyterClient('karora','d055cd3b067a455a9fe2432cc313a7f2','rstudio2.luoquant.com/julia')"
   ]
  },
  {
   "cell_type": "markdown",
   "metadata": {},
   "source": [
    "### Lists down running kernels. At least one kernel should be available to execute the code"
   ]
  },
  {
   "cell_type": "code",
   "execution_count": 107,
   "metadata": {},
   "outputs": [
    {
     "data": {
      "text/html": [
       "<div>\n",
       "<style scoped>\n",
       "    .dataframe tbody tr th:only-of-type {\n",
       "        vertical-align: middle;\n",
       "    }\n",
       "\n",
       "    .dataframe tbody tr th {\n",
       "        vertical-align: top;\n",
       "    }\n",
       "\n",
       "    .dataframe thead th {\n",
       "        text-align: right;\n",
       "    }\n",
       "</style>\n",
       "<table border=\"1\" class=\"dataframe\">\n",
       "  <thead>\n",
       "    <tr style=\"text-align: right;\">\n",
       "      <th></th>\n",
       "      <th>id</th>\n",
       "      <th>name</th>\n",
       "      <th>last_activity</th>\n",
       "      <th>execution_state</th>\n",
       "      <th>connections</th>\n",
       "    </tr>\n",
       "  </thead>\n",
       "  <tbody>\n",
       "    <tr>\n",
       "      <th>0</th>\n",
       "      <td>12263c47-20c1-4311-b93a-bf79911e8042</td>\n",
       "      <td>python3</td>\n",
       "      <td>2022-05-19T16:41:06.274127Z</td>\n",
       "      <td>idle</td>\n",
       "      <td>1</td>\n",
       "    </tr>\n",
       "    <tr>\n",
       "      <th>1</th>\n",
       "      <td>54ba8661-9f6f-4db5-9cb1-083bada6a501</td>\n",
       "      <td>python3</td>\n",
       "      <td>2022-05-19T17:44:11.140592Z</td>\n",
       "      <td>idle</td>\n",
       "      <td>2</td>\n",
       "    </tr>\n",
       "  </tbody>\n",
       "</table>\n",
       "</div>"
      ],
      "text/plain": [
       "                                     id     name                last_activity  \\\n",
       "0  12263c47-20c1-4311-b93a-bf79911e8042  python3  2022-05-19T16:41:06.274127Z   \n",
       "1  54ba8661-9f6f-4db5-9cb1-083bada6a501  python3  2022-05-19T17:44:11.140592Z   \n",
       "\n",
       "  execution_state  connections  \n",
       "0            idle            1  \n",
       "1            idle            2  "
      ]
     },
     "execution_count": 107,
     "metadata": {},
     "output_type": "execute_result"
    }
   ],
   "source": [
    "remote.kernels()"
   ]
  },
  {
   "cell_type": "markdown",
   "metadata": {},
   "source": [
    "### Read content of a notebook"
   ]
  },
  {
   "cell_type": "code",
   "execution_count": 108,
   "metadata": {},
   "outputs": [],
   "source": [
    "notebook = remote.content('projects/demo/jupyter-remote/Remote Jupyter Demo.ipynb')"
   ]
  },
  {
   "cell_type": "code",
   "execution_count": 112,
   "metadata": {},
   "outputs": [
    {
     "name": "stdout",
     "output_type": "stream",
     "text": [
      "('#Initializes it should be called only once\\n'\n",
      " 'from lquantPy import LQuant\\n'\n",
      " 'wq = LQuant.LQuant()')\n"
     ]
    }
   ],
   "source": [
    "pp.pprint(notebook.loc[0,'source'])"
   ]
  },
  {
   "cell_type": "code",
   "execution_count": 19,
   "metadata": {},
   "outputs": [
    {
     "name": "stdout",
     "output_type": "stream",
     "text": [
      "('print(\"Fetching Data....\")\\n'\n",
      " 'r1 = '\n",
      " \"wq.new_request().runFor('SP500').start('2022-01-31').to('2022-02-28').at('1me').a('PRCCD').addInFlag()\\n\"\n",
      " 'data1 = wq.get_data(r1)\\n'\n",
      " 'print(\"Fetching Data Done.\")\\n'\n",
      " 'df = data1.as_large_data_frame()\\n'\n",
      " 'print(\"Exporting to File\")\\n'\n",
      " \"df.to_csv('sp500.csv')\\n\"\n",
      " 'print(\"File available for download\")')\n"
     ]
    }
   ],
   "source": [
    "pp.pprint(notebook.loc[1,'source'])"
   ]
  },
  {
   "cell_type": "markdown",
   "metadata": {},
   "source": [
    "### Execute Remote Code on the server"
   ]
  },
  {
   "cell_type": "code",
   "execution_count": 113,
   "metadata": {},
   "outputs": [
    {
     "name": "stdout",
     "output_type": "stream",
     "text": [
      "\u001b[0;31m---------------------------------------------------------------------------\u001b[0m\n",
      "\u001b[0;31mValueError\u001b[0m                                Traceback (most recent call last)\n",
      "\u001b[0;32m<ipython-input-12-f316b3568642>\u001b[0m in \u001b[0;36m<module>\u001b[0;34m()\u001b[0m\n",
      "\u001b[1;32m      1\u001b[0m \u001b[0;31m#Initializes it should be called only once\u001b[0m\u001b[0;34m\u001b[0m\u001b[0;34m\u001b[0m\u001b[0m\n",
      "\u001b[1;32m      2\u001b[0m \u001b[0;32mfrom\u001b[0m \u001b[0mlquantPy\u001b[0m \u001b[0;32mimport\u001b[0m \u001b[0mLQuant\u001b[0m\u001b[0;34m\u001b[0m\u001b[0m\n",
      "\u001b[0;32m----> 3\u001b[0;31m \u001b[0mwq\u001b[0m \u001b[0;34m=\u001b[0m \u001b[0mLQuant\u001b[0m\u001b[0;34m.\u001b[0m\u001b[0mLQuant\u001b[0m\u001b[0;34m(\u001b[0m\u001b[0;34m)\u001b[0m\u001b[0;34m\u001b[0m\u001b[0m\n",
      "\u001b[0m\n",
      "\u001b[0;32m/usr/local/lib/python3.5/dist-packages/lquantPy/LQuant.py\u001b[0m in \u001b[0;36m__init__\u001b[0;34m(self)\u001b[0m\n",
      "\u001b[1;32m    179\u001b[0m     \u001b[0;32mdef\u001b[0m \u001b[0m__init__\u001b[0m\u001b[0;34m(\u001b[0m\u001b[0mself\u001b[0m\u001b[0;34m)\u001b[0m\u001b[0;34m:\u001b[0m\u001b[0;34m\u001b[0m\u001b[0m\n",
      "\u001b[1;32m    180\u001b[0m \u001b[0;34m\u001b[0m\u001b[0m\n",
      "\u001b[0;32m--> 181\u001b[0;31m         \u001b[0m_set_init_parameters\u001b[0m\u001b[0;34m(\u001b[0m\u001b[0;34m)\u001b[0m\u001b[0;34m\u001b[0m\u001b[0m\n",
      "\u001b[0m\u001b[1;32m    182\u001b[0m \u001b[0;34m\u001b[0m\u001b[0m\n",
      "\u001b[1;32m    183\u001b[0m         \u001b[0mself\u001b[0m\u001b[0;34m.\u001b[0m\u001b[0mlogger\u001b[0m \u001b[0;34m=\u001b[0m \u001b[0m_get_logger\u001b[0m\u001b[0;34m(\u001b[0m\u001b[0m__name__\u001b[0m\u001b[0;34m)\u001b[0m\u001b[0;34m\u001b[0m\u001b[0m\n",
      "\n",
      "\u001b[0;32m/usr/local/lib/python3.5/dist-packages/lquantPy/LQuant.py\u001b[0m in \u001b[0;36m_set_init_parameters\u001b[0;34m()\u001b[0m\n",
      "\u001b[1;32m    101\u001b[0m \u001b[0;34m\u001b[0m\u001b[0m\n",
      "\u001b[1;32m    102\u001b[0m     \u001b[0;32mimport\u001b[0m \u001b[0mjnius_config\u001b[0m\u001b[0;34m\u001b[0m\u001b[0m\n",
      "\u001b[0;32m--> 103\u001b[0;31m     \u001b[0mjnius_config\u001b[0m\u001b[0;34m.\u001b[0m\u001b[0madd_options\u001b[0m\u001b[0;34m(\u001b[0m\u001b[0;34m'-Xms2g'\u001b[0m\u001b[0;34m,\u001b[0m \u001b[0;34m'-Xmx64g'\u001b[0m\u001b[0;34m)\u001b[0m\u001b[0;34m\u001b[0m\u001b[0m\n",
      "\u001b[0m\u001b[1;32m    104\u001b[0m \u001b[0;34m\u001b[0m\u001b[0m\n",
      "\u001b[1;32m    105\u001b[0m     \u001b[0mr_home\u001b[0m \u001b[0;34m=\u001b[0m \u001b[0;32mNone\u001b[0m\u001b[0;34m\u001b[0m\u001b[0m\n",
      "\n",
      "\u001b[0;32m/usr/local/lib/python3.5/dist-packages/jnius_config.py\u001b[0m in \u001b[0;36madd_options\u001b[0;34m(*opts)\u001b[0m\n",
      "\u001b[1;32m     24\u001b[0m     \u001b[0;34m\"Appends options to the list of VM options.\"\u001b[0m\u001b[0;34m\u001b[0m\u001b[0m\n",
      "\u001b[1;32m     25\u001b[0m     \u001b[0;32mif\u001b[0m \u001b[0mvm_running\u001b[0m\u001b[0;34m:\u001b[0m\u001b[0;34m\u001b[0m\u001b[0m\n",
      "\u001b[0;32m---> 26\u001b[0;31m         \u001b[0;32mraise\u001b[0m \u001b[0mValueError\u001b[0m\u001b[0;34m(\u001b[0m\u001b[0;34m\"VM is already running, can't set options\"\u001b[0m\u001b[0;34m)\u001b[0m\u001b[0;34m\u001b[0m\u001b[0m\n",
      "\u001b[0m\u001b[1;32m     27\u001b[0m     \u001b[0;32mglobal\u001b[0m \u001b[0moptions\u001b[0m\u001b[0;34m\u001b[0m\u001b[0m\n",
      "\u001b[1;32m     28\u001b[0m     \u001b[0moptions\u001b[0m\u001b[0;34m.\u001b[0m\u001b[0mextend\u001b[0m\u001b[0;34m(\u001b[0m\u001b[0mopts\u001b[0m\u001b[0;34m)\u001b[0m\u001b[0;34m\u001b[0m\u001b[0m\n",
      "\n",
      "\u001b[0;31mValueError\u001b[0m: VM is already running, can't set options\n"
     ]
    }
   ],
   "source": [
    "response = remote.execute('12263c47-20c1-4311-b93a-bf79911e8042', notebook.loc[0,'source'])"
   ]
  },
  {
   "cell_type": "code",
   "execution_count": 114,
   "metadata": {},
   "outputs": [
    {
     "name": "stdout",
     "output_type": "stream",
     "text": [
      "Fetching Data....\n",
      "Fetching Data Done.\n",
      "Exporting to File\n",
      "File available for download\n"
     ]
    }
   ],
   "source": [
    "response = remote.execute('12263c47-20c1-4311-b93a-bf79911e8042', notebook.loc[1,'source'])"
   ]
  },
  {
   "cell_type": "code",
   "execution_count": null,
   "metadata": {},
   "outputs": [],
   "source": []
  },
  {
   "cell_type": "markdown",
   "metadata": {},
   "source": [
    "### Download Data from the server"
   ]
  },
  {
   "cell_type": "code",
   "execution_count": 25,
   "metadata": {},
   "outputs": [
    {
     "data": {
      "text/html": [
       "<div>\n",
       "<style scoped>\n",
       "    .dataframe tbody tr th:only-of-type {\n",
       "        vertical-align: middle;\n",
       "    }\n",
       "\n",
       "    .dataframe tbody tr th {\n",
       "        vertical-align: top;\n",
       "    }\n",
       "\n",
       "    .dataframe thead th {\n",
       "        text-align: right;\n",
       "    }\n",
       "</style>\n",
       "<table border=\"1\" class=\"dataframe\">\n",
       "  <thead>\n",
       "    <tr style=\"text-align: right;\">\n",
       "      <th></th>\n",
       "      <th>name</th>\n",
       "      <th>path</th>\n",
       "      <th>last_modified</th>\n",
       "      <th>created</th>\n",
       "      <th>content</th>\n",
       "      <th>format</th>\n",
       "      <th>mimetype</th>\n",
       "      <th>size</th>\n",
       "      <th>writable</th>\n",
       "      <th>type</th>\n",
       "    </tr>\n",
       "  </thead>\n",
       "  <tbody>\n",
       "    <tr>\n",
       "      <th>0</th>\n",
       "      <td>lquant.log</td>\n",
       "      <td>projects/demo/jupyter-remote/lquant.log</td>\n",
       "      <td>2022-05-19T14:23:32.960801Z</td>\n",
       "      <td>2022-05-19T14:23:32.960801Z</td>\n",
       "      <td>None</td>\n",
       "      <td>None</td>\n",
       "      <td>None</td>\n",
       "      <td>182627</td>\n",
       "      <td>True</td>\n",
       "      <td>file</td>\n",
       "    </tr>\n",
       "    <tr>\n",
       "      <th>1</th>\n",
       "      <td>lquant-error.log</td>\n",
       "      <td>projects/demo/jupyter-remote/lquant-error.log</td>\n",
       "      <td>2022-03-23T18:38:17.828686Z</td>\n",
       "      <td>2022-03-23T18:38:17.828686Z</td>\n",
       "      <td>None</td>\n",
       "      <td>None</td>\n",
       "      <td>None</td>\n",
       "      <td>0</td>\n",
       "      <td>True</td>\n",
       "      <td>file</td>\n",
       "    </tr>\n",
       "    <tr>\n",
       "      <th>2</th>\n",
       "      <td>sp500.csv</td>\n",
       "      <td>projects/demo/jupyter-remote/sp500.csv</td>\n",
       "      <td>2022-05-19T14:23:33.000793Z</td>\n",
       "      <td>2022-05-19T14:23:33.000793Z</td>\n",
       "      <td>None</td>\n",
       "      <td>None</td>\n",
       "      <td>text/csv</td>\n",
       "      <td>35914</td>\n",
       "      <td>True</td>\n",
       "      <td>file</td>\n",
       "    </tr>\n",
       "    <tr>\n",
       "      <th>3</th>\n",
       "      <td>Remote Jupyter Demo.ipynb</td>\n",
       "      <td>projects/demo/jupyter-remote/Remote Jupyter De...</td>\n",
       "      <td>2022-05-19T14:12:57.919016Z</td>\n",
       "      <td>2022-05-19T14:12:57.919016Z</td>\n",
       "      <td>None</td>\n",
       "      <td>None</td>\n",
       "      <td>None</td>\n",
       "      <td>1379</td>\n",
       "      <td>True</td>\n",
       "      <td>notebook</td>\n",
       "    </tr>\n",
       "  </tbody>\n",
       "</table>\n",
       "</div>"
      ],
      "text/plain": [
       "                        name  \\\n",
       "0                 lquant.log   \n",
       "1           lquant-error.log   \n",
       "2                  sp500.csv   \n",
       "3  Remote Jupyter Demo.ipynb   \n",
       "\n",
       "                                                path  \\\n",
       "0            projects/demo/jupyter-remote/lquant.log   \n",
       "1      projects/demo/jupyter-remote/lquant-error.log   \n",
       "2             projects/demo/jupyter-remote/sp500.csv   \n",
       "3  projects/demo/jupyter-remote/Remote Jupyter De...   \n",
       "\n",
       "                 last_modified                      created content format  \\\n",
       "0  2022-05-19T14:23:32.960801Z  2022-05-19T14:23:32.960801Z    None   None   \n",
       "1  2022-03-23T18:38:17.828686Z  2022-03-23T18:38:17.828686Z    None   None   \n",
       "2  2022-05-19T14:23:33.000793Z  2022-05-19T14:23:33.000793Z    None   None   \n",
       "3  2022-05-19T14:12:57.919016Z  2022-05-19T14:12:57.919016Z    None   None   \n",
       "\n",
       "   mimetype    size  writable      type  \n",
       "0      None  182627      True      file  \n",
       "1      None       0      True      file  \n",
       "2  text/csv   35914      True      file  \n",
       "3      None    1379      True  notebook  "
      ]
     },
     "execution_count": 25,
     "metadata": {},
     "output_type": "execute_result"
    }
   ],
   "source": [
    "remote.content('projects/demo/jupyter-remote')"
   ]
  },
  {
   "cell_type": "code",
   "execution_count": 115,
   "metadata": {},
   "outputs": [],
   "source": [
    "data = remote.content('projects/demo/jupyter-remote/sp500.csv')"
   ]
  },
  {
   "cell_type": "code",
   "execution_count": 39,
   "metadata": {},
   "outputs": [],
   "source": [
    "??remote.content"
   ]
  },
  {
   "cell_type": "code",
   "execution_count": 116,
   "metadata": {},
   "outputs": [
    {
     "data": {
      "text/html": [
       "<div>\n",
       "<style scoped>\n",
       "    .dataframe tbody tr th:only-of-type {\n",
       "        vertical-align: middle;\n",
       "    }\n",
       "\n",
       "    .dataframe tbody tr th {\n",
       "        vertical-align: top;\n",
       "    }\n",
       "\n",
       "    .dataframe thead th {\n",
       "        text-align: right;\n",
       "    }\n",
       "</style>\n",
       "<table border=\"1\" class=\"dataframe\">\n",
       "  <thead>\n",
       "    <tr style=\"text-align: right;\">\n",
       "      <th></th>\n",
       "      <th>Unnamed: 0</th>\n",
       "      <th>DATE</th>\n",
       "      <th>ID</th>\n",
       "      <th>PRCCD</th>\n",
       "      <th>IN_SP500</th>\n",
       "    </tr>\n",
       "  </thead>\n",
       "  <tbody>\n",
       "    <tr>\n",
       "      <th>0</th>\n",
       "      <td>0</td>\n",
       "      <td>2022-01-31</td>\n",
       "      <td>1045.04</td>\n",
       "      <td>16.47</td>\n",
       "      <td>1.0</td>\n",
       "    </tr>\n",
       "    <tr>\n",
       "      <th>1</th>\n",
       "      <td>1</td>\n",
       "      <td>2022-01-31</td>\n",
       "      <td>1075.01</td>\n",
       "      <td>69.61</td>\n",
       "      <td>1.0</td>\n",
       "    </tr>\n",
       "    <tr>\n",
       "      <th>2</th>\n",
       "      <td>2</td>\n",
       "      <td>2022-01-31</td>\n",
       "      <td>1078.01</td>\n",
       "      <td>127.46</td>\n",
       "      <td>1.0</td>\n",
       "    </tr>\n",
       "    <tr>\n",
       "      <th>3</th>\n",
       "      <td>3</td>\n",
       "      <td>2022-01-31</td>\n",
       "      <td>1161.01</td>\n",
       "      <td>114.25</td>\n",
       "      <td>1.0</td>\n",
       "    </tr>\n",
       "    <tr>\n",
       "      <th>4</th>\n",
       "      <td>4</td>\n",
       "      <td>2022-01-31</td>\n",
       "      <td>1209.01</td>\n",
       "      <td>282.12</td>\n",
       "      <td>1.0</td>\n",
       "    </tr>\n",
       "    <tr>\n",
       "      <th>...</th>\n",
       "      <td>...</td>\n",
       "      <td>...</td>\n",
       "      <td>...</td>\n",
       "      <td>...</td>\n",
       "      <td>...</td>\n",
       "    </tr>\n",
       "    <tr>\n",
       "      <th>1009</th>\n",
       "      <td>1009</td>\n",
       "      <td>2022-02-28</td>\n",
       "      <td>188255.01</td>\n",
       "      <td>86.90</td>\n",
       "      <td>1.0</td>\n",
       "    </tr>\n",
       "    <tr>\n",
       "      <th>1010</th>\n",
       "      <td>1010</td>\n",
       "      <td>2022-02-28</td>\n",
       "      <td>189491.01</td>\n",
       "      <td>88.95</td>\n",
       "      <td>1.0</td>\n",
       "    </tr>\n",
       "    <tr>\n",
       "      <th>1011</th>\n",
       "      <td>1011</td>\n",
       "      <td>2022-02-28</td>\n",
       "      <td>260774.01</td>\n",
       "      <td>96.85</td>\n",
       "      <td>1.0</td>\n",
       "    </tr>\n",
       "    <tr>\n",
       "      <th>1012</th>\n",
       "      <td>1012</td>\n",
       "      <td>2022-02-28</td>\n",
       "      <td>294524.01</td>\n",
       "      <td>97.23</td>\n",
       "      <td>1.0</td>\n",
       "    </tr>\n",
       "    <tr>\n",
       "      <th>1013</th>\n",
       "      <td>1013</td>\n",
       "      <td>2022-02-28</td>\n",
       "      <td>316056.01</td>\n",
       "      <td>114.52</td>\n",
       "      <td>1.0</td>\n",
       "    </tr>\n",
       "  </tbody>\n",
       "</table>\n",
       "<p>1014 rows × 5 columns</p>\n",
       "</div>"
      ],
      "text/plain": [
       "      Unnamed: 0        DATE         ID   PRCCD  IN_SP500\n",
       "0              0  2022-01-31    1045.04   16.47       1.0\n",
       "1              1  2022-01-31    1075.01   69.61       1.0\n",
       "2              2  2022-01-31    1078.01  127.46       1.0\n",
       "3              3  2022-01-31    1161.01  114.25       1.0\n",
       "4              4  2022-01-31    1209.01  282.12       1.0\n",
       "...          ...         ...        ...     ...       ...\n",
       "1009        1009  2022-02-28  188255.01   86.90       1.0\n",
       "1010        1010  2022-02-28  189491.01   88.95       1.0\n",
       "1011        1011  2022-02-28  260774.01   96.85       1.0\n",
       "1012        1012  2022-02-28  294524.01   97.23       1.0\n",
       "1013        1013  2022-02-28  316056.01  114.52       1.0\n",
       "\n",
       "[1014 rows x 5 columns]"
      ]
     },
     "execution_count": 116,
     "metadata": {},
     "output_type": "execute_result"
    }
   ],
   "source": [
    "data"
   ]
  },
  {
   "cell_type": "code",
   "execution_count": 35,
   "metadata": {},
   "outputs": [
    {
     "name": "stdout",
     "output_type": "stream",
     "text": [
      "Fetching Data Done.\n",
      "Exporting to File\n",
      "File available for download\n"
     ]
    }
   ],
   "source": [
    "response = remote.execute('12263c47-20c1-4311-b93a-bf79911e8042', notebook.loc[2,'source'])"
   ]
  },
  {
   "cell_type": "code",
   "execution_count": 117,
   "metadata": {},
   "outputs": [
    {
     "ename": "NameError",
     "evalue": "name 'wq' is not defined",
     "output_type": "error",
     "traceback": [
      "\u001b[0;31m---------------------------------------------------------------------------\u001b[0m",
      "\u001b[0;31mNameError\u001b[0m                                 Traceback (most recent call last)",
      "\u001b[0;32m<ipython-input-117-47ef6989a686>\u001b[0m in \u001b[0;36m<module>\u001b[0;34m\u001b[0m\n\u001b[1;32m      1\u001b[0m \u001b[0;31m## Server Code\u001b[0m\u001b[0;34m\u001b[0m\u001b[0;34m\u001b[0m\u001b[0;34m\u001b[0m\u001b[0m\n\u001b[0;32m----> 2\u001b[0;31m port = wq.port_upload_file('MYCDTEST','/mnt/ebs1/karora/projects/demo/datafiles/mydata.csv',\n\u001b[0m\u001b[1;32m      3\u001b[0m                                 _global=False,pit_id=True,short_format=False)\n",
      "\u001b[0;31mNameError\u001b[0m: name 'wq' is not defined"
     ]
    }
   ],
   "source": [
    "## Server Code\n",
    "port = wq.port_upload_file('MYCDTEST','/mnt/ebs1/karora/projects/demo/datafiles/mydata.csv',\n",
    "                                _global=False,pit_id=True,short_format=False)"
   ]
  },
  {
   "cell_type": "code",
   "execution_count": 42,
   "metadata": {},
   "outputs": [],
   "source": []
  },
  {
   "cell_type": "code",
   "execution_count": 119,
   "metadata": {},
   "outputs": [],
   "source": [
    "import pandas as pd\n",
    "import json\n",
    "\n",
    "def is_server_code(code):\n",
    "    \n",
    "    #print(type(code))\n",
    "    if type(code) == list:\n",
    "        if len(code) < 1:\n",
    "            return False\n",
    "        return code[0].startswith('## Server Code')\n",
    "    \n",
    "    if type(code) == str:\n",
    "        return code.startsWith('## Server Code')\n",
    "    \n",
    "    return False\n",
    "\n",
    "with open('RemoteJupyter.ipynb') as f:\n",
    "    v = json.load(f)\n",
    "    local_notebook = pd.DataFrame(v['cells'])\n",
    "    local_notebook = local_notebook[local_notebook.cell_type == 'code']\n",
    "    local_notebook = local_notebook[[is_server_code(x) for x in local_notebook.source]]\n"
   ]
  },
  {
   "cell_type": "code",
   "execution_count": 120,
   "metadata": {},
   "outputs": [
    {
     "data": {
      "text/html": [
       "<div>\n",
       "<style scoped>\n",
       "    .dataframe tbody tr th:only-of-type {\n",
       "        vertical-align: middle;\n",
       "    }\n",
       "\n",
       "    .dataframe tbody tr th {\n",
       "        vertical-align: top;\n",
       "    }\n",
       "\n",
       "    .dataframe thead th {\n",
       "        text-align: right;\n",
       "    }\n",
       "</style>\n",
       "<table border=\"1\" class=\"dataframe\">\n",
       "  <thead>\n",
       "    <tr style=\"text-align: right;\">\n",
       "      <th></th>\n",
       "      <th>cell_type</th>\n",
       "      <th>metadata</th>\n",
       "      <th>source</th>\n",
       "      <th>execution_count</th>\n",
       "      <th>outputs</th>\n",
       "    </tr>\n",
       "  </thead>\n",
       "  <tbody>\n",
       "    <tr>\n",
       "      <th>19</th>\n",
       "      <td>code</td>\n",
       "      <td>{}</td>\n",
       "      <td>[## Server Code\\n, port = wq.port_upload_file(...</td>\n",
       "      <td>NaN</td>\n",
       "      <td>[]</td>\n",
       "    </tr>\n",
       "    <tr>\n",
       "      <th>23</th>\n",
       "      <td>code</td>\n",
       "      <td>{}</td>\n",
       "      <td>[## Server Code\\n, print(\"Fetching Data....\")\\...</td>\n",
       "      <td>103.0</td>\n",
       "      <td>[{'name': 'stdout', 'output_type': 'stream', '...</td>\n",
       "    </tr>\n",
       "  </tbody>\n",
       "</table>\n",
       "</div>"
      ],
      "text/plain": [
       "   cell_type metadata                                             source  \\\n",
       "19      code       {}  [## Server Code\\n, port = wq.port_upload_file(...   \n",
       "23      code       {}  [## Server Code\\n, print(\"Fetching Data....\")\\...   \n",
       "\n",
       "    execution_count                                            outputs  \n",
       "19              NaN                                                 []  \n",
       "23            103.0  [{'name': 'stdout', 'output_type': 'stream', '...  "
      ]
     },
     "execution_count": 120,
     "metadata": {},
     "output_type": "execute_result"
    }
   ],
   "source": [
    "local_notebook"
   ]
  },
  {
   "cell_type": "code",
   "execution_count": 121,
   "metadata": {},
   "outputs": [],
   "source": [
    "response = remote.execute('12263c47-20c1-4311-b93a-bf79911e8042', \"\".join(local_notebook.iloc[0].source))"
   ]
  },
  {
   "cell_type": "code",
   "execution_count": 122,
   "metadata": {},
   "outputs": [
    {
     "data": {
      "text/plain": [
       "False"
      ]
     },
     "execution_count": 122,
     "metadata": {},
     "output_type": "execute_result"
    }
   ],
   "source": [
    "response.is_error()"
   ]
  },
  {
   "cell_type": "code",
   "execution_count": 103,
   "metadata": {},
   "outputs": [
    {
     "name": "stdout",
     "output_type": "stream",
     "text": [
      "Fetching Data....\n"
     ]
    },
    {
     "ename": "NameError",
     "evalue": "name 'wq' is not defined",
     "output_type": "error",
     "traceback": [
      "\u001b[0;31m---------------------------------------------------------------------------\u001b[0m",
      "\u001b[0;31mNameError\u001b[0m                                 Traceback (most recent call last)",
      "\u001b[0;32m<ipython-input-103-c18199121d79>\u001b[0m in \u001b[0;36m<module>\u001b[0;34m\u001b[0m\n\u001b[1;32m      1\u001b[0m \u001b[0mprint\u001b[0m\u001b[0;34m(\u001b[0m\u001b[0;34m\"Fetching Data....\"\u001b[0m\u001b[0;34m)\u001b[0m\u001b[0;34m\u001b[0m\u001b[0;34m\u001b[0m\u001b[0m\n\u001b[0;32m----> 2\u001b[0;31m \u001b[0mr1\u001b[0m \u001b[0;34m=\u001b[0m \u001b[0mwq\u001b[0m\u001b[0;34m.\u001b[0m\u001b[0mnew_request\u001b[0m\u001b[0;34m(\u001b[0m\u001b[0;34m)\u001b[0m\u001b[0;34m.\u001b[0m\u001b[0mrunFor\u001b[0m\u001b[0;34m(\u001b[0m\u001b[0;34m'SP500'\u001b[0m\u001b[0;34m)\u001b[0m\u001b[0;34m.\u001b[0m\u001b[0mstart\u001b[0m\u001b[0;34m(\u001b[0m\u001b[0;34m'2022-01-31'\u001b[0m\u001b[0;34m)\u001b[0m\u001b[0;34m.\u001b[0m\u001b[0mto\u001b[0m\u001b[0;34m(\u001b[0m\u001b[0;34m'2022-02-28'\u001b[0m\u001b[0;34m)\u001b[0m\u001b[0;34m.\u001b[0m\u001b[0mat\u001b[0m\u001b[0;34m(\u001b[0m\u001b[0;34m'1me'\u001b[0m\u001b[0;34m)\u001b[0m\u001b[0;34m.\u001b[0m\u001b[0ma\u001b[0m\u001b[0;34m(\u001b[0m\u001b[0;34m'PRCCD'\u001b[0m\u001b[0;34m)\u001b[0m\u001b[0;34m.\u001b[0m\u001b[0maddInFlag\u001b[0m\u001b[0;34m(\u001b[0m\u001b[0;34m)\u001b[0m\u001b[0;34m\u001b[0m\u001b[0;34m\u001b[0m\u001b[0m\n\u001b[0m\u001b[1;32m      3\u001b[0m \u001b[0mdata1\u001b[0m \u001b[0;34m=\u001b[0m \u001b[0mwq\u001b[0m\u001b[0;34m.\u001b[0m\u001b[0mget_data\u001b[0m\u001b[0;34m(\u001b[0m\u001b[0mr1\u001b[0m\u001b[0;34m)\u001b[0m\u001b[0;34m\u001b[0m\u001b[0;34m\u001b[0m\u001b[0m\n\u001b[1;32m      4\u001b[0m \u001b[0mprint\u001b[0m\u001b[0;34m(\u001b[0m\u001b[0;34m\"Fetching Data Done.\"\u001b[0m\u001b[0;34m)\u001b[0m\u001b[0;34m\u001b[0m\u001b[0;34m\u001b[0m\u001b[0m\n\u001b[1;32m      5\u001b[0m \u001b[0mdf\u001b[0m \u001b[0;34m=\u001b[0m \u001b[0mdata1\u001b[0m\u001b[0;34m.\u001b[0m\u001b[0mas_large_data_frame\u001b[0m\u001b[0;34m(\u001b[0m\u001b[0;34m)\u001b[0m\u001b[0;34m\u001b[0m\u001b[0;34m\u001b[0m\u001b[0m\n",
      "\u001b[0;31mNameError\u001b[0m: name 'wq' is not defined"
     ]
    }
   ],
   "source": [
    "## Server Code\n",
    "print(\"Fetching Data....\")\n",
    "r1 = wq.new_request().runFor('CIQMSCI_379947354').start('2022-01-31').to('2022-04-30').at('1me').a('TICKER').addInFlag()\n",
    "data1 = wq.get_data(r1)\n",
    "print(\"Fetching Data Done.\")\n",
    "df = data1.as_large_data_frame()\n",
    "print(\"Exporting to File\")\n",
    "df.to_csv('acwi.csv')\n",
    "print(\"File available for download\")"
   ]
  },
  {
   "cell_type": "code",
   "execution_count": 123,
   "metadata": {},
   "outputs": [
    {
     "name": "stdout",
     "output_type": "stream",
     "text": [
      "Fetching Data....\n",
      "Fetching Data Done.\n",
      "Exporting to File\n",
      "File available for download\n"
     ]
    }
   ],
   "source": [
    "response = remote.execute('12263c47-20c1-4311-b93a-bf79911e8042', \"\".join(local_notebook.iloc[1].source))"
   ]
  }
 ],
 "metadata": {
  "kernelspec": {
   "display_name": "Python 3",
   "language": "python",
   "name": "python3"
  },
  "language_info": {
   "codemirror_mode": {
    "name": "ipython",
    "version": 3
   },
   "file_extension": ".py",
   "mimetype": "text/x-python",
   "name": "python",
   "nbconvert_exporter": "python",
   "pygments_lexer": "ipython3",
   "version": "3.8.3"
  }
 },
 "nbformat": 4,
 "nbformat_minor": 4
}
