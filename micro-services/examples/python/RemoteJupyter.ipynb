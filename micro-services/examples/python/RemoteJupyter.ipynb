{
 "cells": [
  {
   "cell_type": "markdown",
   "metadata": {},
   "source": [
    "### Interaction with Jupyter Notebook remotely\n",
    "\n",
    "The notebook does the following\n",
    "\n",
    "- Connects to user jupyter session using the token\n",
    "- Queries notebook content in the server\n",
    "- Queries running kernels\n",
    "- Executes code on jupyter kernel\n",
    "- Downloads data \n"
   ]
  },
  {
   "cell_type": "markdown",
   "metadata": {},
   "source": [
    "### Create a new object to communicate with the server"
   ]
  },
  {
   "cell_type": "code",
   "execution_count": 18,
   "metadata": {},
   "outputs": [],
   "source": [
    "from jupyterhub_client import  RemoteJupyterClient\n",
    "import pprint\n",
    "pp = pprint.PrettyPrinter(indent=4)\n",
    "\n",
    "remote = RemoteJupyterClient('ubuntu','8a03715de83345558f8d8bde2bd5f3da','rstudio2.luoquant.com/julia')"
   ]
  },
  {
   "cell_type": "markdown",
   "metadata": {},
   "source": [
    "### Lists down running kernels. At least one kernel should be available to execute the code"
   ]
  },
  {
   "cell_type": "code",
   "execution_count": 19,
   "metadata": {},
   "outputs": [
    {
     "name": "stderr",
     "output_type": "stream",
     "text": [
      "/home/ubuntu/.local/lib/python3.10/site-packages/urllib3/connectionpool.py:1045: InsecureRequestWarning: Unverified HTTPS request is being made to host 'rstudio2.luoquant.com'. Adding certificate verification is strongly advised. See: https://urllib3.readthedocs.io/en/1.26.x/advanced-usage.html#ssl-warnings\n",
      "  warnings.warn(\n"
     ]
    },
    {
     "data": {
      "text/html": [
       "<div>\n",
       "<style scoped>\n",
       "    .dataframe tbody tr th:only-of-type {\n",
       "        vertical-align: middle;\n",
       "    }\n",
       "\n",
       "    .dataframe tbody tr th {\n",
       "        vertical-align: top;\n",
       "    }\n",
       "\n",
       "    .dataframe thead th {\n",
       "        text-align: right;\n",
       "    }\n",
       "</style>\n",
       "<table border=\"1\" class=\"dataframe\">\n",
       "  <thead>\n",
       "    <tr style=\"text-align: right;\">\n",
       "      <th></th>\n",
       "    </tr>\n",
       "  </thead>\n",
       "  <tbody>\n",
       "  </tbody>\n",
       "</table>\n",
       "</div>"
      ],
      "text/plain": [
       "Empty DataFrame\n",
       "Columns: []\n",
       "Index: []"
      ]
     },
     "execution_count": 19,
     "metadata": {},
     "output_type": "execute_result"
    }
   ],
   "source": [
    "remote.kernels()"
   ]
  },
  {
   "cell_type": "code",
   "execution_count": 25,
   "metadata": {},
   "outputs": [
    {
     "name": "stderr",
     "output_type": "stream",
     "text": [
      "/home/ubuntu/.local/lib/python3.10/site-packages/urllib3/connectionpool.py:1045: InsecureRequestWarning: Unverified HTTPS request is being made to host 'rstudio2.luoquant.com'. Adding certificate verification is strongly advised. See: https://urllib3.readthedocs.io/en/1.26.x/advanced-usage.html#ssl-warnings\n",
      "  warnings.warn(\n"
     ]
    }
   ],
   "source": [
    "# Launch a new terminal\n",
    "terminal = remote._post_(svc = 'terminals', path = '', payload = {})"
   ]
  },
  {
   "cell_type": "code",
   "execution_count": 26,
   "metadata": {},
   "outputs": [
    {
     "data": {
      "text/plain": [
       "{'name': '2'}"
      ]
     },
     "execution_count": 26,
     "metadata": {},
     "output_type": "execute_result"
    }
   ],
   "source": [
    "terminal"
   ]
  },
  {
   "cell_type": "code",
   "execution_count": 22,
   "metadata": {},
   "outputs": [
    {
     "name": "stdout",
     "output_type": "stream",
     "text": [
      "https://rstudio2.luoquant.com/julia/user/ubuntu/api/terminals\n"
     ]
    },
    {
     "name": "stderr",
     "output_type": "stream",
     "text": [
      "/home/ubuntu/.local/lib/python3.10/site-packages/urllib3/connectionpool.py:1045: InsecureRequestWarning: Unverified HTTPS request is being made to host 'rstudio2.luoquant.com'. Adding certificate verification is strongly advised. See: https://urllib3.readthedocs.io/en/1.26.x/advanced-usage.html#ssl-warnings\n",
      "  warnings.warn(\n"
     ]
    }
   ],
   "source": [
    "import requests\n",
    "url =  remote._url_(svc='terminals', path = '')\n",
    "print(url)\n",
    "response = requests.post(url,headers=remote.headers, verify = remote.verify, json = {})"
   ]
  },
  {
   "cell_type": "code",
   "execution_count": 24,
   "metadata": {},
   "outputs": [
    {
     "data": {
      "text/plain": [
       "b'{\"name\": \"1\"}'"
      ]
     },
     "execution_count": 24,
     "metadata": {},
     "output_type": "execute_result"
    }
   ],
   "source": [
    "response.content"
   ]
  },
  {
   "cell_type": "code",
   "execution_count": 48,
   "metadata": {},
   "outputs": [],
   "source": [
    "import ssl\n",
    "import websocket\n",
    "self = remote\n",
    "terminal = 1\n",
    "channel = \"wss://\" + self.url + \"/user/\" + self.user + \"/terminals/websocket/\" + str(terminal)\n",
    "ws = websocket.WebSocket(sslopt ={\"cert_reqs\": ssl.CERT_NONE})\n",
    "terminal = ws.connect(url = channel, header = self.headers)"
   ]
  },
  {
   "cell_type": "code",
   "execution_count": 53,
   "metadata": {},
   "outputs": [],
   "source": [
    "terminal = ws.connect(url = channel, header = self.headers)"
   ]
  },
  {
   "cell_type": "code",
   "execution_count": 54,
   "metadata": {},
   "outputs": [],
   "source": [
    "terminal"
   ]
  },
  {
   "cell_type": "code",
   "execution_count": 17,
   "metadata": {},
   "outputs": [
    {
     "data": {
      "text/html": [
       "\n",
       "\n",
       "\n",
       "<!DOCTYPE HTML>\n",
       "<html>\n",
       "\n",
       "<head>\n",
       "    <meta charset=\"utf-8\">\n",
       "\n",
       "    <title>JupyterHub</title>\n",
       "    <meta http-equiv=\"X-UA-Compatible\" content=\"chrome=1\">\n",
       "    <meta name=\"viewport\" content=\"width=device-width, initial-scale=1.0\">\n",
       "\n",
       "    \n",
       "    <link rel=\"stylesheet\" href=\"/julia/hub/static/css/style.min.css?v=883a1cf654bd9f5cdc5ca7c91efe7d71\" type=\"text/css\"/>\n",
       "    \n",
       "    <script src=\"/julia/hub/static/components/requirejs/require.js?v=f0cc8bbb2fcef87fc194fecbb632fcfa\" type=\"text/javascript\" charset=\"utf-8\"></script>\n",
       "    <script src=\"/julia/hub/static/components/jquery/dist/jquery.min.js?v=220afd743d9e9643852e31a135a9f3ae\" type=\"text/javascript\" charset=\"utf-8\"></script>\n",
       "    <script src=\"/julia/hub/static/components/bootstrap/dist/js/bootstrap.min.js?v=2f34b630ffe30ba2ff2b91e3f3c322a1\" type=\"text/javascript\" charset=\"utf-8\"></script>\n",
       "    <script>\n",
       "      require.config({\n",
       "          \n",
       "          urlArgs: \"v=20230212222301\",\n",
       "          \n",
       "          baseUrl: '/julia/hub/static/js',\n",
       "          paths: {\n",
       "            components: '../components',\n",
       "            jquery: '../components/jquery/dist/jquery.min',\n",
       "            bootstrap: '../components/bootstrap/dist/js/bootstrap.min',\n",
       "            moment: \"../components/moment/moment\",\n",
       "          },\n",
       "          shim: {\n",
       "            bootstrap: {\n",
       "              deps: [\"jquery\"],\n",
       "              exports: \"bootstrap\"\n",
       "            },\n",
       "          }\n",
       "      });\n",
       "    </script>\n",
       "\n",
       "    <script type=\"text/javascript\">\n",
       "      window.jhdata = {\n",
       "        base_url: \"/julia/hub/\",\n",
       "        prefix: \"/julia/\",\n",
       "        \n",
       "        user: \"ubuntu\",\n",
       "        \n",
       "        \n",
       "        admin_access: false,\n",
       "        \n",
       "        \n",
       "        options_form: false,\n",
       "        \n",
       "      }\n",
       "    </script>\n",
       "\n",
       "    \n",
       "    \n",
       "\n",
       "</head>\n",
       "\n",
       "<body>\n",
       "\n",
       "<noscript>\n",
       "  <div id='noscript'>\n",
       "    JupyterHub requires JavaScript.<br>\n",
       "    Please enable it to proceed.\n",
       "  </div>\n",
       "</noscript>\n",
       "\n",
       "\n",
       "  <nav class=\"navbar navbar-default\">\n",
       "    <div class=\"container-fluid\">\n",
       "      <div class=\"navbar-header\">\n",
       "        \n",
       "        <span id=\"jupyterhub-logo\" class=\"pull-left\">\n",
       "            <a href=\"/julia/hub/\"><img src='/julia/hub/logo' alt='JupyterHub' class='jpy-logo' title='Home'/></a>\n",
       "        </span>\n",
       "        \n",
       "        <button type=\"button\" class=\"navbar-toggle collapsed\" data-toggle=\"collapse\" data-target=\"#thenavbar\" aria-expanded=\"false\">\n",
       "          <span class=\"sr-only\">Toggle navigation</span>\n",
       "          <span class=\"icon-bar\"></span>\n",
       "          <span class=\"icon-bar\"></span>\n",
       "          <span class=\"icon-bar\"></span>\n",
       "        </button>\n",
       "      </div>\n",
       "\n",
       "      <div class=\"collapse navbar-collapse\" id=\"thenavbar\">\n",
       "        \n",
       "        <ul class=\"nav navbar-nav\">\n",
       "          \n",
       "            <li><a href=\"/julia/hub/home\">Home</a></li>\n",
       "            <li><a href=\"/julia/hub/token\">Token</a></li>\n",
       "            \n",
       "          \n",
       "        </ul>\n",
       "        \n",
       "        <ul class=\"nav navbar-nav navbar-right\">\n",
       "          \n",
       "            <li>\n",
       "              \n",
       "\n",
       "            </li>\n",
       "          \n",
       "        </ul>\n",
       "      </div>\n",
       "\n",
       "      \n",
       "      \n",
       "    </div>\n",
       "  </nav>\n",
       "\n",
       "\n",
       "\n",
       "\n",
       "\n",
       "\n",
       "\n",
       "\n",
       "\n",
       "\n",
       "<div class=\"error\">\n",
       "  \n",
       "  <h1>\n",
       "    405 : Method Not Allowed\n",
       "  </h1>\n",
       "  \n",
       "  \n",
       "  \n",
       "  \n",
       "  \n",
       "  \n",
       "</div>\n",
       "\n",
       "\n",
       "\n",
       "\n",
       "\n",
       "\n",
       "<div class=\"modal fade\" id=\"error-dialog\" tabindex=\"-1\" role=\"dialog\" aria-labelledby=\"error-label\" aria-hidden=\"true\">\n",
       "  <div class=\"modal-dialog\">\n",
       "    <div class=\"modal-content\">\n",
       "      <div class=\"modal-header\">\n",
       "        <button type=\"button\" class=\"close\" data-dismiss=\"modal\"><span aria-hidden=\"true\">&times;</span><span class=\"sr-only\">Close</span></button>\n",
       "        <h4 class=\"modal-title\" id=\"error-label\">Error</h4>\n",
       "      </div>\n",
       "      <div class=\"modal-body\">\n",
       "        \n",
       "  <div class=\"ajax-error\">\n",
       "    The error\n",
       "  </div>\n",
       "\n",
       "      </div>\n",
       "      <div class=\"modal-footer\">\n",
       "        <button type=\"button\" class=\"btn btn-default\" data-dismiss=\"modal\">Cancel</button>\n",
       "        <button type=\"button\" class=\"btn btn-primary\" data-dismiss=\"modal\" data-dismiss=\"modal\">OK</button>\n",
       "      </div>\n",
       "    </div>\n",
       "  </div>\n",
       "</div>\n",
       "\n",
       "\n",
       "\n",
       "  \n",
       "\n",
       "\n",
       "  <script type=\"text/javascript\">\n",
       "    function _remove_redirects_from_url() {\n",
       "      if (window.location.search.length <= 1) {\n",
       "        return;\n",
       "      }\n",
       "      var search_parameters = window.location.search.slice(1).split('&');\n",
       "      for (var i = 0; i < search_parameters.length; i++) {\n",
       "        if (search_parameters[i].split('=')[0] === 'redirects') {\n",
       "          // remote redirects from search parameters\n",
       "          search_parameters.splice(i, 1);\n",
       "          var new_search = '';\n",
       "          if (search_parameters.length) {\n",
       "            new_search = '?' + search_parameters.join('&');\n",
       "          }\n",
       "          var new_url = window.location.origin +\n",
       "                        window.location.pathname +\n",
       "                        new_search +\n",
       "                        window.location.hash;\n",
       "          window.history.replaceState({}, \"\", new_url);\n",
       "          return;\n",
       "        }\n",
       "      }\n",
       "    }\n",
       "\n",
       "    _remove_redirects_from_url();\n",
       "  </script>\n",
       "\n",
       "\n",
       "</body>\n",
       "\n",
       "</html>"
      ],
      "text/plain": [
       "<IPython.core.display.HTML object>"
      ]
     },
     "metadata": {},
     "output_type": "display_data"
    }
   ],
   "source": [
    "from IPython.core.display import display, HTML\n",
    "display(HTML(response.content.decode('utf-8')))"
   ]
  },
  {
   "cell_type": "markdown",
   "metadata": {},
   "source": [
    "### Read content of a notebook"
   ]
  },
  {
   "cell_type": "code",
   "execution_count": null,
   "metadata": {},
   "outputs": [],
   "source": [
    "notebook = remote.content('projects/demo/jupyter-remote/Remote Jupyter Demo.ipynb')"
   ]
  },
  {
   "cell_type": "code",
   "execution_count": null,
   "metadata": {},
   "outputs": [],
   "source": [
    "pp.pprint(notebook.loc[0,'source'])"
   ]
  },
  {
   "cell_type": "code",
   "execution_count": null,
   "metadata": {},
   "outputs": [],
   "source": [
    "pp.pprint(notebook.loc[1,'source'])"
   ]
  },
  {
   "cell_type": "markdown",
   "metadata": {},
   "source": [
    "### Execute Remote Code on the server"
   ]
  },
  {
   "cell_type": "code",
   "execution_count": null,
   "metadata": {},
   "outputs": [],
   "source": [
    "response = remote.execute('12263c47-20c1-4311-b93a-bf79911e8042', notebook.loc[0,'source'])"
   ]
  },
  {
   "cell_type": "code",
   "execution_count": null,
   "metadata": {},
   "outputs": [],
   "source": [
    "response = remote.execute('12263c47-20c1-4311-b93a-bf79911e8042', notebook.loc[1,'source'])"
   ]
  },
  {
   "cell_type": "code",
   "execution_count": null,
   "metadata": {},
   "outputs": [],
   "source": []
  },
  {
   "cell_type": "markdown",
   "metadata": {},
   "source": [
    "### Download Data from the server"
   ]
  },
  {
   "cell_type": "code",
   "execution_count": null,
   "metadata": {},
   "outputs": [],
   "source": [
    "remote.content('projects/demo/jupyter-remote')"
   ]
  },
  {
   "cell_type": "code",
   "execution_count": null,
   "metadata": {},
   "outputs": [],
   "source": [
    "data = remote.content('projects/demo/jupyter-remote/sp500.csv')"
   ]
  },
  {
   "cell_type": "code",
   "execution_count": null,
   "metadata": {},
   "outputs": [],
   "source": [
    "??remote.content"
   ]
  },
  {
   "cell_type": "code",
   "execution_count": null,
   "metadata": {},
   "outputs": [],
   "source": [
    "data"
   ]
  },
  {
   "cell_type": "code",
   "execution_count": null,
   "metadata": {},
   "outputs": [],
   "source": [
    "response = remote.execute('12263c47-20c1-4311-b93a-bf79911e8042', notebook.loc[2,'source'])"
   ]
  },
  {
   "cell_type": "code",
   "execution_count": null,
   "metadata": {},
   "outputs": [],
   "source": [
    "## Server Code\n",
    "port = wq.port_upload_file('MYCDTEST','/mnt/ebs1/karora/projects/demo/datafiles/mydata.csv',\n",
    "                                _global=False,pit_id=True,short_format=False)"
   ]
  },
  {
   "cell_type": "code",
   "execution_count": null,
   "metadata": {},
   "outputs": [],
   "source": []
  },
  {
   "cell_type": "code",
   "execution_count": null,
   "metadata": {},
   "outputs": [],
   "source": [
    "import pandas as pd\n",
    "import json\n",
    "\n",
    "def is_server_code(code):\n",
    "    \n",
    "    #print(type(code))\n",
    "    if type(code) == list:\n",
    "        if len(code) < 1:\n",
    "            return False\n",
    "        return code[0].startswith('## Server Code')\n",
    "    \n",
    "    if type(code) == str:\n",
    "        return code.startsWith('## Server Code')\n",
    "    \n",
    "    return False\n",
    "\n",
    "with open('RemoteJupyter.ipynb') as f:\n",
    "    v = json.load(f)\n",
    "    local_notebook = pd.DataFrame(v['cells'])\n",
    "    local_notebook = local_notebook[local_notebook.cell_type == 'code']\n",
    "    local_notebook = local_notebook[[is_server_code(x) for x in local_notebook.source]]\n"
   ]
  },
  {
   "cell_type": "code",
   "execution_count": null,
   "metadata": {},
   "outputs": [],
   "source": [
    "local_notebook"
   ]
  },
  {
   "cell_type": "code",
   "execution_count": null,
   "metadata": {},
   "outputs": [],
   "source": [
    "response = remote.execute('12263c47-20c1-4311-b93a-bf79911e8042', \"\".join(local_notebook.iloc[0].source))"
   ]
  },
  {
   "cell_type": "code",
   "execution_count": null,
   "metadata": {},
   "outputs": [],
   "source": [
    "response.is_error()"
   ]
  },
  {
   "cell_type": "code",
   "execution_count": null,
   "metadata": {},
   "outputs": [],
   "source": [
    "## Server Code\n",
    "print(\"Fetching Data....\")\n",
    "r1 = wq.new_request().runFor('CIQMSCI_379947354').start('2022-01-31').to('2022-04-30').at('1me').a('TICKER').addInFlag()\n",
    "data1 = wq.get_data(r1)\n",
    "print(\"Fetching Data Done.\")\n",
    "df = data1.as_large_data_frame()\n",
    "print(\"Exporting to File\")\n",
    "df.to_csv('acwi.csv')\n",
    "print(\"File available for download\")"
   ]
  },
  {
   "cell_type": "code",
   "execution_count": null,
   "metadata": {},
   "outputs": [],
   "source": [
    "response = remote.execute('12263c47-20c1-4311-b93a-bf79911e8042', \"\".join(local_notebook.iloc[1].source))"
   ]
  }
 ],
 "metadata": {
  "kernelspec": {
   "display_name": "Python 3 (ipykernel)",
   "language": "python",
   "name": "python3"
  },
  "language_info": {
   "codemirror_mode": {
    "name": "ipython",
    "version": 3
   },
   "file_extension": ".py",
   "mimetype": "text/x-python",
   "name": "python",
   "nbconvert_exporter": "python",
   "pygments_lexer": "ipython3",
   "version": "3.10.6"
  }
 },
 "nbformat": 4,
 "nbformat_minor": 4
}
