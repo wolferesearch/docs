{
 "cells": [
  {
   "cell_type": "code",
   "execution_count": 6,
   "metadata": {},
   "outputs": [],
   "source": [
    "from pyqes import conn,nlp\n",
    "nlp_api = nlp.NLPApi(conn.Connection(username = '*******', password = *********', URL = 'http://feed.luoquant.com'))\n",
    "\n",
    "#nlp_api = nlp.NLPApi(conn.Connection(URL=\"http://172.31.52.65:5003\"))"
   ]
  },
  {
   "cell_type": "code",
   "execution_count": 27,
   "metadata": {},
   "outputs": [
    {
     "data": {
      "text/html": [
       "<div>\n",
       "<style scoped>\n",
       "    .dataframe tbody tr th:only-of-type {\n",
       "        vertical-align: middle;\n",
       "    }\n",
       "\n",
       "    .dataframe tbody tr th {\n",
       "        vertical-align: top;\n",
       "    }\n",
       "\n",
       "    .dataframe thead th {\n",
       "        text-align: right;\n",
       "    }\n",
       "</style>\n",
       "<table border=\"1\" class=\"dataframe\">\n",
       "  <thead>\n",
       "    <tr style=\"text-align: right;\">\n",
       "      <th></th>\n",
       "      <th>TICKERSYMBOL</th>\n",
       "      <th>DATED</th>\n",
       "      <th>SEDOL</th>\n",
       "      <th>IDRANK</th>\n",
       "      <th>COMPOSITEFIGI</th>\n",
       "      <th>BBTICKER</th>\n",
       "      <th>EXCHCODE</th>\n",
       "      <th>FIGI</th>\n",
       "      <th>MARKETSECTOR</th>\n",
       "      <th>METADATA</th>\n",
       "      <th>SECNAME</th>\n",
       "      <th>SECDESC</th>\n",
       "      <th>SECTYPE1</th>\n",
       "      <th>SECTYPE2</th>\n",
       "      <th>SHARECLASSFIGI</th>\n",
       "      <th>TICKER</th>\n",
       "      <th>UNIQUEID</th>\n",
       "    </tr>\n",
       "  </thead>\n",
       "  <tbody>\n",
       "    <tr>\n",
       "      <th>0</th>\n",
       "      <td>GOOGL</td>\n",
       "      <td>2023-05-10</td>\n",
       "      <td>BZ4CX96</td>\n",
       "      <td>1</td>\n",
       "      <td>BBG00B4Z1QH6</td>\n",
       "      <td>GOOGL CI</td>\n",
       "      <td>CI</td>\n",
       "      <td>BBG00B4Z1QH6</td>\n",
       "      <td>Equity</td>\n",
       "      <td>NaN</td>\n",
       "      <td>ALPHABET INC-CL A</td>\n",
       "      <td>GOOGL</td>\n",
       "      <td>Common Stock</td>\n",
       "      <td>Common Stock</td>\n",
       "      <td>BBG009S39JY5</td>\n",
       "      <td>GOOGL</td>\n",
       "      <td>NaN</td>\n",
       "    </tr>\n",
       "    <tr>\n",
       "      <th>1</th>\n",
       "      <td>GOOGL</td>\n",
       "      <td>2023-05-10</td>\n",
       "      <td>B7XXHR0</td>\n",
       "      <td>1</td>\n",
       "      <td>BBG000QND791</td>\n",
       "      <td>GOOGL AR</td>\n",
       "      <td>AR</td>\n",
       "      <td>BBG000QND791</td>\n",
       "      <td>Equity</td>\n",
       "      <td>NaN</td>\n",
       "      <td>GOOGLE INC - CEDEAR</td>\n",
       "      <td>GOOGL</td>\n",
       "      <td>CEDEAR</td>\n",
       "      <td>Depositary Receipt</td>\n",
       "      <td>BBG001T96QK0</td>\n",
       "      <td>GOOGL</td>\n",
       "      <td>NaN</td>\n",
       "    </tr>\n",
       "    <tr>\n",
       "      <th>2</th>\n",
       "      <td>GOOGL</td>\n",
       "      <td>2023-05-10</td>\n",
       "      <td>BYVY8G0</td>\n",
       "      <td>1</td>\n",
       "      <td>BBG009S39JX6</td>\n",
       "      <td>GOOGL US</td>\n",
       "      <td>US</td>\n",
       "      <td>BBG009S39JX6</td>\n",
       "      <td>Equity</td>\n",
       "      <td>NaN</td>\n",
       "      <td>ALPHABET INC-CL A</td>\n",
       "      <td>GOOGL</td>\n",
       "      <td>Common Stock</td>\n",
       "      <td>Common Stock</td>\n",
       "      <td>BBG009S39JY5</td>\n",
       "      <td>GOOGL</td>\n",
       "      <td>NaN</td>\n",
       "    </tr>\n",
       "  </tbody>\n",
       "</table>\n",
       "</div>"
      ],
      "text/plain": [
       "  TICKERSYMBOL       DATED    SEDOL  IDRANK COMPOSITEFIGI  BBTICKER EXCHCODE  \\\n",
       "0        GOOGL  2023-05-10  BZ4CX96       1  BBG00B4Z1QH6  GOOGL CI       CI   \n",
       "1        GOOGL  2023-05-10  B7XXHR0       1  BBG000QND791  GOOGL AR       AR   \n",
       "2        GOOGL  2023-05-10  BYVY8G0       1  BBG009S39JX6  GOOGL US       US   \n",
       "\n",
       "           FIGI MARKETSECTOR  METADATA              SECNAME SECDESC  \\\n",
       "0  BBG00B4Z1QH6       Equity       NaN    ALPHABET INC-CL A   GOOGL   \n",
       "1  BBG000QND791       Equity       NaN  GOOGLE INC - CEDEAR   GOOGL   \n",
       "2  BBG009S39JX6       Equity       NaN    ALPHABET INC-CL A   GOOGL   \n",
       "\n",
       "       SECTYPE1            SECTYPE2 SHARECLASSFIGI TICKER  UNIQUEID  \n",
       "0  Common Stock        Common Stock   BBG009S39JY5  GOOGL       NaN  \n",
       "1        CEDEAR  Depositary Receipt   BBG001T96QK0  GOOGL       NaN  \n",
       "2  Common Stock        Common Stock   BBG009S39JY5  GOOGL       NaN  "
      ]
     },
     "execution_count": 27,
     "metadata": {},
     "output_type": "execute_result"
    }
   ],
   "source": [
    "import requests\n",
    "from io import StringIO\n",
    "import pandas as pd\n",
    "\n",
    "session = requests.Session()\n",
    "session.auth = ('********', '***********')\n",
    "\n",
    "response = session.get(\"https://feed.luoquant.com/sym/figi-ticker/GOOGL\")\n",
    "df = pd.read_csv(StringIO(response.text),sep=',')\n",
    "df"
   ]
  },
  {
   "cell_type": "code",
   "execution_count": 23,
   "metadata": {},
   "outputs": [],
   "source": [
    "\n"
   ]
  },
  {
   "cell_type": "code",
   "execution_count": 24,
   "metadata": {},
   "outputs": [
    {
     "data": {
      "text/html": [
       "<div>\n",
       "<style scoped>\n",
       "    .dataframe tbody tr th:only-of-type {\n",
       "        vertical-align: middle;\n",
       "    }\n",
       "\n",
       "    .dataframe tbody tr th {\n",
       "        vertical-align: top;\n",
       "    }\n",
       "\n",
       "    .dataframe thead th {\n",
       "        text-align: right;\n",
       "    }\n",
       "</style>\n",
       "<table border=\"1\" class=\"dataframe\">\n",
       "  <thead>\n",
       "    <tr style=\"text-align: right;\">\n",
       "      <th></th>\n",
       "      <th>SEDOL</th>\n",
       "      <th>STARTDATE</th>\n",
       "      <th>ENDDATE</th>\n",
       "      <th>BBTICKER</th>\n",
       "      <th>TICKER</th>\n",
       "      <th>EXCHG</th>\n",
       "      <th>MODIFIED_DATE</th>\n",
       "    </tr>\n",
       "  </thead>\n",
       "  <tbody>\n",
       "    <tr>\n",
       "      <th>0</th>\n",
       "      <td>BQZDB02</td>\n",
       "      <td>2023-05-09 00:00:00.000000</td>\n",
       "      <td>NaN</td>\n",
       "      <td>E43 GR</td>\n",
       "      <td>E43</td>\n",
       "      <td>GR</td>\n",
       "      <td>2023-05-09 01:46:50.413208</td>\n",
       "    </tr>\n",
       "    <tr>\n",
       "      <th>1</th>\n",
       "      <td>BQZDB02</td>\n",
       "      <td>2023-05-05 00:00:00.000000</td>\n",
       "      <td>2023-05-08 00:00:00.000000</td>\n",
       "      <td>77R GR</td>\n",
       "      <td>77R</td>\n",
       "      <td>GR</td>\n",
       "      <td>2023-05-09 01:46:50.000000</td>\n",
       "    </tr>\n",
       "  </tbody>\n",
       "</table>\n",
       "</div>"
      ],
      "text/plain": [
       "     SEDOL                   STARTDATE                     ENDDATE BBTICKER  \\\n",
       "0  BQZDB02  2023-05-09 00:00:00.000000                         NaN   E43 GR   \n",
       "1  BQZDB02  2023-05-05 00:00:00.000000  2023-05-08 00:00:00.000000   77R GR   \n",
       "\n",
       "  TICKER EXCHG               MODIFIED_DATE  \n",
       "0    E43    GR  2023-05-09 01:46:50.413208  \n",
       "1    77R    GR  2023-05-09 01:46:50.000000  "
      ]
     },
     "execution_count": 24,
     "metadata": {},
     "output_type": "execute_result"
    }
   ],
   "source": [
    "df"
   ]
  },
  {
   "cell_type": "code",
   "execution_count": null,
   "metadata": {},
   "outputs": [],
   "source": [
    "nlp_api.connection.URL"
   ]
  },
  {
   "cell_type": "code",
   "execution_count": null,
   "metadata": {},
   "outputs": [],
   "source": [
    "from pyqes import nlp\n"
   ]
  },
  {
   "cell_type": "code",
   "execution_count": 8,
   "metadata": {},
   "outputs": [],
   "source": [
    "list_of_texts = ['Investors thought Wendy’s 15.5% 2022 restaurant-margin target was somewhat conservative.',\n",
    "              'We expect solid results from DASH. Nice beat/strong guide should be rewarded but upside is likely to balanced given high expectations.',\n",
    "              'Technicals and incremental news flow will likely continue to drive trading through year end. We wouldn’t be surprised to see some more near-term upside, including the SPX trading into the 4050-4100 range.',\n",
    "              'While the moves across markets were epic, we believe that our intermediate-term bearish base case remains intact. This includes core inflation remaining very persistent, the Fed hiking to 5-6%, and a recession hitting in 2023.',\n",
    "              'We believe that earnings and guidance are likely to begin to come under pressure in the coming quarters. Our sense is that companies beating on the top- and bottom-lines and providing constructive outlooks should have an increased chance of outperforming their peers in the months ahead.'\n",
    "            ]\n",
    "model = 'analyst-tone'\n",
    "payload = {\n",
    "    \"texts\" : list_of_texts\n",
    "}\n"
   ]
  },
  {
   "cell_type": "code",
   "execution_count": 3,
   "metadata": {},
   "outputs": [],
   "source": [
    "svc = 'sentiment/{}'.format(model)"
   ]
  },
  {
   "cell_type": "code",
   "execution_count": null,
   "metadata": {},
   "outputs": [],
   "source": [
    "payload"
   ]
  },
  {
   "cell_type": "code",
   "execution_count": 9,
   "metadata": {},
   "outputs": [],
   "source": [
    "response = nlp_api.connection._post_(svc = 'nlp/sentiment/{}'.format(model), body = payload)"
   ]
  },
  {
   "cell_type": "code",
   "execution_count": 11,
   "metadata": {},
   "outputs": [
    {
     "data": {
      "text/plain": [
       "b'{\"message\":\"Unauthorized\"}'"
      ]
     },
     "execution_count": 11,
     "metadata": {},
     "output_type": "execute_result"
    }
   ],
   "source": [
    "response.content"
   ]
  },
  {
   "cell_type": "code",
   "execution_count": 5,
   "metadata": {},
   "outputs": [
    {
     "data": {
      "text/html": [
       "<div>\n",
       "<style scoped>\n",
       "    .dataframe tbody tr th:only-of-type {\n",
       "        vertical-align: middle;\n",
       "    }\n",
       "\n",
       "    .dataframe tbody tr th {\n",
       "        vertical-align: top;\n",
       "    }\n",
       "\n",
       "    .dataframe thead th {\n",
       "        text-align: right;\n",
       "    }\n",
       "</style>\n",
       "<table border=\"1\" class=\"dataframe\">\n",
       "  <thead>\n",
       "    <tr style=\"text-align: right;\">\n",
       "      <th></th>\n",
       "      <th>negative</th>\n",
       "      <th>neutral</th>\n",
       "      <th>positive</th>\n",
       "    </tr>\n",
       "  </thead>\n",
       "  <tbody>\n",
       "    <tr>\n",
       "      <th>0</th>\n",
       "      <td>7.611392e-01</td>\n",
       "      <td>2.218239e-01</td>\n",
       "      <td>0.017037</td>\n",
       "    </tr>\n",
       "    <tr>\n",
       "      <th>1</th>\n",
       "      <td>2.229531e-09</td>\n",
       "      <td>4.367901e-09</td>\n",
       "      <td>1.000000</td>\n",
       "    </tr>\n",
       "    <tr>\n",
       "      <th>2</th>\n",
       "      <td>1.920842e-03</td>\n",
       "      <td>1.465627e-02</td>\n",
       "      <td>0.983423</td>\n",
       "    </tr>\n",
       "    <tr>\n",
       "      <th>3</th>\n",
       "      <td>9.999905e-01</td>\n",
       "      <td>3.217678e-06</td>\n",
       "      <td>0.000007</td>\n",
       "    </tr>\n",
       "    <tr>\n",
       "      <th>4</th>\n",
       "      <td>6.887222e-04</td>\n",
       "      <td>5.961946e-07</td>\n",
       "      <td>0.999311</td>\n",
       "    </tr>\n",
       "  </tbody>\n",
       "</table>\n",
       "</div>"
      ],
      "text/plain": [
       "       negative       neutral  positive\n",
       "0  7.611392e-01  2.218239e-01  0.017037\n",
       "1  2.229531e-09  4.367901e-09  1.000000\n",
       "2  1.920842e-03  1.465627e-02  0.983423\n",
       "3  9.999905e-01  3.217678e-06  0.000007\n",
       "4  6.887222e-04  5.961946e-07  0.999311"
      ]
     },
     "execution_count": 5,
     "metadata": {},
     "output_type": "execute_result"
    }
   ],
   "source": [
    "nlp_api.compute_sentiment(list_of_texts=list_of_texts)"
   ]
  },
  {
   "cell_type": "code",
   "execution_count": null,
   "metadata": {},
   "outputs": [],
   "source": [
    "import requests\n",
    "response = requests.post(\"http://172.31.52.65:5003/sentiment/analyst-tone\",json = payload)"
   ]
  },
  {
   "cell_type": "code",
   "execution_count": null,
   "metadata": {},
   "outputs": [],
   "source": [
    "nlp_api.connection.session.post(\"http://172.31.52.65:5003/sentiment/analyst-tone\",json = payload)"
   ]
  },
  {
   "cell_type": "code",
   "execution_count": null,
   "metadata": {},
   "outputs": [],
   "source": [
    "nlp_api.connection.session.post()"
   ]
  },
  {
   "cell_type": "code",
   "execution_count": null,
   "metadata": {},
   "outputs": [],
   "source": [
    "response.content"
   ]
  },
  {
   "cell_type": "code",
   "execution_count": null,
   "metadata": {},
   "outputs": [],
   "source": [
    "nlp_api.compute_sentiment(list_of_texts,model)"
   ]
  }
 ],
 "metadata": {
  "kernelspec": {
   "display_name": "Python 3",
   "language": "python",
   "name": "python3"
  },
  "language_info": {
   "codemirror_mode": {
    "name": "ipython",
    "version": 3
   },
   "file_extension": ".py",
   "mimetype": "text/x-python",
   "name": "python",
   "nbconvert_exporter": "python",
   "pygments_lexer": "ipython3",
   "version": "3.5.2"
  }
 },
 "nbformat": 4,
 "nbformat_minor": 2
}
