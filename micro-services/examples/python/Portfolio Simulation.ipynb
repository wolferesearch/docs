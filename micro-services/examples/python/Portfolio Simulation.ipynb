{
 "cells": [
  {
   "cell_type": "markdown",
   "metadata": {},
   "source": [
    "![Wolfe](https://s3.amazonaws.com/lquant-images/wolfe_luo.jpg)\n",
    "\n",
    "## Overview of Portfolio Simulator (Backtester)\n",
    "\n",
    "Features:\n",
    "1. Upload custom data \n",
    "2. Backtest WEIGHT using multi-day portfolio simulation "
   ]
  },
  {
   "cell_type": "markdown",
   "metadata": {},
   "source": [
    "### Data for Portfolio Simulation"
   ]
  },
  {
   "cell_type": "code",
   "execution_count": 1,
   "metadata": {},
   "outputs": [
    {
     "data": {
      "text/html": [
       "<div>\n",
       "<style scoped>\n",
       "    .dataframe tbody tr th:only-of-type {\n",
       "        vertical-align: middle;\n",
       "    }\n",
       "\n",
       "    .dataframe tbody tr th {\n",
       "        vertical-align: top;\n",
       "    }\n",
       "\n",
       "    .dataframe thead th {\n",
       "        text-align: right;\n",
       "    }\n",
       "</style>\n",
       "<table border=\"1\" class=\"dataframe\">\n",
       "  <thead>\n",
       "    <tr style=\"text-align: right;\">\n",
       "      <th></th>\n",
       "      <th>DATE</th>\n",
       "      <th>WEIGHT</th>\n",
       "      <th>TICKER</th>\n",
       "    </tr>\n",
       "  </thead>\n",
       "  <tbody>\n",
       "    <tr>\n",
       "      <th>0</th>\n",
       "      <td>2021-01-29</td>\n",
       "      <td>0.000325</td>\n",
       "      <td>AAL</td>\n",
       "    </tr>\n",
       "    <tr>\n",
       "      <th>1</th>\n",
       "      <td>2021-01-29</td>\n",
       "      <td>0.000258</td>\n",
       "      <td>PNW</td>\n",
       "    </tr>\n",
       "    <tr>\n",
       "      <th>2</th>\n",
       "      <td>2021-01-29</td>\n",
       "      <td>0.006676</td>\n",
       "      <td>ABT</td>\n",
       "    </tr>\n",
       "    <tr>\n",
       "      <th>3</th>\n",
       "      <td>2021-01-29</td>\n",
       "      <td>0.003139</td>\n",
       "      <td>AMD</td>\n",
       "    </tr>\n",
       "    <tr>\n",
       "      <th>4</th>\n",
       "      <td>2021-01-29</td>\n",
       "      <td>0.001797</td>\n",
       "      <td>APD</td>\n",
       "    </tr>\n",
       "  </tbody>\n",
       "</table>\n",
       "</div>"
      ],
      "text/plain": [
       "         DATE    WEIGHT TICKER\n",
       "0  2021-01-29  0.000325    AAL\n",
       "1  2021-01-29  0.000258    PNW\n",
       "2  2021-01-29  0.006676    ABT\n",
       "3  2021-01-29  0.003139    AMD\n",
       "4  2021-01-29  0.001797    APD"
      ]
     },
     "execution_count": 1,
     "metadata": {},
     "output_type": "execute_result"
    }
   ],
   "source": [
    "import pandas as pd\n",
    "data = pd.read_csv('PortSimulator.csv')\n",
    "data.head()"
   ]
  },
  {
   "cell_type": "code",
   "execution_count": 2,
   "metadata": {},
   "outputs": [
    {
     "data": {
      "text/plain": [
       "array(['2021-01-29', '2021-02-26', '2021-03-31', '2021-04-30',\n",
       "       '2021-05-28', '2021-06-30', '2021-07-30', '2021-08-31',\n",
       "       '2021-09-30', '2021-10-29', '2021-11-30', '2021-12-31',\n",
       "       '2022-01-31', '2022-02-28', '2022-03-31', '2022-04-29',\n",
       "       '2022-05-31', '2022-06-30', '2022-07-29', '2022-08-31',\n",
       "       '2022-09-30', '2022-10-31', '2022-11-30', '2022-12-30'],\n",
       "      dtype=object)"
      ]
     },
     "execution_count": 2,
     "metadata": {},
     "output_type": "execute_result"
    }
   ],
   "source": [
    "data.DATE.unique()"
   ]
  },
  {
   "cell_type": "markdown",
   "metadata": {},
   "source": [
    "## Requirements and Presteps\n",
    "\n",
    "1. Copy pyqes [python file]( https://github.com/wolferesearch/docs/tree/master/micro-services/api/python/pyqes) from github to your local directory from Github. \n",
    "2. Ensure you have [Pandas](https://pandas.pydata.org/) and [requests](https://pypi.org/project/requests/) package in your python kernel. "
   ]
  },
  {
   "cell_type": "markdown",
   "metadata": {},
   "source": [
    "## Authentication and Connection\n",
    "\n",
    "The API is protected using Username and Password. In case you have not received it, please [email](mailto:luo.qes@wolferesearch.com) to apply for API account. \n",
    "\n",
    "The connection object is the gateway to accessing the API. It allows you to access the catalog, portfolios, templates, risk models etc. "
   ]
  },
  {
   "cell_type": "code",
   "execution_count": 1,
   "metadata": {},
   "outputs": [],
   "source": [
    "## Open connection using username/password. \n",
    "from pyqes import micsvc\n",
    "connection = micsvc.Connection(username='*******', password = '*******')"
   ]
  },
  {
   "cell_type": "code",
   "execution_count": 2,
   "metadata": {},
   "outputs": [],
   "source": [
    "# Use connection object to get a new instance of black litterman\n",
    "sim = connection.get_portsimulator()"
   ]
  },
  {
   "cell_type": "markdown",
   "metadata": {},
   "source": [
    "### Set Capital for Backtesting\n",
    "\n",
    "Parameters\n",
    "1. currency: The currency for funding. This will be used as the main cash account for the trading\n",
    "2. cash: Initial cash amount, can be less than or greater than notional. The simulator allows the cash to become negative (i.e., margin). \n",
    "3. notional: Notional value of the positions. It is expected that weights are provided at each rebalance. The notional is used to estimate the number of shares and dollar positions"
   ]
  },
  {
   "cell_type": "code",
   "execution_count": 5,
   "metadata": {},
   "outputs": [],
   "source": [
    "_ = sim.set_capital(currency = 'USD',cash = 5e7, notional = 1e8)"
   ]
  },
  {
   "cell_type": "markdown",
   "metadata": {},
   "source": [
    "### Max Volume Participation Contraint\n",
    "\n",
    "The backtest can limit the amount it trades on each day. Usually if the notional is small and there is a good volume on the rebalance day, all shares will be traded the same day. However, if there is less liquidity on the day, the remaining part trades the next day, so on and so forth. In case there is no liquidity at all, the simulator will throw an error. \n",
    "\n"
   ]
  },
  {
   "cell_type": "code",
   "execution_count": 6,
   "metadata": {},
   "outputs": [],
   "source": [
    "_ = sim.set_max_vol_participation(max_part = 0.06)"
   ]
  },
  {
   "cell_type": "markdown",
   "metadata": {},
   "source": [
    "### Transaction Cost Function\n",
    "\n",
    "Transaction cost function allows user to control the market impact based on the following signature:\n",
    "\n",
    "Signature of the function is something like this:\n",
    "\n",
    "```\n",
    "\n",
    "Signature of the Function (Uses R Syntax)\n",
    "\n",
    "function(value,price,shares,spread,volatility,volume) {\n",
    "    #value: value of the traded in funding currency\n",
    "    #price: local price of the stock\n",
    "    #shares: number of shares to trade (For shorting the shares are negative\n",
    "    #spread: spread in local currency\n",
    "    #volume: Volume traded in terms of the shares\n",
    "    \n",
    "    // Should return the cost of the trading in local currency, e.g., \n",
    "    part = (abs(shares))/volume\n",
    "    return(spread*part/0.05)\n",
    "}\n",
    "\n",
    "value = value, price = prc[d], shares = shrs, \n",
    "            spread = spread[d], volatility = volatility[d], volume = volume[d]\n",
    "```"
   ]
  },
  {
   "cell_type": "code",
   "execution_count": 7,
   "metadata": {},
   "outputs": [],
   "source": [
    "NO_COST_FN = \"function(...) {return(0)}\"\n",
    "\n",
    "LINEAR_COST_FN = \"\"\"function(value,price,shares,spread,volatility,volume) {\n",
    "    #value: value of the traded in funding currency\n",
    "    #price: local price of the stock\n",
    "    #shares: number of shares to trade\n",
    "    #spread: spread in local currency\n",
    "    #volume: Volume traded in terms of the shares   \n",
    "    # Should return the cost of the trading in local currency, e.g., \n",
    "    part = (abs(shares))/volume\n",
    "    return(spread*part/0.05)\n",
    "}\n",
    "\"\"\"\n",
    "\n",
    "_ = sim.set_txn_cost_function(LINEAR_COST_FN)"
   ]
  },
  {
   "cell_type": "markdown",
   "metadata": {},
   "source": [
    "#### Set data for portfolio simulation\n",
    "\n",
    "We will bascially upload the pandas data frame that simulation will use"
   ]
  },
  {
   "cell_type": "code",
   "execution_count": 8,
   "metadata": {},
   "outputs": [
    {
     "data": {
      "text/plain": [
       "<pyqes.micsvc.PortfolioSimulator at 0x7f490c189550>"
      ]
     },
     "execution_count": 8,
     "metadata": {},
     "output_type": "execute_result"
    }
   ],
   "source": [
    "sim.set_user_data(name = 'sim_data.csv', data = data)"
   ]
  },
  {
   "cell_type": "code",
   "execution_count": 9,
   "metadata": {},
   "outputs": [
    {
     "data": {
      "text/plain": [
       "<pyqes.micsvc.PortfolioSimulator at 0x7f490c189550>"
      ]
     },
     "execution_count": 9,
     "metadata": {},
     "output_type": "execute_result"
    }
   ],
   "source": [
    "sim.submit()"
   ]
  },
  {
   "cell_type": "code",
   "execution_count": 4,
   "metadata": {},
   "outputs": [
    {
     "data": {
      "text/plain": [
       "{'endTime': '\"2023-02-02 22:57:43.402088\"',\n",
       " 'message': 'Job Completed 0',\n",
       " 'startTime': '\"2023-02-02 22:57:35.794946\"',\n",
       " 'status': 'SUCCESS',\n",
       " 'type': 8,\n",
       " 'uuid': '1e03d718-bd4c-4ba3-be3e-5b006c4b1376'}"
      ]
     },
     "execution_count": 4,
     "metadata": {},
     "output_type": "execute_result"
    }
   ],
   "source": [
    "sim.info()"
   ]
  },
  {
   "cell_type": "code",
   "execution_count": 5,
   "metadata": {},
   "outputs": [],
   "source": [
    "results = sim.get_results()"
   ]
  },
  {
   "cell_type": "code",
   "execution_count": 3,
   "metadata": {},
   "outputs": [],
   "source": [
    "sim.set_id('1e03d718-bd4c-4ba3-be3e-5b006c4b1376')"
   ]
  },
  {
   "cell_type": "markdown",
   "metadata": {},
   "source": [
    "### Setting up Plot Function"
   ]
  },
  {
   "cell_type": "code",
   "execution_count": 85,
   "metadata": {},
   "outputs": [],
   "source": [
    "import datetime\n",
    "%matplotlib inline\n",
    "\n",
    "def _plot_(series, title, ylabel, kind = 'line'):\n",
    "    series.index = [datetime.datetime.strptime(x,'%Y-%m-%d') for x in series.index]\n",
    "    _ = series.plot(title = title, figsize = (12,6), legend = False, fontsize = 14, kind = kind)\n",
    "    _ = ax.set_xlabel('Date', fontsize = 16)\n",
    "    _ = ax.set_ylabel(ylabel, fontsize = 16)\n",
    "    _ = ax.set_title(title,fontsize = 20)\n",
    "    return ax"
   ]
  },
  {
   "cell_type": "markdown",
   "metadata": {},
   "source": [
    "### Analyzying Portfolio Simulation Data"
   ]
  },
  {
   "cell_type": "markdown",
   "metadata": {},
   "source": [
    "#### Portfolio Values\n",
    "\n",
    "The timeseries represents the total value of the Strategy (Unrealized + Realized). Its value should start with the cash held in account and grow based on the performance of the portfolio. It is value is computed date in the base currency\n",
    "\n",
    "Net Values = Cash + Long Values - Short Values"
   ]
  },
  {
   "cell_type": "code",
   "execution_count": 86,
   "metadata": {},
   "outputs": [
    {
     "data": {
      "image/png": "[encoded data removed]",
      "text/plain": [
       "<matplotlib.figure.Figure at 0x7f48ff4bc828>"
      ]
     },
     "metadata": {},
     "output_type": "display_data"
    }
   ],
   "source": [
    "ax = _plot_(series = results.net_values(), ylabel = '$ Value', title = 'Strategy Value($)')"
   ]
  },
  {
   "cell_type": "markdown",
   "metadata": {},
   "source": [
    "#### Returns\n",
    "Returns are computed using the percentage change "
   ]
  },
  {
   "cell_type": "code",
   "execution_count": 88,
   "metadata": {
    "scrolled": true
   },
   "outputs": [
    {
     "data": {
      "image/png": "[encoded data removed]",
      "text/plain": [
       "<matplotlib.figure.Figure at 0x7f48ff2cc3c8>"
      ]
     },
     "metadata": {},
     "output_type": "display_data"
    }
   ],
   "source": [
    "_ = _plot_(series = results.returns(), title = 'Strategy Returns', ylabel = '$ Value', kind = 'bar')"
   ]
  },
  {
   "cell_type": "code",
   "execution_count": null,
   "metadata": {},
   "outputs": [],
   "source": [
    "results.returns().plot()"
   ]
  },
  {
   "cell_type": "code",
   "execution_count": null,
   "metadata": {},
   "outputs": [],
   "source": [
    "#results = sim.get_results()\n",
    "\n",
    "type(sim.req)"
   ]
  },
  {
   "cell_type": "code",
   "execution_count": null,
   "metadata": {},
   "outputs": [],
   "source": [
    "data = {'result':result.data}"
   ]
  },
  {
   "cell_type": "code",
   "execution_count": null,
   "metadata": {},
   "outputs": [],
   "source": [
    "result.data"
   ]
  },
  {
   "cell_type": "code",
   "execution_count": null,
   "metadata": {},
   "outputs": [],
   "source": [
    "result = PortSimulatorOutput(output,None)"
   ]
  },
  {
   "cell_type": "code",
   "execution_count": null,
   "metadata": {},
   "outputs": [],
   "source": [
    "result = PortSimulatorOutput(5e7,output,data)"
   ]
  },
  {
   "cell_type": "code",
   "execution_count": null,
   "metadata": {},
   "outputs": [],
   "source": [
    "abs(result.returns())"
   ]
  },
  {
   "cell_type": "code",
   "execution_count": null,
   "metadata": {},
   "outputs": [],
   "source": []
  },
  {
   "cell_type": "code",
   "execution_count": null,
   "metadata": {},
   "outputs": [],
   "source": [
    "c = result.cash()\n",
    "c.index = v.index"
   ]
  },
  {
   "cell_type": "code",
   "execution_count": null,
   "metadata": {},
   "outputs": [],
   "source": [
    "l1 = list(v.index)\n",
    "l2 = list(c.index)"
   ]
  },
  {
   "cell_type": "code",
   "execution_count": null,
   "metadata": {},
   "outputs": [],
   "source": [
    "v.add(c)"
   ]
  },
  {
   "cell_type": "code",
   "execution_count": null,
   "metadata": {},
   "outputs": [],
   "source": [
    "#pd.concat([data[dt]['cash'] for dt in dates])"
   ]
  },
  {
   "cell_type": "code",
   "execution_count": null,
   "metadata": {},
   "outputs": [],
   "source": [
    "class PortSimulatorOutput:\n",
    "    \n",
    "    def __init__(self, init_cash, output, data = None):\n",
    "        self.output = output\n",
    "        self.init_cash = init_cash\n",
    "        if data is None:\n",
    "            self.data = output.get_data()['result']\n",
    "        else:\n",
    "            self.data = data['result']\n",
    "        dates = list(self.data.keys())\n",
    "        dates.sort()\n",
    "        self.dates = dates\n",
    "        \n",
    "    def _v_(self,name):\n",
    "        return pd.concat([self.data[dt][name] for dt in self.dates])\n",
    "    \n",
    "    def _m_(self,name):\n",
    "        return pd.concat([self.data[dt][name] for dt in self.dates],axis=1)\n",
    "    \n",
    "    def cash(self):\n",
    "        return self._v_('cash')\n",
    "    \n",
    "    def shares_traded(self):\n",
    "        return self._m_('shares_traded')\n",
    "    \n",
    "    def shares(self):\n",
    "        return self._m_('shares')\n",
    "    \n",
    "    def short_values(self):\n",
    "        return self._v_('short_values')\n",
    "    \n",
    "    def long_values(self):\n",
    "        return self._v_('long_values')\n",
    "    \n",
    "    def net_values(self):\n",
    "        return self.values().add(self.cash())\n",
    "    \n",
    "    def value_traded(self):\n",
    "        return self._m_('value_traded')\n",
    "    \n",
    "    def next_notional(self):\n",
    "        return self._v_('next_notional')\n",
    "    \n",
    "    def target_notional(self):\n",
    "        return self._v_('target_notional')\n",
    "    \n",
    "    def realized_notional(self):\n",
    "        return self._v_('realized_notional')\n",
    "    \n",
    "    def values(self):\n",
    "        return self._v_('values')\n",
    "    \n",
    "    def exec_price(self):\n",
    "        return self._m_('exec_prc')\n",
    "\n",
    "    def div_payout(self):\n",
    "        return self._v_('div_accum')\n",
    "    \n",
    "    def returns(self):\n",
    "        return self.net_values().pct_change()\n",
    "\n"
   ]
  },
  {
   "cell_type": "code",
   "execution_count": null,
   "metadata": {},
   "outputs": [],
   "source": [
    "%matplotlib inline\n",
    "data['result']['2022-06-30']['cash'].plot()"
   ]
  },
  {
   "cell_type": "code",
   "execution_count": null,
   "metadata": {},
   "outputs": [],
   "source": [
    "x"
   ]
  },
  {
   "cell_type": "code",
   "execution_count": null,
   "metadata": {},
   "outputs": [],
   "source": [
    "connection.URL + '/' + 'job/content/' + sim.esvc.uuid"
   ]
  },
  {
   "cell_type": "code",
   "execution_count": null,
   "metadata": {},
   "outputs": [],
   "source": [
    "respons = connection.session.get(connection.URL + '/' + 'job/content/' + sim.esvc.uuid)\n",
    "\n",
    "#sim.esvc.uuid"
   ]
  },
  {
   "cell_type": "code",
   "execution_count": null,
   "metadata": {},
   "outputs": [],
   "source": [
    "respons.content"
   ]
  },
  {
   "cell_type": "code",
   "execution_count": null,
   "metadata": {},
   "outputs": [],
   "source": [
    "??connection.get"
   ]
  },
  {
   "cell_type": "code",
   "execution_count": null,
   "metadata": {},
   "outputs": [],
   "source": [
    "output = sim.get_output()"
   ]
  }
 ],
 "metadata": {
  "kernelspec": {
   "display_name": "Python 3",
   "language": "python",
   "name": "python3"
  },
  "language_info": {
   "codemirror_mode": {
    "name": "ipython",
    "version": 3
   },
   "file_extension": ".py",
   "mimetype": "text/x-python",
   "name": "python",
   "nbconvert_exporter": "python",
   "pygments_lexer": "ipython3",
   "version": "3.5.2"
  }
 },
 "nbformat": 4,
 "nbformat_minor": 2
}
