{
 "cells": [
  {
   "cell_type": "markdown",
   "metadata": {},
   "source": [
    "![Wolfe](https://s3.amazonaws.com/lquant-images/wolfe_luo.jpg)\n",
    "\n",
    "# Overview of Python Risk Model API\n",
    "**pyqes.micsvc**:\n",
    "\n",
    "Python package to utilize the Luo QES API service functions. The API can be used to build historical risk models. It provides a convenient way to build a risk model using standard or customized universes. User can select \n",
    "\n",
    "1. Risk Universe\n",
    "2. List of factors\n",
    "3. Parameters for estimation\n",
    "\n",
    "The risk model parameters are driven from risk model templates. We provide standard risk model templates that can be copied/edited/saved as user specific templates. \n",
    "\n"
   ]
  },
  {
   "cell_type": "markdown",
   "metadata": {},
   "source": [
    "## Requirements and Presteps\n",
    "\n",
    "1. Copy pyqes [python file]( https://github.com/wolferesearch/docs/tree/master/micro-services/api/python/pyqes) from github to your local directory from Github. \n",
    "2. Ensure you have [Pandas](https://pandas.pydata.org/) and [requests](https://pypi.org/project/requests/) package in your python kernel. "
   ]
  },
  {
   "cell_type": "markdown",
   "metadata": {},
   "source": [
    "## Authentication and Connection\n",
    "\n",
    "The API is protected using Username and Password. In case you have not received it, please [email](mailto:luo.qes@wolferesearch.com) to apply for API account. \n",
    "\n",
    "The connection object is the gateway to accessing the API. It allows you to access the catalog, portfolios, templates, risk models etc. "
   ]
  },
  {
   "cell_type": "code",
   "execution_count": 1,
   "metadata": {},
   "outputs": [],
   "source": [
    "# The micsvc folder should be in your working directory\n",
    "from pyqes import micsvc\n",
    "\n",
    "\n",
    "connection = micsvc.Connection(username = '****', password = '****')"
   ]
  },
  {
   "cell_type": "code",
   "execution_count": 2,
   "metadata": {},
   "outputs": [],
   "source": [
    "jobs = connection.success_jobs(1)"
   ]
  },
  {
   "cell_type": "code",
   "execution_count": null,
   "metadata": {},
   "outputs": [],
   "source": [
    "jobs"
   ]
  },
  {
   "cell_type": "code",
   "execution_count": 4,
   "metadata": {},
   "outputs": [],
   "source": [
    "rmb = connection.get_risk_model_builder()\n",
    "426a62b4-5ea8-47b8-96fa-94254ae67433"
   ]
  },
  {
   "cell_type": "code",
   "execution_count": 10,
   "metadata": {},
   "outputs": [],
   "source": [
    "rmb = connection.get_risk_model_builder()\n",
    "rmb.set_id('426a62b4-5ea8-47b8-96fa-94254ae67433')\n",
    "rmb.download_all(out_dir = 'temp')"
   ]
  },
  {
   "cell_type": "code",
   "execution_count": 12,
   "metadata": {},
   "outputs": [
    {
     "data": {
      "text/plain": [
       "['2022-09-30', '2022-10-03']"
      ]
     },
     "execution_count": 12,
     "metadata": {},
     "output_type": "execute_result"
    }
   ],
   "source": [
    "rmb.dates()"
   ]
  },
  {
   "cell_type": "code",
   "execution_count": 13,
   "metadata": {},
   "outputs": [
    {
     "data": {
      "text/plain": [
       "True"
      ]
     },
     "execution_count": 13,
     "metadata": {},
     "output_type": "execute_result"
    }
   ],
   "source": [
    "rmb.download_all(out_dir = 'temp')"
   ]
  },
  {
   "cell_type": "code",
   "execution_count": null,
   "metadata": {},
   "outputs": [],
   "source": [
    "from datetime import datetime\n",
    "jobs['ENDTIME'] = jobs['ENDTIME'].apply(lambda dt: datetime.fromtimestamp(dt / 1000) if dt is not None else None)\n",
    "#jobs.ENDTIME"
   ]
  },
  {
   "cell_type": "code",
   "execution_count": null,
   "metadata": {},
   "outputs": [],
   "source": [
    "jobs.sort_values(by='STARTTIME', ascending = False)"
   ]
  },
  {
   "cell_type": "code",
   "execution_count": null,
   "metadata": {},
   "outputs": [],
   "source": [
    "user_data = connection.user_data()"
   ]
  },
  {
   "cell_type": "code",
   "execution_count": null,
   "metadata": {},
   "outputs": [],
   "source": [
    "#import pandas as pd\n",
    "#df = pd.read_csv('/home/ubuntu/projects/docs/micro-services/data/opt.csv')\n",
    "user_data.upload_data(file_path_or_data = '/home/ubuntu/projects/docs/micro-services/data/opt.csv', name = 'opt1.csv')"
   ]
  },
  {
   "cell_type": "code",
   "execution_count": null,
   "metadata": {},
   "outputs": [],
   "source": [
    "import tempfile\n",
    "file_descriptor, file_path = tempfile.mkstemp(suffix='.csv')\n"
   ]
  },
  {
   "cell_type": "code",
   "execution_count": null,
   "metadata": {},
   "outputs": [],
   "source": [
    "df.to_csv(path_or_buf=file_path, index=False)\n"
   ]
  },
  {
   "cell_type": "code",
   "execution_count": null,
   "metadata": {},
   "outputs": [],
   "source": [
    "user_data.list_data()"
   ]
  },
  {
   "cell_type": "code",
   "execution_count": null,
   "metadata": {},
   "outputs": [],
   "source": [
    "user_data.delete_data('opt1')"
   ]
  },
  {
   "cell_type": "code",
   "execution_count": null,
   "metadata": {},
   "outputs": [],
   "source": [
    "catalog = connection.get_catalog()"
   ]
  },
  {
   "cell_type": "code",
   "execution_count": null,
   "metadata": {},
   "outputs": [],
   "source": [
    "res = connection.upload_file(file_loc = '/home/ubuntu/projects/docs/sample/LongFormatPort.csv', name = 'port/x1.csv')"
   ]
  },
  {
   "cell_type": "code",
   "execution_count": null,
   "metadata": {},
   "outputs": [],
   "source": [
    "connection.u"
   ]
  },
  {
   "cell_type": "code",
   "execution_count": null,
   "metadata": {},
   "outputs": [],
   "source": [
    "import pandas as pd\n",
    "y = pd.DataFrame({\"ID\": [\"ABCD\",\"XYZ\"]})"
   ]
  },
  {
   "cell_type": "code",
   "execution_count": null,
   "metadata": {},
   "outputs": [],
   "source": [
    "y[y.columns[0]][0]"
   ]
  },
  {
   "cell_type": "code",
   "execution_count": null,
   "metadata": {},
   "outputs": [],
   "source": [
    "import tempfile\n",
    "file_descriptor, file_path = tempfile.mkstemp(suffix='.csv')"
   ]
  },
  {
   "cell_type": "code",
   "execution_count": null,
   "metadata": {},
   "outputs": [],
   "source": [
    "file_path"
   ]
  },
  {
   "cell_type": "code",
   "execution_count": null,
   "metadata": {},
   "outputs": [],
   "source": [
    "from datetime import datetime\n",
    "datetime.strptime('2023-01-07','%Y-%m-%d')"
   ]
  },
  {
   "cell_type": "code",
   "execution_count": null,
   "metadata": {},
   "outputs": [],
   "source": [
    "import pandas as pd\n",
    "from datetime import datetime\n",
    "\n",
    "v = connection.session.get(connection.URL + '/port')\n",
    "v = pd.read_json(v.text)"
   ]
  },
  {
   "cell_type": "code",
   "execution_count": null,
   "metadata": {},
   "outputs": [],
   "source": [
    "#datetime.fromtimestamp(your_timestamp / 1e3)\n",
    "v.Uploaded = v.Uploaded.apply(lambda x: datetime.fromtimestamp(x / 1e3))"
   ]
  },
  {
   "cell_type": "code",
   "execution_count": null,
   "metadata": {},
   "outputs": [],
   "source": [
    "v.sort_values(by=['Uploaded'], ascending = False)"
   ]
  },
  {
   "cell_type": "markdown",
   "metadata": {},
   "source": [
    "### Connection Class\n",
    "\n",
    "Provides convenients way to interface with the Cataglog/Risk/Template RESTful API. The first step is to browse the catalog that provides access to Universes and Factors. "
   ]
  },
  {
   "cell_type": "code",
   "execution_count": null,
   "metadata": {},
   "outputs": [],
   "source": [
    "# Catalog instance allows you browse different entities in the database...\n",
    "catalog = connection.get_catalog()"
   ]
  },
  {
   "cell_type": "markdown",
   "metadata": {},
   "source": [
    "### Catalog\n",
    "\n",
    "* <ins>**Universe**</ins> : Time varying collection of stocks. We have wide array of universe available. Additional universes can be added to the collection on client's request. \n",
    "\n",
    "\n",
    "* <ins>**Factor**</ins>: List of available factors (or features, e.g., Earnings Yield, ROE, ..) for stocks. The factors form the basis for risk model and capturing the systematic risk. The factors can be added to the risk model template to enhance the model. While adding more factor can better capture the systematic risk, caution should be exercised in order to avoid overfitting. Also, it is advisable to add correlated factors as they can cause multi-collinearity. \n",
    "\n",
    "\n",
    "* <ins>**Meta Factor**</ins>: List of meta data available (e.g., Market Cap, Ticker, ..) for stocks. This is for reference and mapping purpose. \n",
    "\n",
    "\n",
    "* <ins>**Portfolio**</ins>: User can upload portfolio to the database. Portfolios are saved in users own space. The purpose of the portfolio is to be used as a custom universe for risk model and other requests. \n",
    "\n",
    "\n",
    "* <ins>**Template**</ins>: A template is stored parameter set for the risk model requests. The two main purposes of templates are (1) Simplifying the API, and (2) Reuse parameters across different requests. "
   ]
  },
  {
   "cell_type": "markdown",
   "metadata": {},
   "source": [
    "### Factors\n",
    "\n",
    "We have a wide array of factors available capturing fundamental and technical themes of the stocks. The factors are based on years of extensive alpha/risk research by the QES team. The catolog provides an easy way to list down available factors. In case you are interested in additional factors, please [email](mailto:luo.qes@wolferesearch.com) desk. "
   ]
  },
  {
   "cell_type": "code",
   "execution_count": null,
   "metadata": {},
   "outputs": [],
   "source": [
    "catalog.get_factors().head()"
   ]
  },
  {
   "cell_type": "markdown",
   "metadata": {},
   "source": [
    "### Universe\n",
    "\n",
    "Collection of standardized universe that can be used as risk universe. Note that custom portfolios can also be used as risk universe. The ID colun in the table below uniquely identifies the universe. "
   ]
  },
  {
   "cell_type": "code",
   "execution_count": null,
   "metadata": {},
   "outputs": [],
   "source": [
    "catalog.get_universe().head()"
   ]
  },
  {
   "cell_type": "markdown",
   "metadata": {},
   "source": [
    "### Portfolio\n",
    "\n",
    "Similar to universe but user can upload it along with custom factors. A single portfolio added to the database can provide a risk universe as well as custom factors. Note that any columns other than date/id are treated as custom factors). For more details on format of the CSV file, please see our [Github link](https://github.com/wolferesearch/docs/blob/master/portfolio.md). You can also download a sample file using this [link](https://raw.githubusercontent.com/wolferesearch/docs/master/sample/LongFormatPort.csv). "
   ]
  },
  {
   "cell_type": "code",
   "execution_count": null,
   "metadata": {},
   "outputs": [],
   "source": [
    "catalog.get_portfolios()\n"
   ]
  },
  {
   "cell_type": "markdown",
   "metadata": {},
   "source": [
    "### Uploading a portfolio\n",
    "\n",
    "A simple CSV file can be uploaded a custom list. We support Ticker (US Only), SEDOL, CUSIP, BBTICKER as valid identifiers. \n"
   ]
  },
  {
   "cell_type": "code",
   "execution_count": null,
   "metadata": {},
   "outputs": [],
   "source": [
    "# Always prefix the user with the username to avoid conflict\n",
    "\n",
    "# You can also download a sample file using this https://raw.githubusercontent.com/wolferesearch/docs/master/sample/LongFormatPort.csv\n",
    "portfolio_id = '{}_MY_CUSTOM_PORTFOLIO'.format(user.upper())\n",
    "portfolio = connection.upload_portfolio(id = portfolio_id, filename = '../../../sample/LongFormatPort.csv')"
   ]
  },
  {
   "cell_type": "code",
   "execution_count": null,
   "metadata": {},
   "outputs": [],
   "source": [
    "# Check if the \n",
    "portfolio.text"
   ]
  },
  {
   "cell_type": "code",
   "execution_count": null,
   "metadata": {},
   "outputs": [],
   "source": [
    "catalog.get_portfolios()"
   ]
  },
  {
   "cell_type": "markdown",
   "metadata": {},
   "source": [
    "<span style=\"color:red\">*Note that a portfolio to be used a risk model universe, it is important to have wide and deep coverage. The example above is a very simple portfolio. It is recommended to provide portfolio with at least one month frequency* and have at least 10-20 stocks in each of the GICS industry group</span>"
   ]
  },
  {
   "cell_type": "markdown",
   "metadata": {},
   "source": [
    "### Templates\n",
    "\n",
    "Templates are stored parameters that can be reused. Templates are stored as Json file in the database. Users can take an existing template and modify it and save it back in the database. The template will be stored under individual users space and only visible to the account you are using to connect. "
   ]
  },
  {
   "cell_type": "code",
   "execution_count": null,
   "metadata": {},
   "outputs": [],
   "source": [
    "## Get all templates using the catalog class\n",
    "catalog.get_templates()"
   ]
  },
  {
   "cell_type": "code",
   "execution_count": null,
   "metadata": {},
   "outputs": [],
   "source": [
    "default_risk_template = connection.get_template(name = 'default', type_ = 'Risk-Model')"
   ]
  },
  {
   "cell_type": "markdown",
   "metadata": {},
   "source": [
    "### Inspecting the Template"
   ]
  },
  {
   "cell_type": "code",
   "execution_count": null,
   "metadata": {},
   "outputs": [],
   "source": [
    "default_risk_template.json"
   ]
  },
  {
   "cell_type": "markdown",
   "metadata": {},
   "source": [
    "#### Adding a new factor to the template"
   ]
  },
  {
   "cell_type": "code",
   "execution_count": null,
   "metadata": {},
   "outputs": [],
   "source": [
    "## Add a new Factor to the template\n",
    "default_risk_template.add_factor(mnemonic = 'CFOYLD_FY1', name = 'Cash Flow Yield')"
   ]
  },
  {
   "cell_type": "markdown",
   "metadata": {},
   "source": [
    "#### Saving template to the database"
   ]
  },
  {
   "cell_type": "code",
   "execution_count": null,
   "metadata": {},
   "outputs": [],
   "source": [
    "## Save the template to the database. Please use \n",
    "template_name = '{}_risk_with_cash_flow'.format(user)\n",
    "default_risk_template.save(template_name)"
   ]
  },
  {
   "cell_type": "markdown",
   "metadata": {},
   "source": [
    "#### Ensuring the new template has the new factor we added"
   ]
  },
  {
   "cell_type": "code",
   "execution_count": null,
   "metadata": {},
   "outputs": [],
   "source": [
    "## Get Template\n",
    "risk_template = connection.get_template(name = template_name, type_ = 'Risk-Model')\n",
    "risk_template.json"
   ]
  },
  {
   "cell_type": "markdown",
   "metadata": {},
   "source": [
    "## Risk Model Builder\n",
    "\n",
    "Risk Model Builder requires the following parameters to build the risk model\n",
    "\n",
    "1. Universe: This can be one of the standard universes or custom portfolio ids\n",
    "2. Template: Template containing the parameters such as factor lists, meta data list, and other parameters\n",
    "3. Start Date: First date when the risk model should be built\n",
    "4. End Date: Last date \n",
    "5. Frequency: How often to rebuild between the start and end date. Available frequencies are \n",
    "   1. Daily :  1d\n",
    "   2. N Daily: nd\n",
    "   3. Weekly: 1w\n",
    "   4. Monthly: 1m\n",
    "   5. Month End: 1me\n",
    "   6. Quarterly: 1q\n",
    "   7. Quarter End: 1qe\n",
    "   8. Yearly: 1y\n",
    "   9. Year End: 1ye"
   ]
  },
  {
   "cell_type": "code",
   "execution_count": null,
   "metadata": {},
   "outputs": [],
   "source": [
    "# Get a new Risk model builder\n",
    "rmb = connection.get_risk_model_builder()\n",
    "rmb.new_request(universe = 'SP500', template = template_name, startDate = '2020-01-31', endDate = '2022-12-31', freq = '1me')"
   ]
  },
  {
   "cell_type": "code",
   "execution_count": null,
   "metadata": {},
   "outputs": [],
   "source": [
    "## Wait until the risk model is completed. \n",
    "rmb.wait(max_wait_secs = 600)"
   ]
  },
  {
   "cell_type": "code",
   "execution_count": null,
   "metadata": {},
   "outputs": [],
   "source": [
    "# Print out dates of the risk model that was just built\n",
    "rmb.dates()"
   ]
  },
  {
   "cell_type": "markdown",
   "metadata": {},
   "source": [
    "### Getting the data the request. \n",
    "\n",
    "Risk model data can be easily accessed by query it one date at a time. The data is returned as a dictionary containing data for one day:\n",
    "\n",
    "1. Security Exposures (*.exp)\n",
    "2. Security Master (*.idm)\n",
    "3. Factor Returns (over the period) (*.rtn)\n",
    "4. Security Specific Risk (*.rsk)\n",
    "5. Factor Mimicking Portfolio (*.fmp)\n",
    "6. Security Meta (*.meta)\n",
    "7. Factor Info file (*.info)\n",
    "\n",
    "\n",
    "\n",
    "<span style=\"color:red\">*Note that data for each risk model request is kept in the database based on UID of the request. The UID can be retrieved using the connection.jobs() function of a previous request. You can always query an old request by associating the builder with previous run UID</span>"
   ]
  },
  {
   "cell_type": "code",
   "execution_count": null,
   "metadata": {},
   "outputs": [],
   "source": [
    "data = rmb.get_data('2022-12-31')"
   ]
  },
  {
   "cell_type": "code",
   "execution_count": null,
   "metadata": {},
   "outputs": [],
   "source": [
    "## Unique Id That can be either saved by the client or it can be queries by using the connection.get_jobs()\n",
    "rmb.esvc.get_id"
   ]
  },
  {
   "cell_type": "code",
   "execution_count": null,
   "metadata": {},
   "outputs": [],
   "source": [
    "connection.get_jobs()"
   ]
  },
  {
   "cell_type": "code",
   "execution_count": null,
   "metadata": {},
   "outputs": [],
   "source": [
    "print(data.keys())"
   ]
  },
  {
   "cell_type": "markdown",
   "metadata": {},
   "source": [
    "#### Factor Covariance Matrix (*.cov)\n",
    "\n",
    "Factor covariance matrix provides ex-ante covariance based on the risk model estimation as of that point in time. The risk of a security or a portfolio can be estimated by combining the exposure with the covariance. The covariance values are annualized. The diagonal element is the estimation of volatility of the corresponding factor. "
   ]
  },
  {
   "cell_type": "code",
   "execution_count": null,
   "metadata": {},
   "outputs": [],
   "source": [
    "data['2022-12-31/R1_D1_20221231.cov'].head()"
   ]
  },
  {
   "cell_type": "markdown",
   "metadata": {},
   "source": [
    "#### Factor Exposure Data (*.exp)\n",
    "\n",
    "The file provides the factor exposure for each of the security in the risk universe. "
   ]
  },
  {
   "cell_type": "code",
   "execution_count": null,
   "metadata": {},
   "outputs": [],
   "source": [
    "data['2022-12-31/R1_D1_20221231.exp'].head()"
   ]
  },
  {
   "cell_type": "markdown",
   "metadata": {},
   "source": [
    "#### Security Idio Risk (*.rsk)\n",
    "\n",
    "The idio risk provides a security specific risk. The units are percentage, hence it should be divided by 100 prior to adding to adding the risks of securities"
   ]
  },
  {
   "cell_type": "code",
   "execution_count": null,
   "metadata": {},
   "outputs": [],
   "source": [
    "data['2022-12-31/R1_D1_20221231.rsk'].head()"
   ]
  },
  {
   "cell_type": "markdown",
   "metadata": {},
   "source": [
    "#### Factor Returns File (*.rtn)\n",
    "\n",
    "The factor returns provides percentage return. The returns are computed over the queried frequency. In order to compute decimal returns, the numbers should be divided by 100. "
   ]
  },
  {
   "cell_type": "code",
   "execution_count": null,
   "metadata": {},
   "outputs": [],
   "source": [
    "\n",
    "data['2022-12-31/R1_D1_20221231.rtn'].head()"
   ]
  },
  {
   "cell_type": "markdown",
   "metadata": {},
   "source": [
    "#### Security Master (*.idm)\n",
    "\n",
    "Basic security master file for each date listing reference information about the company"
   ]
  },
  {
   "cell_type": "code",
   "execution_count": null,
   "metadata": {},
   "outputs": [],
   "source": [
    "data['2022-12-31/R1_D1_20221231.idm'].head()"
   ]
  },
  {
   "cell_type": "markdown",
   "metadata": {},
   "source": [
    "#### Factor Info File (*.info)\n",
    "\n",
    "Provides details of each of the factor used in the risk model include the sector/country/currency when available. "
   ]
  },
  {
   "cell_type": "code",
   "execution_count": null,
   "metadata": {},
   "outputs": [],
   "source": [
    "data['2022-12-31/R1_D1_20221231.info'].head()"
   ]
  },
  {
   "cell_type": "markdown",
   "metadata": {},
   "source": [
    "#### Factor Mimicking Portfolio (*.fmp)\n",
    "\n",
    "File provides compositing of FMP as constructed for that date. "
   ]
  },
  {
   "cell_type": "code",
   "execution_count": null,
   "metadata": {},
   "outputs": [],
   "source": [
    "data['2022-12-31/R1_D1_20221231.fmp'].head()"
   ]
  }
 ],
 "metadata": {
  "kernelspec": {
   "display_name": "Python 3",
   "language": "python",
   "name": "python3"
  },
  "language_info": {
   "codemirror_mode": {
    "name": "ipython",
    "version": 3
   },
   "file_extension": ".py",
   "mimetype": "text/x-python",
   "name": "python",
   "nbconvert_exporter": "python",
   "pygments_lexer": "ipython3",
   "version": "3.5.2"
  }
 },
 "nbformat": 4,
 "nbformat_minor": 2
}
