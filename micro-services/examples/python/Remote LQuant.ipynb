{
 "cells": [
  {
   "cell_type": "code",
   "execution_count": null,
   "metadata": {},
   "outputs": [],
   "source": [
    "from lquant_remote import RemoteExecutor\n",
    "executor = RemoteExecutor(URL = 'http://rstudio3.luoquant.com', Key = '1234')"
   ]
  },
  {
   "cell_type": "code",
   "execution_count": null,
   "metadata": {},
   "outputs": [],
   "source": [
    "## Download as zip file\n",
    "req = executor.new_request().runFor('SP500').start('2010-01-31').to('2023-02-28').at('1me').at('1me').attr(['ROE','IN_SP500'])\n",
    "_ = req.execute()\n",
    "\n",
    "req.wait()\n",
    "\n",
    "\n",
    "req.download('test.zip')\n",
    "\n",
    "#factor_data.as_large_data_frame()"
   ]
  },
  {
   "cell_type": "code",
   "execution_count": null,
   "metadata": {},
   "outputs": [],
   "source": [
    "req.status()"
   ]
  },
  {
   "cell_type": "code",
   "execution_count": null,
   "metadata": {},
   "outputs": [],
   "source": [
    "req.wait()"
   ]
  },
  {
   "cell_type": "code",
   "execution_count": null,
   "metadata": {},
   "outputs": [],
   "source": [
    "req = executor.new_request().runFor('SP500').start('2010-01-31').to('2023-02-28').at('1me').at('1me').attr(['ROE','IN_SP500'])\n",
    "factor_data = req.sync().set_output_json().execute()\n"
   ]
  },
  {
   "cell_type": "code",
   "execution_count": 5,
   "metadata": {},
   "outputs": [
    {
     "data": {
      "text/plain": [
       "True"
      ]
     },
     "execution_count": 5,
     "metadata": {},
     "output_type": "execute_result"
    }
   ],
   "source": [
    "### Eminence\n",
    "\n",
    "from lquant_remote import RemoteExecutor\n",
    "executor = RemoteExecutor(URL = 'http://eminence.luoquant.com', Key = 'ef175e76-f8e0-4eb8-88d6-a429fe3b9b07')\n",
    "\n",
    "\n",
    "req = executor.new_request().runFor('SP500').start('2010-01-31').to('2023-02-28').at('1me')\n",
    "req = req.attr(['ROE','IN_SP500','TICKER','E1_G_28_2YY'])\n",
    "req = req.execute()\n",
    "\n",
    "req.wait()\n",
    "\n",
    "\n",
    "req.download('test.zip')"
   ]
  },
  {
   "cell_type": "code",
   "execution_count": null,
   "metadata": {},
   "outputs": [],
   "source": [
    "total_sleep = 10\n",
    "sleep = 10\n",
    "max_time = 1200\n",
    "not req.is_completed() and total_sleep < max_time"
   ]
  },
  {
   "cell_type": "code",
   "execution_count": null,
   "metadata": {},
   "outputs": [],
   "source": [
    "req.status()"
   ]
  },
  {
   "cell_type": "code",
   "execution_count": null,
   "metadata": {},
   "outputs": [],
   "source": [
    "executor.list_jobs()"
   ]
  },
  {
   "cell_type": "code",
   "execution_count": null,
   "metadata": {},
   "outputs": [],
   "source": [
    "response = executor.execute(req)"
   ]
  },
  {
   "cell_type": "code",
   "execution_count": null,
   "metadata": {},
   "outputs": [],
   "source": [
    "response.status()"
   ]
  },
  {
   "cell_type": "code",
   "execution_count": null,
   "metadata": {},
   "outputs": [],
   "source": []
  },
  {
   "cell_type": "code",
   "execution_count": null,
   "metadata": {},
   "outputs": [],
   "source": []
  },
  {
   "cell_type": "code",
   "execution_count": null,
   "metadata": {},
   "outputs": [],
   "source": [
    "data = response.download('x.csv')"
   ]
  },
  {
   "cell_type": "code",
   "execution_count": null,
   "metadata": {},
   "outputs": [],
   "source": []
  },
  {
   "cell_type": "code",
   "execution_count": null,
   "metadata": {},
   "outputs": [],
   "source": [
    "from lquant_remote import list_jobs"
   ]
  },
  {
   "cell_type": "code",
   "execution_count": null,
   "metadata": {},
   "outputs": [],
   "source": [
    "list_jobs(URL = 'http://rstudio3.luoquant.com', Key = '1234')"
   ]
  },
  {
   "cell_type": "code",
   "execution_count": null,
   "metadata": {},
   "outputs": [],
   "source": [
    "import numpy as np\n",
    "import pandas as pd\n",
    "import requests\n",
    "import json\n",
    "\n",
    "\n",
    "class RemoteMatrixData:\n",
    "    def __init__(self, matrix_data):\n",
    "        self.matrix_data = matrix_data\n",
    "        self.matrix = None\n",
    "    \n",
    "    def _type_(self):\n",
    "        return self.matrix_data['$type']\n",
    "    \n",
    "    def _values_(self):\n",
    "        return self.matrix_data['$values']\n",
    "    \n",
    "    def cols(self):\n",
    "        return self.matrix_data['$cols']\n",
    "    \n",
    "    def rows(self):\n",
    "        return self.matrix_data['$rows']\n",
    "    \n",
    "    def dates(self):\n",
    "        return self.matrix_data['$colnames']\n",
    "    \n",
    "    def ids(self):\n",
    "        return self.matrix_data['$rownames']\n",
    "    \n",
    "    def version(self):\n",
    "        return self.matrix_data['$version']\n",
    "    \n",
    "    def as_matrix(self):\n",
    "        if self.matrix is not None:\n",
    "            return self.matrix\n",
    "        m1 = np.asmatrix(np.array(self._values_()).reshape((self.cols(),-1)).transpose())\n",
    "        df = pd.DataFrame(m1, index = self.ids(), columns = self.dates())\n",
    "        self.matrix = df\n",
    "        return self.matrix\n",
    "    \n",
    "    def vals(self, dates: str):\n",
    "        return self.as_matrix().loc[:,dates]\n",
    "    \n",
    "    def flat_vals(self,dates):\n",
    "        return self.vals(dates).values.T.flatten()\n",
    "    \n",
    "class RemoteFactorData:\n",
    "    def __init__(self, factor_data):\n",
    "        names = factor_data['$names']\n",
    "        values = factor_data['$values']\n",
    "        self.names = names\n",
    "        self.factor_data = { names[i] : RemoteMatrixData(values[i]) for i in range(len(names)) }\n",
    "        \n",
    "    def as_large_data_frame(self, dates = None, cols = None):\n",
    "        first = self.factor_data[self.names[0]]\n",
    "        if dates is None:\n",
    "            dates = first.dates()\n",
    "        if cols is None:\n",
    "            cols = self.names\n",
    "            \n",
    "        ids =  first.ids()\n",
    "        flat_dates = [c for c in dates for _ in range(len(ids))]\n",
    "        df = pd.DataFrame({\"DATE\": flat_dates, \"ID\": list(ids)*len(dates)})\n",
    "        for n1 in cols:\n",
    "            df[n1] = self.factor_data[n1].flat_vals(dates)\n",
    "        return df\n",
    "    \n",
    "    def __getitem__(self, key):\n",
    "        return self.factor_data[key]\n",
    "\n",
    "                \n",
    "        \n",
    "\n",
    "class RemoteDataRequest:\n",
    "    \n",
    "    def __init__(self):\n",
    "        self.json = {}\n",
    "    \n",
    "    def runFor(self, universeId: str):\n",
    "        self.json['universeId'] = universeId\n",
    "        return self\n",
    "    \n",
    "    def start(self, startDate: str):\n",
    "        self.json['startTime'] = startDate\n",
    "        return self\n",
    "    \n",
    "    def to(self, endDate: str):\n",
    "        self.json['endTime'] = endDate\n",
    "        return self\n",
    "    \n",
    "    def at(self, frequency):\n",
    "        self.json['rawFrequency'] = frequency\n",
    "        return self\n",
    "    \n",
    "    def addForwardReturn(self):\n",
    "        self.json['addForwardReturn'] = True\n",
    "        return self\n",
    "    \n",
    "    def attr(self, attributes):\n",
    "        self.json['attributes'] = attributes\n",
    "        return self\n",
    "    \n",
    "    def outfile(self, outfile):\n",
    "        self.json['outfile'] = outfile\n",
    "        return self\n",
    "    \n",
    "    def weekdaysOnly(self):\n",
    "        self.json['weekdaysOnly'] = True\n",
    "        return self\n",
    "    \n",
    "def execute_remote(URL: str, Key: str, request: RemoteDataRequest):\n",
    "    url = \"{}/lquant/api/factor/data\".format(URL)\n",
    "    payload = json.dumps(request.json)\n",
    "    headers = {\n",
    "        'Auth-Key': '1234',\n",
    "        'Content-Type': 'application/json'\n",
    "    }\n",
    "    response = requests.request(\"POST\", url, headers=headers, data=payload)\n",
    "    if response.ok:\n",
    "        data = json.loads(response.content.decode('ascii'))\n",
    "        data = data[list(data.keys())[0]]\n",
    "        return RemoteFactorData(data)\n",
    "    else:\n",
    "        raise Exception(\"Error occurred == {}\".format(response.content.decode('ascii')))\n",
    "        \n",
    "    "
   ]
  },
  {
   "cell_type": "code",
   "execution_count": null,
   "metadata": {},
   "outputs": [],
   "source": []
  },
  {
   "cell_type": "code",
   "execution_count": null,
   "metadata": {},
   "outputs": [],
   "source": []
  },
  {
   "cell_type": "code",
   "execution_count": null,
   "metadata": {},
   "outputs": [],
   "source": []
  },
  {
   "cell_type": "code",
   "execution_count": null,
   "metadata": {},
   "outputs": [],
   "source": []
  },
  {
   "cell_type": "code",
   "execution_count": null,
   "metadata": {},
   "outputs": [],
   "source": [
    "factors = data['$names']\n",
    "values = data['$values']\n"
   ]
  },
  {
   "cell_type": "code",
   "execution_count": null,
   "metadata": {},
   "outputs": [],
   "source": [
    "data.keys()"
   ]
  },
  {
   "cell_type": "code",
   "execution_count": null,
   "metadata": {},
   "outputs": [],
   "source": [
    "content.keys()"
   ]
  },
  {
   "cell_type": "code",
   "execution_count": null,
   "metadata": {},
   "outputs": [],
   "source": [
    "import numpy as np\n",
    "import pandas as pd\n",
    "\n",
    "\n",
    "class RemoteMatrixData:\n",
    "    def __init__(self, matrix_data):\n",
    "        self.matrix_data = matrix_data\n",
    "        self.matrix = None\n",
    "    \n",
    "    def _type_(self):\n",
    "        return self.matrix_data['$type']\n",
    "    \n",
    "    def _values_(self):\n",
    "        return self.matrix_data['$values']\n",
    "    \n",
    "    def cols(self):\n",
    "        return self.matrix_data['$cols']\n",
    "    \n",
    "    def rows(self):\n",
    "        return self.matrix_data['$rows']\n",
    "    \n",
    "    def dates(self):\n",
    "        return self.matrix_data['$colnames']\n",
    "    \n",
    "    def ids(self):\n",
    "        return self.matrix_data['$rownames']\n",
    "    \n",
    "    def version(self):\n",
    "        return self.matrix_data['$version']\n",
    "    \n",
    "    def to_df(self):\n",
    "        if self.matrix is not None:\n",
    "            return self.matrix\n",
    "        m1 = np.asmatrix(np.array(self._values_()).reshape((self.cols(),-1)).transpose())\n",
    "        df = pd.DataFrame(m1, index = self.ids(), columns = self.dates())\n",
    "        self.matrix = df\n",
    "        return self.matrix\n",
    "    \n",
    "    def vals(self, dates: str):\n",
    "        return self.to_df().loc[:,dates]\n",
    "    \n",
    "    def flat_vals(self,dates):\n",
    "        return self.vals(dates).values.T.flatten()\n",
    "    \n",
    "class RemoteFactorData:\n",
    "    def __init__(self, factor_data):\n",
    "        names = factor_data['$names']\n",
    "        values = factor_data['$values']\n",
    "        self.names = names\n",
    "        self.factor_data = { names[i] : RemoteMatrixData(values[i]) for i in range(len(names)) }\n",
    "        \n",
    "    def get_flat_df(self, dates = None, cols = None):\n",
    "        first = self.factor_data[self.names[0]]\n",
    "        if dates is None:\n",
    "            dates = first.dates()\n",
    "        if cols is None:\n",
    "            cols = self.names\n",
    "            \n",
    "        ids =  first.ids()\n",
    "        flat_dates = [c for c in dates for _ in range(len(ids))]\n",
    "        df = pd.DataFrame({\"DATE\": flat_dates, \"ID\": list(ids)*len(dates)})\n",
    "        for n1 in cols:\n",
    "            df[n1] = self.factor_data[n1].flat_vals(dates)\n",
    "        return df\n",
    "        \n",
    "class RemoteLQuantFactorAPI:\n",
    "    def __init__(self, URL, Key):\n",
    "        self.URL = URL\n",
    "        \n",
    "        \n",
    "        \n",
    "\n",
    "    "
   ]
  },
  {
   "cell_type": "code",
   "execution_count": null,
   "metadata": {},
   "outputs": [],
   "source": [
    "factor_data = RemoteFactorData(data)"
   ]
  },
  {
   "cell_type": "code",
   "execution_count": null,
   "metadata": {},
   "outputs": [],
   "source": [
    "x = factor_data.get_flat_df(dates = None, cols = ['ROE','PRCCD'])"
   ]
  },
  {
   "cell_type": "code",
   "execution_count": null,
   "metadata": {},
   "outputs": [],
   "source": [
    "x"
   ]
  },
  {
   "cell_type": "code",
   "execution_count": null,
   "metadata": {},
   "outputs": [],
   "source": [
    "factor_data.factor_data['CUM_DIV'].vals('2021-01-31')"
   ]
  },
  {
   "cell_type": "code",
   "execution_count": null,
   "metadata": {},
   "outputs": [],
   "source": [
    "matrix = RemoteMatrixData(v1)"
   ]
  },
  {
   "cell_type": "code",
   "execution_count": null,
   "metadata": {},
   "outputs": [],
   "source": [
    "n1 = ['a','b','c','d']\n",
    "\n",
    "{ n1[i] : i for i in range(4) }\n",
    "\n",
    "#map(lambda:i, range(4))"
   ]
  },
  {
   "cell_type": "code",
   "execution_count": null,
   "metadata": {},
   "outputs": [],
   "source": [
    "matrix.vals('2020-01-31')"
   ]
  },
  {
   "cell_type": "code",
   "execution_count": null,
   "metadata": {},
   "outputs": [],
   "source": [
    "data = json.loads(response.text)"
   ]
  },
  {
   "cell_type": "code",
   "execution_count": null,
   "metadata": {},
   "outputs": [],
   "source": []
  },
  {
   "cell_type": "code",
   "execution_count": null,
   "metadata": {},
   "outputs": [],
   "source": [
    "key = list(data.keys())[0]\n",
    "data = data[key]\n",
    "factors = data['$names']\n",
    "values = data['$values']"
   ]
  },
  {
   "cell_type": "code",
   "execution_count": null,
   "metadata": {},
   "outputs": [],
   "source": [
    "v1 = values[0]"
   ]
  },
  {
   "cell_type": "code",
   "execution_count": null,
   "metadata": {},
   "outputs": [],
   "source": [
    "data.keys()"
   ]
  },
  {
   "cell_type": "code",
   "execution_count": null,
   "metadata": {},
   "outputs": [],
   "source": [
    "v1['$type']"
   ]
  },
  {
   "cell_type": "code",
   "execution_count": null,
   "metadata": {},
   "outputs": [],
   "source": [
    "dates = v1['$colnames']\n",
    "ids = v1['$rownames']\n",
    "vals = v1['$values']"
   ]
  },
  {
   "cell_type": "code",
   "execution_count": null,
   "metadata": {},
   "outputs": [],
   "source": [
    "len(ids)\n",
    "len(dates)"
   ]
  },
  {
   "cell_type": "code",
   "execution_count": null,
   "metadata": {},
   "outputs": [],
   "source": [
    "import numpy as np\n",
    "import pandas as pd\n",
    "pd.DataFrame(np.asmatrix(np.array(vals).reshape((26,547))))"
   ]
  }
 ],
 "metadata": {
  "kernelspec": {
   "display_name": "Python 3",
   "language": "python",
   "name": "python3"
  },
  "language_info": {
   "codemirror_mode": {
    "name": "ipython",
    "version": 3
   },
   "file_extension": ".py",
   "mimetype": "text/x-python",
   "name": "python",
   "nbconvert_exporter": "python",
   "pygments_lexer": "ipython3",
   "version": "3.5.2"
  }
 },
 "nbformat": 4,
 "nbformat_minor": 2
}
